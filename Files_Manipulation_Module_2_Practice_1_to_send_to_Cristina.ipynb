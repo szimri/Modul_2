{
  "cells": [
    {
      "cell_type": "markdown",
      "metadata": {
        "id": "view-in-github",
        "colab_type": "text"
      },
      "source": [
        "<a href=\"https://colab.research.google.com/github/szimri/Modul_2/blob/main/Files_Manipulation_Module_2_Practice_1_to_send_to_Cristina.ipynb\" target=\"_parent\"><img src=\"https://colab.research.google.com/assets/colab-badge.svg\" alt=\"Open In Colab\"/></a>"
      ]
    },
    {
      "cell_type": "markdown",
      "metadata": {
        "id": "bDYb4uuwZ2xh"
      },
      "source": [
        "# 1.&nbsp;Set Up"
      ]
    },
    {
      "cell_type": "markdown",
      "source": [
        "This is an adaption from Sparow to Google Collab"
      ],
      "metadata": {
        "id": "Ns1SoSTJu-28"
      }
    },
    {
      "cell_type": "code",
      "execution_count": null,
      "metadata": {
        "id": "_NXz7PBlN_KU"
      },
      "outputs": [],
      "source": [
        "# Import Libraries\n",
        "import os\n",
        "import glob\n",
        "import shutil\n",
        "import sys\n",
        "from pathlib import Path\n",
        "import pandas as pd"
      ]
    },
    {
      "cell_type": "code",
      "execution_count": null,
      "metadata": {
        "id": "8GkeyXnRAA_-",
        "outputId": "87615bf4-e1b8-4afe-bab8-52363aeb430f",
        "colab": {
          "base_uri": "https://localhost:8080/"
        }
      },
      "outputs": [
        {
          "output_type": "stream",
          "name": "stdout",
          "text": [
            "Drive already mounted at /content/gdrive; to attempt to forcibly remount, call drive.mount(\"/content/gdrive\", force_remount=True).\n"
          ]
        }
      ],
      "source": [
        "# Accessing Google Drive from Google Colab\n",
        "\n",
        "from google.colab import drive \n",
        "drive.mount('/content/gdrive')\n"
      ]
    },
    {
      "cell_type": "markdown",
      "metadata": {
        "id": "u1Ow-Eg4YHZA"
      },
      "source": [
        "# 2.&nbsp;Paths : CWD, Absolute vs Relative paths"
      ]
    },
    {
      "cell_type": "markdown",
      "metadata": {
        "id": "lqaHbSJVl6_p"
      },
      "source": [
        "## CWD: current working directory"
      ]
    },
    {
      "cell_type": "code",
      "execution_count": null,
      "metadata": {
        "id": "bbKBUTlTYHZB"
      },
      "outputs": [],
      "source": [
        "# get absolute path to current working directory\n",
        "\n",
        "\n",
        "print('The current working directory is : ')\n",
        "os.getcwd() "
      ]
    },
    {
      "cell_type": "code",
      "execution_count": null,
      "metadata": {
        "id": "HOSQo6ofYZIi",
        "outputId": "9d2f0f3d-0ee7-4000-e624-21559e2e9df0",
        "colab": {
          "base_uri": "https://localhost:8080/",
          "height": 35
        }
      },
      "outputs": [
        {
          "output_type": "execute_result",
          "data": {
            "text/plain": [
              "'/content'"
            ],
            "application/vnd.google.colaboratory.intrinsic+json": {
              "type": "string"
            }
          },
          "metadata": {},
          "execution_count": 4
        }
      ],
      "source": [
        "# save current working directory as cwd\n",
        "\n",
        "#change directory to 'Excel_Automation_Python' folder\n",
        "\n",
        "cwd = os.getcwd()\n",
        "cwd"
      ]
    },
    {
      "cell_type": "code",
      "execution_count": null,
      "metadata": {
        "id": "YAud5pWJjR7D",
        "outputId": "8a69b0ac-606a-4e6c-940b-38c17b97fa96",
        "colab": {
          "base_uri": "https://localhost:8080/"
        }
      },
      "outputs": [
        {
          "output_type": "execute_result",
          "data": {
            "text/plain": [
              "['.config', 'gdrive', 'sample_data']"
            ]
          },
          "metadata": {},
          "execution_count": 5
        }
      ],
      "source": [
        "# List all files and directories in current directory\n",
        "\n",
        "os.listdir('.') #  ==> we have 3 directories : config, gdrive, sample_data and other files"
      ]
    },
    {
      "cell_type": "code",
      "source": [
        "# just in case if you rerun the notebook and you already have the excel files uploaded\n",
        "# ..comment out an run this cell evetually\n",
        "\n",
        "# os.unlink('UK_old.xlsx')\n",
        "# os.unlink('UK.xlsx')\n",
        "# os.unlink('FR.xlsx')\n",
        "# os.unlink('DE.xlsx')"
      ],
      "metadata": {
        "id": "92LhXyk3DePy"
      },
      "execution_count": null,
      "outputs": []
    },
    {
      "cell_type": "code",
      "execution_count": null,
      "metadata": {
        "id": "aRUp1uLfjgcx",
        "outputId": "fa3fb872-c29d-4bd3-db4e-e83c90649ba9",
        "colab": {
          "base_uri": "https://localhost:8080/"
        }
      },
      "outputs": [
        {
          "output_type": "stream",
          "name": "stdout",
          "text": [
            "['README.md', 'anscombe.json', 'mnist_test.csv', 'california_housing_test.csv', 'mnist_train_small.csv', 'california_housing_train.csv']\n"
          ]
        }
      ],
      "source": [
        "# check containing in sample_data directory\n",
        "\n",
        "print(os.listdir('sample_data'))"
      ]
    },
    {
      "cell_type": "code",
      "source": [
        "# check containing in 'gdrive' directory\n",
        "\n",
        "print(os.listdir('gdrive'))"
      ],
      "metadata": {
        "colab": {
          "base_uri": "https://localhost:8080/"
        },
        "id": "eOPQOUk5wo6t",
        "outputId": "e23b7939-c179-41e6-cf3b-6c5c5cd3ccf8"
      },
      "execution_count": null,
      "outputs": [
        {
          "output_type": "stream",
          "name": "stdout",
          "text": [
            "['.file-revisions-by-id', 'MyDrive', '.shortcut-targets-by-id', '.Trash-0']\n"
          ]
        }
      ]
    },
    {
      "cell_type": "code",
      "source": [
        "# check containing in 'MyDrive' directory  in gdrive' folder\n",
        "\n",
        "print(os.listdir('gdrive/MyDrive'))"
      ],
      "metadata": {
        "colab": {
          "base_uri": "https://localhost:8080/"
        },
        "id": "O5XArGsew366",
        "outputId": "f0383924-63e5-4d8f-8a76-e8dfea08904c"
      },
      "execution_count": null,
      "outputs": [
        {
          "output_type": "stream",
          "name": "stdout",
          "text": [
            "['Colab Notebooks', 'Raw_Files', 'New_Folder', 'Raw_Excel_Files']\n"
          ]
        }
      ]
    },
    {
      "cell_type": "code",
      "source": [
        "# os.unlink('gdrive/MyDrive/UK_old.xlsx')\n",
        "# os.unlink('gdrive/MyDrive/UK.xlsx')\n",
        "# os.unlink('gdrive/MyDrive/FR.xlsx')\n",
        "# os.unlink('gdrive/MyDrive/DE.xlsx')"
      ],
      "metadata": {
        "id": "7u-sWXHwLLgL"
      },
      "execution_count": null,
      "outputs": []
    },
    {
      "cell_type": "markdown",
      "metadata": {
        "id": "1NeODryrmHWC"
      },
      "source": [
        "## Paths: Absolute & Relative"
      ]
    },
    {
      "cell_type": "markdown",
      "metadata": {
        "id": "JSOoWIiOk4Jw"
      },
      "source": [
        "**Absolute file paths** are notated by a leading forward slash or drive label. For example, /home/example_user/example_directory or C:/system32/cmd.exe. An absolute file path describes how to access a given file or directory, starting from the root of the file system. A file path is also called a pathname.\n"
      ]
    },
    {
      "cell_type": "code",
      "execution_count": null,
      "metadata": {
        "id": "W1nieMycjfI6",
        "outputId": "b4443f91-bbcd-4f4c-b691-1ad8427ae7dc",
        "colab": {
          "base_uri": "https://localhost:8080/"
        }
      },
      "outputs": [
        {
          "output_type": "stream",
          "name": "stdout",
          "text": [
            "In content directory we have :  ['.config', 'gdrive', 'sample_data']\n",
            "In gdrive directory we have :  ['.file-revisions-by-id', 'MyDrive', '.shortcut-targets-by-id', '.Trash-0']\n",
            "In gdrive/MyDrive directory we have :  ['Colab Notebooks', 'Raw_Files', 'New_Folder', 'Raw_Excel_Files']\n",
            "In gdrive/MyDrive/Colab Notebooks directory we have :  ['Copy of Python_Basics_Module_1_back_up.ipynb', 'Python_Basics_Module_1_back_up.ipynb', 'Copy of Python_Basics_Module_3_back_up.ipynb', 'Files_Manipulation_Module_2_Practice 1.ipynb', 'Copy of Files_Manipulation_Module_2_Practice_1 (1).ipynb', 'Copy of Files_Manipulation_Module_2_Practice_1.ipynb']\n"
          ]
        }
      ],
      "source": [
        "# check conaining in directory with aboslute path\n",
        "\n",
        "# containing of '/content' directory\n",
        "print('In content directory we have : ', os.listdir('/content')) \n",
        "\n",
        "# containing of 'gdrive' directory\n",
        "print('In gdrive directory we have : ', os.listdir('/content/gdrive')) \n",
        "\n",
        "# containing of 'gdrive/MyDrive' directory\n",
        "print('In gdrive/MyDrive directory we have : ', os.listdir('/content/gdrive/MyDrive'))\n",
        "\n",
        "# containing of 'gdrive/MyDrive/Colab Notebooks' directory\n",
        "print('In gdrive/MyDrive/Colab Notebooks directory we have : ', os.listdir('/content/gdrive/MyDrive/Colab Notebooks'))"
      ]
    },
    {
      "cell_type": "code",
      "execution_count": null,
      "metadata": {
        "id": "aAQsaxMnurY9",
        "outputId": "3dd8dc72-c6d1-4f4c-92d3-fb3b087120dd",
        "colab": {
          "base_uri": "https://localhost:8080/",
          "height": 35
        }
      },
      "outputs": [
        {
          "output_type": "execute_result",
          "data": {
            "text/plain": [
              "'/content/gdrive/MyDrive'"
            ],
            "application/vnd.google.colaboratory.intrinsic+json": {
              "type": "string"
            }
          },
          "metadata": {},
          "execution_count": 12
        }
      ],
      "source": [
        "# the absolute path for MyDrive directory is :\n",
        "\n",
        "absolute_path = '/content/gdrive/MyDrive'\n",
        "absolute_path"
      ]
    },
    {
      "cell_type": "markdown",
      "metadata": {
        "id": "ZkNB-oRjlG7U"
      },
      "source": [
        "**Relative file paths** are notated by a lack of a leading forward slash. For example, example_directory. A relative file path is interpreted from the perspective your current working directory. If you use a relative file path from the wrong directory, then the path will refer to a different file than you intend, or it will refer to no file at all."
      ]
    },
    {
      "cell_type": "code",
      "execution_count": null,
      "metadata": {
        "id": "xAzsO-X7urY-",
        "outputId": "1f9f0071-ce51-447a-86e9-c756c51d8979",
        "colab": {
          "base_uri": "https://localhost:8080/"
        }
      },
      "outputs": [
        {
          "output_type": "stream",
          "name": "stdout",
          "text": [
            "our courrent working directory is:  /content\n",
            "\n",
            "absolute path to MyDrive:  /content/gdrive/MyDrive\n",
            "\n",
            "relative path to MyDrive:  gdrive/MyDrive\n"
          ]
        }
      ],
      "source": [
        "# relative path don't need to use the whole absolute path, only path after the current directory path\n",
        "\n",
        "print(\"our courrent working directory is: \", cwd)\n",
        "print('')\n",
        "\n",
        "print(\"absolute path to MyDrive: \", absolute_path)\n",
        "print('')\n",
        "\n",
        "# the relative path for MyDrive directory, (we won't need to add /content/ in the path)\n",
        "relative_path = 'gdrive/MyDrive'\n",
        "print(\"relative path to MyDrive: \", relative_path)"
      ]
    },
    {
      "cell_type": "code",
      "execution_count": null,
      "metadata": {
        "id": "PmCZ28V6jz21"
      },
      "outputs": [],
      "source": [
        "# delete a notebook from Colab Notebook ==> Name_Notebook.ipynb after '/content/gdrive/MyDrive/Colab Notebooks/ + Name_Notebook.ipynb'\n",
        "\n",
        "# os.unlink('/content/gdrive/MyDrive/Colab Notebooks/Copy of Fille_Manipulation_Module_2_Practice.ipynb') # relative path as UK_old in the working directory\n"
      ]
    },
    {
      "cell_type": "markdown",
      "metadata": {
        "id": "YMsZrwvkmRWB"
      },
      "source": [
        "## Import files"
      ]
    },
    {
      "cell_type": "code",
      "execution_count": null,
      "metadata": {
        "id": "vMtWKHrYDYdH"
      },
      "outputs": [],
      "source": [
        "# import files into google Colab\n",
        "from google.colab import files\n"
      ]
    },
    {
      "cell_type": "code",
      "execution_count": null,
      "metadata": {
        "id": "_H0qa3TEP5n7",
        "outputId": "421a9a0c-5dca-4306-f088-af2ee3dd7390",
        "colab": {
          "base_uri": "https://localhost:8080/",
          "height": 176
        }
      },
      "outputs": [
        {
          "output_type": "display_data",
          "data": {
            "text/plain": [
              "<IPython.core.display.HTML object>"
            ],
            "text/html": [
              "\n",
              "     <input type=\"file\" id=\"files-fdcf80d6-dc35-467f-9d46-8890984f08f5\" name=\"files[]\" multiple disabled\n",
              "        style=\"border:none\" />\n",
              "     <output id=\"result-fdcf80d6-dc35-467f-9d46-8890984f08f5\">\n",
              "      Upload widget is only available when the cell has been executed in the\n",
              "      current browser session. Please rerun this cell to enable.\n",
              "      </output>\n",
              "      <script>// Copyright 2017 Google LLC\n",
              "//\n",
              "// Licensed under the Apache License, Version 2.0 (the \"License\");\n",
              "// you may not use this file except in compliance with the License.\n",
              "// You may obtain a copy of the License at\n",
              "//\n",
              "//      http://www.apache.org/licenses/LICENSE-2.0\n",
              "//\n",
              "// Unless required by applicable law or agreed to in writing, software\n",
              "// distributed under the License is distributed on an \"AS IS\" BASIS,\n",
              "// WITHOUT WARRANTIES OR CONDITIONS OF ANY KIND, either express or implied.\n",
              "// See the License for the specific language governing permissions and\n",
              "// limitations under the License.\n",
              "\n",
              "/**\n",
              " * @fileoverview Helpers for google.colab Python module.\n",
              " */\n",
              "(function(scope) {\n",
              "function span(text, styleAttributes = {}) {\n",
              "  const element = document.createElement('span');\n",
              "  element.textContent = text;\n",
              "  for (const key of Object.keys(styleAttributes)) {\n",
              "    element.style[key] = styleAttributes[key];\n",
              "  }\n",
              "  return element;\n",
              "}\n",
              "\n",
              "// Max number of bytes which will be uploaded at a time.\n",
              "const MAX_PAYLOAD_SIZE = 100 * 1024;\n",
              "\n",
              "function _uploadFiles(inputId, outputId) {\n",
              "  const steps = uploadFilesStep(inputId, outputId);\n",
              "  const outputElement = document.getElementById(outputId);\n",
              "  // Cache steps on the outputElement to make it available for the next call\n",
              "  // to uploadFilesContinue from Python.\n",
              "  outputElement.steps = steps;\n",
              "\n",
              "  return _uploadFilesContinue(outputId);\n",
              "}\n",
              "\n",
              "// This is roughly an async generator (not supported in the browser yet),\n",
              "// where there are multiple asynchronous steps and the Python side is going\n",
              "// to poll for completion of each step.\n",
              "// This uses a Promise to block the python side on completion of each step,\n",
              "// then passes the result of the previous step as the input to the next step.\n",
              "function _uploadFilesContinue(outputId) {\n",
              "  const outputElement = document.getElementById(outputId);\n",
              "  const steps = outputElement.steps;\n",
              "\n",
              "  const next = steps.next(outputElement.lastPromiseValue);\n",
              "  return Promise.resolve(next.value.promise).then((value) => {\n",
              "    // Cache the last promise value to make it available to the next\n",
              "    // step of the generator.\n",
              "    outputElement.lastPromiseValue = value;\n",
              "    return next.value.response;\n",
              "  });\n",
              "}\n",
              "\n",
              "/**\n",
              " * Generator function which is called between each async step of the upload\n",
              " * process.\n",
              " * @param {string} inputId Element ID of the input file picker element.\n",
              " * @param {string} outputId Element ID of the output display.\n",
              " * @return {!Iterable<!Object>} Iterable of next steps.\n",
              " */\n",
              "function* uploadFilesStep(inputId, outputId) {\n",
              "  const inputElement = document.getElementById(inputId);\n",
              "  inputElement.disabled = false;\n",
              "\n",
              "  const outputElement = document.getElementById(outputId);\n",
              "  outputElement.innerHTML = '';\n",
              "\n",
              "  const pickedPromise = new Promise((resolve) => {\n",
              "    inputElement.addEventListener('change', (e) => {\n",
              "      resolve(e.target.files);\n",
              "    });\n",
              "  });\n",
              "\n",
              "  const cancel = document.createElement('button');\n",
              "  inputElement.parentElement.appendChild(cancel);\n",
              "  cancel.textContent = 'Cancel upload';\n",
              "  const cancelPromise = new Promise((resolve) => {\n",
              "    cancel.onclick = () => {\n",
              "      resolve(null);\n",
              "    };\n",
              "  });\n",
              "\n",
              "  // Wait for the user to pick the files.\n",
              "  const files = yield {\n",
              "    promise: Promise.race([pickedPromise, cancelPromise]),\n",
              "    response: {\n",
              "      action: 'starting',\n",
              "    }\n",
              "  };\n",
              "\n",
              "  cancel.remove();\n",
              "\n",
              "  // Disable the input element since further picks are not allowed.\n",
              "  inputElement.disabled = true;\n",
              "\n",
              "  if (!files) {\n",
              "    return {\n",
              "      response: {\n",
              "        action: 'complete',\n",
              "      }\n",
              "    };\n",
              "  }\n",
              "\n",
              "  for (const file of files) {\n",
              "    const li = document.createElement('li');\n",
              "    li.append(span(file.name, {fontWeight: 'bold'}));\n",
              "    li.append(span(\n",
              "        `(${file.type || 'n/a'}) - ${file.size} bytes, ` +\n",
              "        `last modified: ${\n",
              "            file.lastModifiedDate ? file.lastModifiedDate.toLocaleDateString() :\n",
              "                                    'n/a'} - `));\n",
              "    const percent = span('0% done');\n",
              "    li.appendChild(percent);\n",
              "\n",
              "    outputElement.appendChild(li);\n",
              "\n",
              "    const fileDataPromise = new Promise((resolve) => {\n",
              "      const reader = new FileReader();\n",
              "      reader.onload = (e) => {\n",
              "        resolve(e.target.result);\n",
              "      };\n",
              "      reader.readAsArrayBuffer(file);\n",
              "    });\n",
              "    // Wait for the data to be ready.\n",
              "    let fileData = yield {\n",
              "      promise: fileDataPromise,\n",
              "      response: {\n",
              "        action: 'continue',\n",
              "      }\n",
              "    };\n",
              "\n",
              "    // Use a chunked sending to avoid message size limits. See b/62115660.\n",
              "    let position = 0;\n",
              "    do {\n",
              "      const length = Math.min(fileData.byteLength - position, MAX_PAYLOAD_SIZE);\n",
              "      const chunk = new Uint8Array(fileData, position, length);\n",
              "      position += length;\n",
              "\n",
              "      const base64 = btoa(String.fromCharCode.apply(null, chunk));\n",
              "      yield {\n",
              "        response: {\n",
              "          action: 'append',\n",
              "          file: file.name,\n",
              "          data: base64,\n",
              "        },\n",
              "      };\n",
              "\n",
              "      let percentDone = fileData.byteLength === 0 ?\n",
              "          100 :\n",
              "          Math.round((position / fileData.byteLength) * 100);\n",
              "      percent.textContent = `${percentDone}% done`;\n",
              "\n",
              "    } while (position < fileData.byteLength);\n",
              "  }\n",
              "\n",
              "  // All done.\n",
              "  yield {\n",
              "    response: {\n",
              "      action: 'complete',\n",
              "    }\n",
              "  };\n",
              "}\n",
              "\n",
              "scope.google = scope.google || {};\n",
              "scope.google.colab = scope.google.colab || {};\n",
              "scope.google.colab._files = {\n",
              "  _uploadFiles,\n",
              "  _uploadFilesContinue,\n",
              "};\n",
              "})(self);\n",
              "</script> "
            ]
          },
          "metadata": {}
        },
        {
          "output_type": "stream",
          "name": "stdout",
          "text": [
            "Saving DE.xlsx to DE.xlsx\n",
            "Saving FR.xlsx to FR.xlsx\n",
            "Saving UK.xlsx to UK.xlsx\n",
            "Saving UK_old.xlsx to UK_old.xlsx\n"
          ]
        }
      ],
      "source": [
        "# upload excels from your downloads : excel files \"DE.xlsx\", 'UK.xlsx\", 'FR.xlsx' and 'UK_old.xlsx'\n",
        "# ... the ones you downloaded from github https://github.com/datalover2023/Module_2\n",
        "\n",
        "\n",
        "uploaded = files.upload()"
      ]
    },
    {
      "cell_type": "code",
      "execution_count": null,
      "metadata": {
        "id": "G-CfZN5wYvew",
        "outputId": "ee94b5f3-eafe-4989-bf40-d73f89c82872",
        "colab": {
          "base_uri": "https://localhost:8080/"
        }
      },
      "outputs": [
        {
          "output_type": "execute_result",
          "data": {
            "text/plain": [
              "['.config',\n",
              " 'UK_old.xlsx',\n",
              " 'gdrive',\n",
              " 'DE.xlsx',\n",
              " 'FR.xlsx',\n",
              " 'UK.xlsx',\n",
              " 'sample_data']"
            ]
          },
          "metadata": {},
          "execution_count": 17
        }
      ],
      "source": [
        "# List all files and directories in current directory\n",
        "# you can see that the excel files were upload in your cwd\n",
        "\n",
        "os.listdir('.')"
      ]
    },
    {
      "cell_type": "markdown",
      "metadata": {
        "id": "bPlad8w9_dfJ"
      },
      "source": [
        "# 3.&nbsp;Folder hierarchy tree"
      ]
    },
    {
      "cell_type": "markdown",
      "source": [
        "To have a better feeling of the containing of your current working directory (cwd), it will be good to visualize the files hierarchy / organization in a single glimpse.\n",
        "\n",
        "To do so, here below the creation of the function **folder_tree()** that will help us to do so"
      ],
      "metadata": {
        "id": "XijsO8p12i9F"
      }
    },
    {
      "cell_type": "markdown",
      "source": [
        "**folder_tree()**"
      ],
      "metadata": {
        "id": "nhl-tdfE3X5i"
      }
    },
    {
      "cell_type": "code",
      "execution_count": null,
      "metadata": {
        "id": "74BL7BcF_dfK"
      },
      "outputs": [],
      "source": [
        "# create a function << folder tree >> to display the the hierarchy of your cwd\n",
        "\n",
        "def folder_tree(folder):\n",
        "    for dirpath, dirs, files in os.walk(cwd):\t \n",
        "        if 'checkpoints' not in dirpath:\n",
        "                path = dirpath.split('/')     \n",
        "                print ('|', (len(path))*'--', '>',os.path.basename(dirpath),':')\n",
        "                for f in files:\n",
        "                    print ('|', len(path)*'------', f)\n",
        "                      "
      ]
    },
    {
      "cell_type": "code",
      "source": [
        "# call function folder_tree on your cwd\n",
        "\n",
        "folder_tree(cwd)"
      ],
      "metadata": {
        "colab": {
          "base_uri": "https://localhost:8080/"
        },
        "id": "GKd9SFog3u2U",
        "outputId": "76747b1a-56bd-4030-b7c8-3be53906406f"
      },
      "execution_count": null,
      "outputs": [
        {
          "output_type": "stream",
          "name": "stdout",
          "text": [
            "| ---- > content :\n",
            "| ------------ UK_old.xlsx\n",
            "| ------------ DE.xlsx\n",
            "| ------------ FR.xlsx\n",
            "| ------------ UK.xlsx\n",
            "| ------ > .config :\n",
            "| ------------------ .last_opt_in_prompt.yaml\n",
            "| ------------------ config_sentinel\n",
            "| ------------------ active_config\n",
            "| ------------------ .last_update_check.json\n",
            "| ------------------ gce\n",
            "| ------------------ .last_survey_prompt.yaml\n",
            "| -------- > configurations :\n",
            "| ------------------------ config_default\n",
            "| -------- > logs :\n",
            "| ---------- > 2023.03.09 :\n",
            "| ------------------------------ 18.58.08.382774.log\n",
            "| ------------------------------ 18.56.44.754561.log\n",
            "| ------------------------------ 18.58.07.603569.log\n",
            "| ------------------------------ 18.57.10.794840.log\n",
            "| ------------------------------ 18.57.42.956897.log\n",
            "| ------------------------------ 18.57.34.727219.log\n",
            "| ------ > gdrive :\n",
            "| -------- > .file-revisions-by-id :\n",
            "| -------- > MyDrive :\n",
            "| ------------------------ Raw_Excel_Files\n",
            "| ---------- > Colab Notebooks :\n",
            "| ------------------------------ Copy of Python_Basics_Module_1_back_up.ipynb\n",
            "| ------------------------------ Python_Basics_Module_1_back_up.ipynb\n",
            "| ------------------------------ Copy of Python_Basics_Module_3_back_up.ipynb\n",
            "| ------------------------------ Files_Manipulation_Module_2_Practice 1.ipynb\n",
            "| ------------------------------ Copy of Files_Manipulation_Module_2_Practice_1 (1).ipynb\n",
            "| ------------------------------ Copy of Files_Manipulation_Module_2_Practice_1.ipynb\n",
            "| ---------- > Raw_Files :\n",
            "| ---------- > New_Folder :\n",
            "| ------------ > Inner_folder :\n",
            "| -------- > .shortcut-targets-by-id :\n",
            "| -------- > .Trash-0 :\n",
            "| ---------- > files :\n",
            "| ---------- > info :\n",
            "| ------ > sample_data :\n",
            "| ------------------ README.md\n",
            "| ------------------ anscombe.json\n",
            "| ------------------ mnist_test.csv\n",
            "| ------------------ california_housing_test.csv\n",
            "| ------------------ mnist_train_small.csv\n",
            "| ------------------ california_housing_train.csv\n"
          ]
        }
      ]
    },
    {
      "cell_type": "markdown",
      "source": [
        "**folder_tree_2()**"
      ],
      "metadata": {
        "id": "JH6Qg1Zp3h4V"
      }
    },
    {
      "cell_type": "code",
      "execution_count": null,
      "metadata": {
        "id": "knqRLZQ-Zavw"
      },
      "outputs": [],
      "source": [
        "# another way to explore your folder/files \n",
        "# create function << folder_tree_2 >>\n",
        "\n",
        "\n",
        "def folder_tree_2(folder):\n",
        "    for dirPath, dirNames, fileNames in os.walk(cwd, topdown=True):\n",
        "        if 'checkpoints' not in dirPath:\n",
        "            print(\"Directory Path: \", dirPath) \n",
        "            print(len(dirNames), \"Directories = \", dirNames )\n",
        "            print(len(fileNames), \"Files = \", fileNames )\n",
        "            print('-'*10)"
      ]
    },
    {
      "cell_type": "code",
      "source": [
        "# call function << folder_tree_2 >> on your cwd\n",
        "# it will return all Directory Paths with contained sub_directories and files\n",
        "# nb of sub_directories and files\n",
        "\n",
        "folder_tree_2(cwd)"
      ],
      "metadata": {
        "colab": {
          "base_uri": "https://localhost:8080/"
        },
        "id": "aNi6mgmI31lN",
        "outputId": "9567d49a-e37e-49cf-adde-8e552fb5d101"
      },
      "execution_count": null,
      "outputs": [
        {
          "output_type": "stream",
          "name": "stdout",
          "text": [
            "Directory Path:  /content\n",
            "3 Directories =  ['.config', 'gdrive', 'sample_data']\n",
            "4 Files =  ['UK_old.xlsx', 'DE.xlsx', 'FR.xlsx', 'UK.xlsx']\n",
            "----------\n",
            "Directory Path:  /content/.config\n",
            "2 Directories =  ['configurations', 'logs']\n",
            "6 Files =  ['.last_opt_in_prompt.yaml', 'config_sentinel', 'active_config', '.last_update_check.json', 'gce', '.last_survey_prompt.yaml']\n",
            "----------\n",
            "Directory Path:  /content/.config/configurations\n",
            "0 Directories =  []\n",
            "1 Files =  ['config_default']\n",
            "----------\n",
            "Directory Path:  /content/.config/logs\n",
            "1 Directories =  ['2023.03.09']\n",
            "0 Files =  []\n",
            "----------\n",
            "Directory Path:  /content/.config/logs/2023.03.09\n",
            "0 Directories =  []\n",
            "6 Files =  ['18.58.08.382774.log', '18.56.44.754561.log', '18.58.07.603569.log', '18.57.10.794840.log', '18.57.42.956897.log', '18.57.34.727219.log']\n",
            "----------\n",
            "Directory Path:  /content/gdrive\n",
            "4 Directories =  ['.file-revisions-by-id', 'MyDrive', '.shortcut-targets-by-id', '.Trash-0']\n",
            "0 Files =  []\n",
            "----------\n",
            "Directory Path:  /content/gdrive/.file-revisions-by-id\n",
            "0 Directories =  []\n",
            "0 Files =  []\n",
            "----------\n",
            "Directory Path:  /content/gdrive/MyDrive\n",
            "3 Directories =  ['Colab Notebooks', 'Raw_Files', 'New_Folder']\n",
            "1 Files =  ['Raw_Excel_Files']\n",
            "----------\n",
            "Directory Path:  /content/gdrive/MyDrive/Colab Notebooks\n",
            "0 Directories =  []\n",
            "6 Files =  ['Copy of Python_Basics_Module_1_back_up.ipynb', 'Python_Basics_Module_1_back_up.ipynb', 'Copy of Python_Basics_Module_3_back_up.ipynb', 'Files_Manipulation_Module_2_Practice 1.ipynb', 'Copy of Files_Manipulation_Module_2_Practice_1 (1).ipynb', 'Copy of Files_Manipulation_Module_2_Practice_1.ipynb']\n",
            "----------\n",
            "Directory Path:  /content/gdrive/MyDrive/Raw_Files\n",
            "0 Directories =  []\n",
            "0 Files =  []\n",
            "----------\n",
            "Directory Path:  /content/gdrive/MyDrive/New_Folder\n",
            "1 Directories =  ['Inner_folder']\n",
            "0 Files =  []\n",
            "----------\n",
            "Directory Path:  /content/gdrive/MyDrive/New_Folder/Inner_folder\n",
            "0 Directories =  []\n",
            "0 Files =  []\n",
            "----------\n",
            "Directory Path:  /content/gdrive/.shortcut-targets-by-id\n",
            "0 Directories =  []\n",
            "0 Files =  []\n",
            "----------\n",
            "Directory Path:  /content/gdrive/.Trash-0\n",
            "2 Directories =  ['files', 'info']\n",
            "0 Files =  []\n",
            "----------\n",
            "Directory Path:  /content/gdrive/.Trash-0/files\n",
            "0 Directories =  []\n",
            "0 Files =  []\n",
            "----------\n",
            "Directory Path:  /content/gdrive/.Trash-0/info\n",
            "0 Directories =  []\n",
            "0 Files =  []\n",
            "----------\n",
            "Directory Path:  /content/sample_data\n",
            "0 Directories =  []\n",
            "6 Files =  ['README.md', 'anscombe.json', 'mnist_test.csv', 'california_housing_test.csv', 'mnist_train_small.csv', 'california_housing_train.csv']\n",
            "----------\n"
          ]
        }
      ]
    },
    {
      "cell_type": "markdown",
      "metadata": {
        "id": "FCmGQXHAsiwd"
      },
      "source": [
        "# 4.&nbsp;Looking for Files with extensions"
      ]
    },
    {
      "cell_type": "code",
      "execution_count": null,
      "metadata": {
        "id": "pOhA88_hwXk7",
        "outputId": "9a3020b1-f0e7-442c-a9c2-c62fdef6ba4e",
        "colab": {
          "base_uri": "https://localhost:8080/"
        }
      },
      "outputs": [
        {
          "output_type": "stream",
          "name": "stdout",
          "text": [
            "there are 4 excel files: \n"
          ]
        },
        {
          "output_type": "execute_result",
          "data": {
            "text/plain": [
              "['UK_old.xlsx', 'DE.xlsx', 'FR.xlsx', 'UK.xlsx']"
            ]
          },
          "metadata": {},
          "execution_count": 22
        }
      ],
      "source": [
        "# create a list  \"excel_files\" with all files that have the extension excel_files in the working directory\n",
        "\n",
        "excel_files=[]\n",
        "for file in os.listdir('.'):\n",
        "    if file.endswith('.xlsx'): # or '.csv' if your'looinkg for csv files\n",
        "            excel_files.append(file)\n",
        "            \n",
        "# it will print out excel names present in current directory folder = 'Basics_Python\"\n",
        "print( 'there are', len(excel_files), \"excel files: \")\n",
        "excel_files"
      ]
    },
    {
      "cell_type": "code",
      "execution_count": null,
      "metadata": {
        "id": "T9-EafJPwlNw",
        "outputId": "a07fb489-2410-4912-81c0-e059eadc6db7",
        "colab": {
          "base_uri": "https://localhost:8080/"
        }
      },
      "outputs": [
        {
          "output_type": "stream",
          "name": "stdout",
          "text": [
            "['/content/UK_old.xlsx', '/content/DE.xlsx', '/content/FR.xlsx', '/content/UK.xlsx']\n",
            "\n",
            "File names with their paths:\n",
            "/content/UK_old.xlsx\n",
            "/content/DE.xlsx\n",
            "/content/FR.xlsx\n",
            "/content/UK.xlsx\n"
          ]
        }
      ],
      "source": [
        "# check the absolute path of all excel files\n",
        "\n",
        "# we'll use \"glob\" package that works with file paths\n",
        "# glob package is usefull to return all file paths that match a specific pattern\n",
        "\n",
        "# create a list where are stored the paths of every excel file\n",
        "\n",
        "# in the working directory here stored in the variable cwd... \n",
        "# find all files that have the extension .xlsx ...\n",
        "# and then concatenate the working directory path + excel file name ...\n",
        "# we will obtain the absolute path to each excel file ...\n",
        "# and then store them all into a list called \"filespaths\"\n",
        "\n",
        "\n",
        "# create a list that from cwd, will pick up every the ABSOLUTE PATH for files with extention .xlsx\n",
        "filespaths = glob.glob(cwd + \"/*.xlsx\")  \n",
        "print(filespaths)\n",
        "print(\"\")\n",
        "\n",
        "# print out excel paths one by one\n",
        "print('File names with their paths:')\n",
        "for path in filespaths:\n",
        "    print(path)"
      ]
    },
    {
      "cell_type": "markdown",
      "metadata": {
        "id": "cVcMXwSp_dfS"
      },
      "source": [
        "# 4.&nbsp;Change working directory"
      ]
    },
    {
      "cell_type": "code",
      "execution_count": null,
      "metadata": {
        "id": "PMh-IFyIurZD",
        "colab": {
          "base_uri": "https://localhost:8080/",
          "height": 35
        },
        "outputId": "8e8da86b-de6f-48eb-e82d-56c3d4d6062e"
      },
      "outputs": [
        {
          "output_type": "execute_result",
          "data": {
            "text/plain": [
              "'/content'"
            ],
            "application/vnd.google.colaboratory.intrinsic+json": {
              "type": "string"
            }
          },
          "metadata": {},
          "execution_count": 24
        }
      ],
      "source": [
        "# our cwd for now is /content directory\n",
        "cwd"
      ]
    },
    {
      "cell_type": "code",
      "execution_count": null,
      "metadata": {
        "id": "XQ-pL1_8XKud",
        "outputId": "fcab3d22-ea26-4656-afdd-2faeac8a7656",
        "colab": {
          "base_uri": "https://localhost:8080/",
          "height": 35
        }
      },
      "outputs": [
        {
          "output_type": "execute_result",
          "data": {
            "text/plain": [
              "'/content/gdrive/MyDrive'"
            ],
            "application/vnd.google.colaboratory.intrinsic+json": {
              "type": "string"
            }
          },
          "metadata": {},
          "execution_count": 25
        }
      ],
      "source": [
        "# if you want to change the current working directory (cwd) \n",
        "\n",
        "# change cwd to folder MyDrive (that is in directory content/gdrive)\n",
        "os.chdir('gdrive/MyDrive')\n",
        "# check the new current working directory now\n",
        "cwd = os.getcwd()\n",
        "cwd"
      ]
    },
    {
      "cell_type": "code",
      "execution_count": null,
      "metadata": {
        "id": "WJW-tAbOXabC"
      },
      "outputs": [],
      "source": [
        "# List all files and directories in the new current directory << MyDrive >>\n",
        "os.listdir('.')\n",
        "folder_to_remove='Raw_Files'"
      ]
    },
    {
      "cell_type": "markdown",
      "metadata": {
        "id": "klW5vu46w_Kj"
      },
      "source": [
        "# 5.&nbsp;Manipulate Directories"
      ]
    },
    {
      "cell_type": "code",
      "source": [],
      "metadata": {
        "id": "OUhlshU8lnXy"
      },
      "execution_count": null,
      "outputs": []
    },
    {
      "cell_type": "markdown",
      "metadata": {
        "id": "PVVj46wU1IDj"
      },
      "source": [
        "## Create a new folder"
      ]
    },
    {
      "cell_type": "code",
      "execution_count": 67,
      "metadata": {
        "id": "bFIMYI_UxCJ2",
        "outputId": "0e76b82c-b981-4f2c-da60-9ff001e8449b",
        "colab": {
          "base_uri": "https://localhost:8080/"
        }
      },
      "outputs": [
        {
          "output_type": "stream",
          "name": "stdout",
          "text": [
            "/content/gdrive/MyDrive/Raw_Files\n"
          ]
        }
      ],
      "source": [
        "# create a new folder called \"Raw_Files\"\n",
        "\n",
        "# First: \n",
        "# write the path to the \"Raw_Files\" sub_directory\n",
        "folder = cwd + '/' + 'Raw_Files' # == > /content/gdrive/MyDrive/Raw_Files\n",
        "print(folder)\n",
        "\n"
      ]
    },
    {
      "cell_type": "code",
      "source": [
        "shutil.rmtree('Raw_Files')"
      ],
      "metadata": {
        "id": "t9vazU_yzrDd"
      },
      "execution_count": 65,
      "outputs": []
    },
    {
      "cell_type": "code",
      "execution_count": 68,
      "metadata": {
        "id": "iRBuF0-PurZF"
      },
      "outputs": [],
      "source": [
        "# Second:\n",
        "# create the folder at the indicated path\n",
        "os.makedirs(folder) # create an empty folder called << Raw_Files >>"
      ]
    },
    {
      "cell_type": "code",
      "source": [],
      "metadata": {
        "id": "uwig2eemzqI_"
      },
      "execution_count": null,
      "outputs": []
    },
    {
      "cell_type": "code",
      "execution_count": 75,
      "metadata": {
        "id": "WYSDSulCyvEm",
        "outputId": "230d07de-8a1c-4e79-a2ef-57e41cad2839",
        "colab": {
          "base_uri": "https://localhost:8080/"
        }
      },
      "outputs": [
        {
          "output_type": "execute_result",
          "data": {
            "text/plain": [
              "['Colab Notebooks',\n",
              " 'New_Folder',\n",
              " 'Raw_Excel_Files',\n",
              " 'Module_2',\n",
              " 'Module_3',\n",
              " 'Raw_Files']"
            ]
          },
          "metadata": {},
          "execution_count": 75
        }
      ],
      "source": [
        "# now check the sub_directories in cwd with os.listdir()\n",
        "\n",
        "os.listdir('.')"
      ]
    },
    {
      "cell_type": "code",
      "source": [
        "os.getcwd()"
      ],
      "metadata": {
        "colab": {
          "base_uri": "https://localhost:8080/",
          "height": 36
        },
        "id": "EffBK90t2GTh",
        "outputId": "6c3ca586-0bd2-4671-fe09-bc8a6a0fb9ad"
      },
      "execution_count": 78,
      "outputs": [
        {
          "output_type": "execute_result",
          "data": {
            "text/plain": [
              "'/content/gdrive/MyDrive'"
            ],
            "application/vnd.google.colaboratory.intrinsic+json": {
              "type": "string"
            }
          },
          "metadata": {},
          "execution_count": 78
        }
      ]
    },
    {
      "cell_type": "code",
      "source": [
        "shutil.rmtree('/content/gdrive/MyDrive/Raw_Excel_Files')\n",
        "#os.rmdir('Raw_Excel_Files')\n",
        "\n"
      ],
      "metadata": {
        "colab": {
          "base_uri": "https://localhost:8080/",
          "height": 340
        },
        "id": "E6WZI9Ol1FTa",
        "outputId": "2bae7a39-7747-45fc-8211-ead11d191928"
      },
      "execution_count": 79,
      "outputs": [
        {
          "output_type": "error",
          "ename": "NotADirectoryError",
          "evalue": "ignored",
          "traceback": [
            "\u001b[0;31m---------------------------------------------------------------------------\u001b[0m",
            "\u001b[0;31mNotADirectoryError\u001b[0m                        Traceback (most recent call last)",
            "\u001b[0;32m<ipython-input-79-2ecaedf4f3e5>\u001b[0m in \u001b[0;36m<module>\u001b[0;34m\u001b[0m\n\u001b[0;32m----> 1\u001b[0;31m \u001b[0mshutil\u001b[0m\u001b[0;34m.\u001b[0m\u001b[0mrmtree\u001b[0m\u001b[0;34m(\u001b[0m\u001b[0;34m'/content/gdrive/MyDrive/Raw_Excel_Files'\u001b[0m\u001b[0;34m)\u001b[0m\u001b[0;34m\u001b[0m\u001b[0;34m\u001b[0m\u001b[0m\n\u001b[0m\u001b[1;32m      2\u001b[0m \u001b[0;31m#os.rmdir('Raw_Excel_Files')\u001b[0m\u001b[0;34m\u001b[0m\u001b[0;34m\u001b[0m\u001b[0m\n",
            "\u001b[0;32m/usr/lib/python3.9/shutil.py\u001b[0m in \u001b[0;36mrmtree\u001b[0;34m(path, ignore_errors, onerror)\u001b[0m\n\u001b[1;32m    732\u001b[0m         \u001b[0;32mtry\u001b[0m\u001b[0;34m:\u001b[0m\u001b[0;34m\u001b[0m\u001b[0;34m\u001b[0m\u001b[0m\n\u001b[1;32m    733\u001b[0m             \u001b[0;32mif\u001b[0m \u001b[0mos\u001b[0m\u001b[0;34m.\u001b[0m\u001b[0mpath\u001b[0m\u001b[0;34m.\u001b[0m\u001b[0msamestat\u001b[0m\u001b[0;34m(\u001b[0m\u001b[0morig_st\u001b[0m\u001b[0;34m,\u001b[0m \u001b[0mos\u001b[0m\u001b[0;34m.\u001b[0m\u001b[0mfstat\u001b[0m\u001b[0;34m(\u001b[0m\u001b[0mfd\u001b[0m\u001b[0;34m)\u001b[0m\u001b[0;34m)\u001b[0m\u001b[0;34m:\u001b[0m\u001b[0;34m\u001b[0m\u001b[0;34m\u001b[0m\u001b[0m\n\u001b[0;32m--> 734\u001b[0;31m                 \u001b[0m_rmtree_safe_fd\u001b[0m\u001b[0;34m(\u001b[0m\u001b[0mfd\u001b[0m\u001b[0;34m,\u001b[0m \u001b[0mpath\u001b[0m\u001b[0;34m,\u001b[0m \u001b[0monerror\u001b[0m\u001b[0;34m)\u001b[0m\u001b[0;34m\u001b[0m\u001b[0;34m\u001b[0m\u001b[0m\n\u001b[0m\u001b[1;32m    735\u001b[0m                 \u001b[0;32mtry\u001b[0m\u001b[0;34m:\u001b[0m\u001b[0;34m\u001b[0m\u001b[0;34m\u001b[0m\u001b[0m\n\u001b[1;32m    736\u001b[0m                     \u001b[0mos\u001b[0m\u001b[0;34m.\u001b[0m\u001b[0mclose\u001b[0m\u001b[0;34m(\u001b[0m\u001b[0mfd\u001b[0m\u001b[0;34m)\u001b[0m\u001b[0;34m\u001b[0m\u001b[0;34m\u001b[0m\u001b[0m\n",
            "\u001b[0;32m/usr/lib/python3.9/shutil.py\u001b[0m in \u001b[0;36m_rmtree_safe_fd\u001b[0;34m(topfd, path, onerror)\u001b[0m\n\u001b[1;32m    640\u001b[0m     \u001b[0;32mexcept\u001b[0m \u001b[0mOSError\u001b[0m \u001b[0;32mas\u001b[0m \u001b[0merr\u001b[0m\u001b[0;34m:\u001b[0m\u001b[0;34m\u001b[0m\u001b[0;34m\u001b[0m\u001b[0m\n\u001b[1;32m    641\u001b[0m         \u001b[0merr\u001b[0m\u001b[0;34m.\u001b[0m\u001b[0mfilename\u001b[0m \u001b[0;34m=\u001b[0m \u001b[0mpath\u001b[0m\u001b[0;34m\u001b[0m\u001b[0;34m\u001b[0m\u001b[0m\n\u001b[0;32m--> 642\u001b[0;31m         \u001b[0monerror\u001b[0m\u001b[0;34m(\u001b[0m\u001b[0mos\u001b[0m\u001b[0;34m.\u001b[0m\u001b[0mscandir\u001b[0m\u001b[0;34m,\u001b[0m \u001b[0mpath\u001b[0m\u001b[0;34m,\u001b[0m \u001b[0msys\u001b[0m\u001b[0;34m.\u001b[0m\u001b[0mexc_info\u001b[0m\u001b[0;34m(\u001b[0m\u001b[0;34m)\u001b[0m\u001b[0;34m)\u001b[0m\u001b[0;34m\u001b[0m\u001b[0;34m\u001b[0m\u001b[0m\n\u001b[0m\u001b[1;32m    643\u001b[0m         \u001b[0;32mreturn\u001b[0m\u001b[0;34m\u001b[0m\u001b[0;34m\u001b[0m\u001b[0m\n\u001b[1;32m    644\u001b[0m     \u001b[0;32mfor\u001b[0m \u001b[0mentry\u001b[0m \u001b[0;32min\u001b[0m \u001b[0mentries\u001b[0m\u001b[0;34m:\u001b[0m\u001b[0;34m\u001b[0m\u001b[0;34m\u001b[0m\u001b[0m\n",
            "\u001b[0;32m/usr/lib/python3.9/shutil.py\u001b[0m in \u001b[0;36m_rmtree_safe_fd\u001b[0;34m(topfd, path, onerror)\u001b[0m\n\u001b[1;32m    636\u001b[0m \u001b[0;32mdef\u001b[0m \u001b[0m_rmtree_safe_fd\u001b[0m\u001b[0;34m(\u001b[0m\u001b[0mtopfd\u001b[0m\u001b[0;34m,\u001b[0m \u001b[0mpath\u001b[0m\u001b[0;34m,\u001b[0m \u001b[0monerror\u001b[0m\u001b[0;34m)\u001b[0m\u001b[0;34m:\u001b[0m\u001b[0;34m\u001b[0m\u001b[0;34m\u001b[0m\u001b[0m\n\u001b[1;32m    637\u001b[0m     \u001b[0;32mtry\u001b[0m\u001b[0;34m:\u001b[0m\u001b[0;34m\u001b[0m\u001b[0;34m\u001b[0m\u001b[0m\n\u001b[0;32m--> 638\u001b[0;31m         \u001b[0;32mwith\u001b[0m \u001b[0mos\u001b[0m\u001b[0;34m.\u001b[0m\u001b[0mscandir\u001b[0m\u001b[0;34m(\u001b[0m\u001b[0mtopfd\u001b[0m\u001b[0;34m)\u001b[0m \u001b[0;32mas\u001b[0m \u001b[0mscandir_it\u001b[0m\u001b[0;34m:\u001b[0m\u001b[0;34m\u001b[0m\u001b[0;34m\u001b[0m\u001b[0m\n\u001b[0m\u001b[1;32m    639\u001b[0m             \u001b[0mentries\u001b[0m \u001b[0;34m=\u001b[0m \u001b[0mlist\u001b[0m\u001b[0;34m(\u001b[0m\u001b[0mscandir_it\u001b[0m\u001b[0;34m)\u001b[0m\u001b[0;34m\u001b[0m\u001b[0;34m\u001b[0m\u001b[0m\n\u001b[1;32m    640\u001b[0m     \u001b[0;32mexcept\u001b[0m \u001b[0mOSError\u001b[0m \u001b[0;32mas\u001b[0m \u001b[0merr\u001b[0m\u001b[0;34m:\u001b[0m\u001b[0;34m\u001b[0m\u001b[0;34m\u001b[0m\u001b[0m\n",
            "\u001b[0;31mNotADirectoryError\u001b[0m: [Errno 20] Not a directory: '/content/gdrive/MyDrive/Raw_Excel_Files'"
          ]
        }
      ]
    },
    {
      "cell_type": "code",
      "source": [
        "os.listdir('.')"
      ],
      "metadata": {
        "colab": {
          "base_uri": "https://localhost:8080/"
        },
        "id": "4f21DtDG2iru",
        "outputId": "f2dd6090-f161-4559-9bee-1f5cbad384a0"
      },
      "execution_count": 80,
      "outputs": [
        {
          "output_type": "execute_result",
          "data": {
            "text/plain": [
              "['Colab Notebooks',\n",
              " 'New_Folder',\n",
              " 'Raw_Excel_Files',\n",
              " 'Module_2',\n",
              " 'Module_3',\n",
              " 'Raw_Files']"
            ]
          },
          "metadata": {},
          "execution_count": 80
        }
      ]
    },
    {
      "cell_type": "markdown",
      "metadata": {
        "id": "C1Umqr6K1P12"
      },
      "source": [
        "## Rename Folders"
      ]
    },
    {
      "cell_type": "code",
      "execution_count": 69,
      "metadata": {
        "id": "MoC3H5lP_dfI",
        "outputId": "dbdf1ed9-b0dd-4d92-dc96-6f2fea7339cb",
        "colab": {
          "base_uri": "https://localhost:8080/",
          "height": 243
        }
      },
      "outputs": [
        {
          "output_type": "error",
          "ename": "NotADirectoryError",
          "evalue": "ignored",
          "traceback": [
            "\u001b[0;31m---------------------------------------------------------------------------\u001b[0m",
            "\u001b[0;31mNotADirectoryError\u001b[0m                        Traceback (most recent call last)",
            "\u001b[0;32m<ipython-input-69-7be479b7ebf0>\u001b[0m in \u001b[0;36m<module>\u001b[0;34m\u001b[0m\n\u001b[1;32m      3\u001b[0m \u001b[0mnew_name\u001b[0m\u001b[0;34m=\u001b[0m \u001b[0;34m'Raw_Excel_Files'\u001b[0m \u001b[0;31m# variable containing the new name value\u001b[0m\u001b[0;34m\u001b[0m\u001b[0;34m\u001b[0m\u001b[0m\n\u001b[1;32m      4\u001b[0m \u001b[0;34m\u001b[0m\u001b[0m\n\u001b[0;32m----> 5\u001b[0;31m \u001b[0mos\u001b[0m\u001b[0;34m.\u001b[0m\u001b[0mrename\u001b[0m\u001b[0;34m(\u001b[0m\u001b[0mfolder\u001b[0m\u001b[0;34m,\u001b[0m \u001b[0mnew_name\u001b[0m\u001b[0;34m)\u001b[0m \u001b[0;31m# it will rename \"Raw_Files\" into 'Raw_Excel_Files'\u001b[0m\u001b[0;34m\u001b[0m\u001b[0;34m\u001b[0m\u001b[0m\n\u001b[0m\u001b[1;32m      6\u001b[0m \u001b[0;34m\u001b[0m\u001b[0m\n\u001b[1;32m      7\u001b[0m \u001b[0;31m# now check the sub_directories in cwd with os.listdir()\u001b[0m\u001b[0;34m\u001b[0m\u001b[0;34m\u001b[0m\u001b[0m\n",
            "\u001b[0;31mNotADirectoryError\u001b[0m: [Errno 20] Not a directory: '/content/gdrive/MyDrive/Raw_Files' -> 'Raw_Excel_Files'"
          ]
        }
      ],
      "source": [
        "# rename folder <<Raw_Files>> in  <<Raw_Excel_Files folder>>\n",
        "\n",
        "new_name= 'Raw_Excel_Files' # variable containing the new name value\n",
        "\n",
        "os.rename(folder, new_name) # it will rename \"Raw_Files\" into 'Raw_Excel_Files'\n",
        "\n",
        "# now check the sub_directories in cwd with os.listdir()\n",
        "\n",
        "os.listdir('.')"
      ]
    },
    {
      "cell_type": "code",
      "source": [
        "os.listdir('.')"
      ],
      "metadata": {
        "colab": {
          "base_uri": "https://localhost:8080/"
        },
        "id": "tfMMO8AVjo6s",
        "outputId": "f300b9c8-74a8-4af4-a19a-c34963636dbf"
      },
      "execution_count": null,
      "outputs": [
        {
          "output_type": "execute_result",
          "data": {
            "text/plain": [
              "['Colab Notebooks', 'Raw_Files', 'New_Folder', 'Raw_Excel_Files']"
            ]
          },
          "metadata": {},
          "execution_count": 44
        }
      ]
    },
    {
      "cell_type": "markdown",
      "metadata": {
        "id": "DAPHBheo1VPS"
      },
      "source": [
        "## Nested Folders"
      ]
    },
    {
      "cell_type": "code",
      "execution_count": null,
      "metadata": {
        "id": "_Oq-PpDbxE-t",
        "outputId": "0f1d9b45-ba40-4540-970e-4b7f777ffe7f",
        "colab": {
          "base_uri": "https://localhost:8080/",
          "height": 339
        }
      },
      "outputs": [
        {
          "output_type": "error",
          "ename": "FileExistsError",
          "evalue": "ignored",
          "traceback": [
            "\u001b[0;31m---------------------------------------------------------------------------\u001b[0m",
            "\u001b[0;31mFileExistsError\u001b[0m                           Traceback (most recent call last)",
            "\u001b[0;32m<ipython-input-45-cb11bd3e6e8a>\u001b[0m in \u001b[0;36m<module>\u001b[0;34m\u001b[0m\n\u001b[1;32m      2\u001b[0m \u001b[0;34m\u001b[0m\u001b[0m\n\u001b[1;32m      3\u001b[0m \u001b[0mother\u001b[0m \u001b[0;34m=\u001b[0m \u001b[0mcwd\u001b[0m \u001b[0;34m+\u001b[0m \u001b[0;34m'/'\u001b[0m \u001b[0;34m+\u001b[0m \u001b[0;34m'New_Folder'\u001b[0m \u001b[0;34m+\u001b[0m \u001b[0;34m'/'\u001b[0m \u001b[0;34m+\u001b[0m\u001b[0;34m'Inner_folder'\u001b[0m\u001b[0;34m\u001b[0m\u001b[0;34m\u001b[0m\u001b[0m\n\u001b[0;32m----> 4\u001b[0;31m \u001b[0mos\u001b[0m\u001b[0;34m.\u001b[0m\u001b[0mmakedirs\u001b[0m\u001b[0;34m(\u001b[0m\u001b[0mother\u001b[0m\u001b[0;34m)\u001b[0m\u001b[0;34m\u001b[0m\u001b[0;34m\u001b[0m\u001b[0m\n\u001b[0m\u001b[1;32m      5\u001b[0m \u001b[0mother\u001b[0m \u001b[0;31m# the folder \"New_Folder\" will contain another empty folder \"Inner Folder\"\u001b[0m\u001b[0;34m\u001b[0m\u001b[0;34m\u001b[0m\u001b[0m\n",
            "\u001b[0;32m/usr/lib/python3.9/os.py\u001b[0m in \u001b[0;36mmakedirs\u001b[0;34m(name, mode, exist_ok)\u001b[0m\n\u001b[1;32m    223\u001b[0m             \u001b[0;32mreturn\u001b[0m\u001b[0;34m\u001b[0m\u001b[0;34m\u001b[0m\u001b[0m\n\u001b[1;32m    224\u001b[0m     \u001b[0;32mtry\u001b[0m\u001b[0;34m:\u001b[0m\u001b[0;34m\u001b[0m\u001b[0;34m\u001b[0m\u001b[0m\n\u001b[0;32m--> 225\u001b[0;31m         \u001b[0mmkdir\u001b[0m\u001b[0;34m(\u001b[0m\u001b[0mname\u001b[0m\u001b[0;34m,\u001b[0m \u001b[0mmode\u001b[0m\u001b[0;34m)\u001b[0m\u001b[0;34m\u001b[0m\u001b[0;34m\u001b[0m\u001b[0m\n\u001b[0m\u001b[1;32m    226\u001b[0m     \u001b[0;32mexcept\u001b[0m \u001b[0mOSError\u001b[0m\u001b[0;34m:\u001b[0m\u001b[0;34m\u001b[0m\u001b[0;34m\u001b[0m\u001b[0m\n\u001b[1;32m    227\u001b[0m         \u001b[0;31m# Cannot rely on checking for EEXIST, since the operating system\u001b[0m\u001b[0;34m\u001b[0m\u001b[0;34m\u001b[0m\u001b[0m\n",
            "\u001b[0;31mFileExistsError\u001b[0m: [Errno 17] File exists: '/content/gdrive/MyDrive/New_Folder/Inner_folder'"
          ]
        }
      ],
      "source": [
        "# Create a nested folder (folder in the folder)\n",
        "\n",
        "other = cwd + '/' + 'New_Folder' + '/' +'Inner_folder' \n",
        "os.makedirs(other)\n",
        "other # the folder \"New_Folder\" will contain another empty folder \"Inner Folder\""
      ]
    },
    {
      "cell_type": "code",
      "execution_count": null,
      "metadata": {
        "id": "08SG9wSL1eIW",
        "outputId": "c0a6fe6e-be01-48e6-eea4-9ee40cb775e3",
        "colab": {
          "base_uri": "https://localhost:8080/"
        }
      },
      "outputs": [
        {
          "output_type": "execute_result",
          "data": {
            "text/plain": [
              "['Colab Notebooks', 'Raw_Files', 'New_Folder', 'Raw_Excel_Files']"
            ]
          },
          "metadata": {},
          "execution_count": 46
        }
      ],
      "source": [
        "# now check the sub_directories in cwd with os.listdir()\n",
        "\n",
        "os.listdir('.')"
      ]
    },
    {
      "cell_type": "markdown",
      "metadata": {
        "id": "pt37qb5y_dfL"
      },
      "source": [
        "## Navigate in tree hierarchy"
      ]
    },
    {
      "cell_type": "code",
      "source": [
        "cwd"
      ],
      "metadata": {
        "colab": {
          "base_uri": "https://localhost:8080/",
          "height": 35
        },
        "id": "mhJmepfC8NrN",
        "outputId": "268cca0e-e8de-4676-dd6e-6c6fc0d62c02"
      },
      "execution_count": null,
      "outputs": [
        {
          "output_type": "execute_result",
          "data": {
            "text/plain": [
              "'/content/gdrive/MyDrive'"
            ],
            "application/vnd.google.colaboratory.intrinsic+json": {
              "type": "string"
            }
          },
          "metadata": {},
          "execution_count": 47
        }
      ]
    },
    {
      "cell_type": "code",
      "execution_count": null,
      "metadata": {
        "id": "tPrUfZ8d_dfM",
        "outputId": "06fe3887-7bcc-43d1-f879-b2e148890227",
        "colab": {
          "base_uri": "https://localhost:8080/"
        }
      },
      "outputs": [
        {
          "output_type": "execute_result",
          "data": {
            "text/plain": [
              "['Colab Notebooks', 'Raw_Files', 'New_Folder', 'Raw_Excel_Files']"
            ]
          },
          "metadata": {},
          "execution_count": 48
        }
      ],
      "source": [
        "# list all files in the current directoy \"MyDrive\"\n",
        "\n",
        "os.listdir('.')"
      ]
    },
    {
      "cell_type": "code",
      "execution_count": null,
      "metadata": {
        "id": "kw2WlP2e_dfN",
        "outputId": "4c6ed90e-b501-4b40-8a55-cbf18a4d784f",
        "colab": {
          "base_uri": "https://localhost:8080/"
        }
      },
      "outputs": [
        {
          "output_type": "stream",
          "name": "stdout",
          "text": [
            "['Inner_folder']\n"
          ]
        }
      ],
      "source": [
        "# list files inside a specific folder (get children)\n",
        "\n",
        "print (os.listdir('New_Folder'))\n"
      ]
    },
    {
      "cell_type": "code",
      "execution_count": null,
      "metadata": {
        "id": "pImwa3TA_dfN",
        "outputId": "a8b10665-7a27-4136-a884-59fe0e6eb236",
        "colab": {
          "base_uri": "https://localhost:8080/"
        }
      },
      "outputs": [
        {
          "output_type": "stream",
          "name": "stdout",
          "text": [
            "New_Folder\n"
          ]
        }
      ],
      "source": [
        "# get parent of a scpecific folder (go back with 1 level)\n",
        "\n",
        "# save relative path to Inner_Folder\n",
        "new_folder = 'New_Folder/Inner_Folder' \n",
        "\n",
        "# prit parent of Inner_Folder\n",
        "print(Path(new_folder).parents[0])\n"
      ]
    },
    {
      "cell_type": "code",
      "execution_count": null,
      "metadata": {
        "id": "yHEx2ok__dfO",
        "outputId": "5ebcd930-6b85-4dce-c278-19cf7c66c902",
        "colab": {
          "base_uri": "https://localhost:8080/"
        }
      },
      "outputs": [
        {
          "output_type": "stream",
          "name": "stdout",
          "text": [
            ".\n"
          ]
        }
      ],
      "source": [
        "# get grand parent of a scpecific folder (go up with 2 levels)\n",
        "\n",
        "print(Path(new_folder).parents[1])"
      ]
    },
    {
      "cell_type": "code",
      "execution_count": null,
      "metadata": {
        "id": "sd5ghfUK_dfM",
        "outputId": "7d03a8a4-5341-48e2-a7a9-beda19a80d25",
        "colab": {
          "base_uri": "https://localhost:8080/"
        }
      },
      "outputs": [
        {
          "output_type": "execute_result",
          "data": {
            "text/plain": [
              "['.file-revisions-by-id', 'MyDrive', '.shortcut-targets-by-id', '.Trash-0']"
            ]
          },
          "metadata": {},
          "execution_count": 52
        }
      ],
      "source": [
        "# move up in the hierarchy to list the files from the upper level \n",
        "\n",
        "os.listdir('..')"
      ]
    },
    {
      "cell_type": "markdown",
      "metadata": {
        "id": "bgTrGUaYFzMk"
      },
      "source": [
        "## Paths to the folders"
      ]
    },
    {
      "cell_type": "code",
      "execution_count": null,
      "metadata": {
        "id": "PYkdqlQOurZJ",
        "outputId": "0a792b17-ad56-4874-9fb8-dce065290188",
        "colab": {
          "base_uri": "https://localhost:8080/",
          "height": 35
        }
      },
      "outputs": [
        {
          "output_type": "execute_result",
          "data": {
            "text/plain": [
              "'/content/gdrive/MyDrive'"
            ],
            "application/vnd.google.colaboratory.intrinsic+json": {
              "type": "string"
            }
          },
          "metadata": {},
          "execution_count": 39
        }
      ],
      "source": [
        "# our current working directory niw is\n",
        "cwd"
      ]
    },
    {
      "cell_type": "code",
      "execution_count": null,
      "metadata": {
        "id": "P8uJTXfcCFI4",
        "outputId": "e5de398b-c549-4ecb-d9de-43ba98f10720",
        "colab": {
          "base_uri": "https://localhost:8080/"
        }
      },
      "outputs": [
        {
          "output_type": "stream",
          "name": "stdout",
          "text": [
            "Absolute path of file:       /content/gdrive/MyDrive/Raw_Excel_Files\n",
            "Abs. path of the file dir.:  /content/gdrive/MyDrive\n",
            "Relative path of file:       Raw_Excel_Files\n"
          ]
        }
      ],
      "source": [
        "# Find Paths\n",
        "\n",
        "# Absolute path ==> the whole path with the file name included\n",
        "print('Absolute path of file:      ',  os.path.abspath('Raw_Excel_Files'))\n",
        "\n",
        "# Absolute directoryname ==> upper directories (parents)\n",
        "print('Abs. path of the file dir.: ',  os.path.dirname(os.path.abspath('Raw_Excel_Files')))\n",
        "\n",
        "# relative path ==> only the final file name\n",
        "print('Relative path of file:      ', os.path.relpath('Raw_Excel_Files') )"
      ]
    },
    {
      "cell_type": "markdown",
      "metadata": {
        "id": "Jgviz2daz65q"
      },
      "source": [
        "# 6.&nbsp;Copy File\n"
      ]
    },
    {
      "cell_type": "code",
      "execution_count": null,
      "metadata": {
        "id": "IMcy5Fj_5qXR",
        "outputId": "2939341d-6722-4e35-ddaa-9b32419ae0a6",
        "colab": {
          "base_uri": "https://localhost:8080/"
        }
      },
      "outputs": [
        {
          "output_type": "execute_result",
          "data": {
            "text/plain": [
              "['Colab Notebooks', 'Raw_Excel_Files', 'New_Folder']"
            ]
          },
          "metadata": {},
          "execution_count": 41
        }
      ],
      "source": [
        "# reminder of containing in cwd: MyDrive\n",
        "\n",
        "os.listdir('.')"
      ]
    },
    {
      "cell_type": "markdown",
      "metadata": {
        "id": "r0RDXm1dKgH2"
      },
      "source": [
        "## Copy a single file"
      ]
    },
    {
      "cell_type": "code",
      "source": [
        "# reminder of the containing of /content directory\n",
        "# the imported excel files are in this directory \n",
        "\n",
        "os.listdir('/content')"
      ],
      "metadata": {
        "colab": {
          "base_uri": "https://localhost:8080/"
        },
        "id": "qkd07KoyFDdB",
        "outputId": "e4e85c34-0a6c-4454-acb6-a87152d47ff9"
      },
      "execution_count": null,
      "outputs": [
        {
          "output_type": "execute_result",
          "data": {
            "text/plain": [
              "['.config',\n",
              " 'DE.xlsx',\n",
              " 'UK.xlsx',\n",
              " 'gdrive',\n",
              " 'FR.xlsx',\n",
              " 'UK_old.xlsx',\n",
              " 'sample_data']"
            ]
          },
          "metadata": {},
          "execution_count": 42
        }
      ]
    },
    {
      "cell_type": "code",
      "source": [
        "# the absolute path to those excels:\n",
        "\n",
        "# ['/content/DE.xlsx', '/content/UK.xlsx', '/content/FR.xlsx', '/content/UK_old.xlsx']\n",
        "\n",
        "# DE.xlsx\n",
        "print(os.path.abspath('/content/DE.xlsx'))\n",
        "\n",
        "# UK.xlsx\n",
        "print(os.path.abspath('/content/UK.xlsx'))\n",
        "\n",
        "# FR.xlsx\n",
        "print(os.path.abspath('/content/FR.xlsx'))\n",
        "\n",
        "# UK_old.xlsx\n",
        "print(os.path.abspath('/content/UK_old.xlsx'))"
      ],
      "metadata": {
        "colab": {
          "base_uri": "https://localhost:8080/"
        },
        "id": "TRX0m8uYE9nk",
        "outputId": "2ed7596a-7ca0-443f-95e4-e11e50e914c5"
      },
      "execution_count": null,
      "outputs": [
        {
          "output_type": "stream",
          "name": "stdout",
          "text": [
            "/content/DE.xlsx\n",
            "/content/UK.xlsx\n",
            "/content/FR.xlsx\n",
            "/content/UK_old.xlsx\n"
          ]
        }
      ]
    },
    {
      "cell_type": "code",
      "execution_count": null,
      "metadata": {
        "id": "jIlgijfL_dfO"
      },
      "outputs": [],
      "source": [
        "# copy one file in another folder\n",
        "\n",
        "# we want to copy UK.xlsx file from content dir  in 'Raw_Excel_Files' folder\n",
        "\n",
        "# destination WHERE we want to copy \n",
        "dest = 'Raw_Excel_Files'\n",
        "\n",
        "# source file : WHAT we want to copy\n",
        "src=  '/content/UK.xlsx' # source ==> the path to the file that we want to copy (we use absoute path as UK.xlsx is outside cwd)"
      ]
    },
    {
      "cell_type": "code",
      "execution_count": null,
      "metadata": {
        "id": "bWw3YvhHxguf",
        "outputId": "345b120c-3ba5-4371-97ed-1e02095880af",
        "colab": {
          "base_uri": "https://localhost:8080/",
          "height": 35
        }
      },
      "outputs": [
        {
          "output_type": "execute_result",
          "data": {
            "text/plain": [
              "'Raw_Excel_Files/UK.xlsx'"
            ],
            "application/vnd.google.colaboratory.intrinsic+json": {
              "type": "string"
            }
          },
          "metadata": {},
          "execution_count": 45
        }
      ],
      "source": [
        "# work with shutil package\n",
        "''' Shutil module offers high-level operation on a file like a copy, create, move\n",
        "and remote operation on the file '''\n",
        "\n",
        "#  copy the file from the source <<src>> in the folder we want << dest >>\n",
        "shutil.copy(src, # what file we want to copy, more specifically its path\n",
        "            dest) # path to the folder we want to paste the copied file"
      ]
    },
    {
      "cell_type": "code",
      "execution_count": null,
      "metadata": {
        "id": "wQKytxOX1SSm",
        "outputId": "2f0ed521-f3e6-45c2-bcad-08c0cc406516",
        "colab": {
          "base_uri": "https://localhost:8080/",
          "height": 35
        }
      },
      "outputs": [
        {
          "output_type": "execute_result",
          "data": {
            "text/plain": [
              "'Raw_Excel_Files/FR.xlsx'"
            ],
            "application/vnd.google.colaboratory.intrinsic+json": {
              "type": "string"
            }
          },
          "metadata": {},
          "execution_count": 46
        }
      ],
      "source": [
        "# file that we want to copy : FR.xlsx\n",
        "src='/content/FR.xlsx'\n",
        "\n",
        "# copy the file in the folder we want\n",
        "shutil.copy(src, dest)"
      ]
    },
    {
      "cell_type": "code",
      "execution_count": null,
      "metadata": {
        "id": "ry059DRi_dfR",
        "outputId": "27134a46-042a-48a4-b686-3ac3ac97eaf8",
        "colab": {
          "base_uri": "https://localhost:8080/",
          "height": 35
        }
      },
      "outputs": [
        {
          "output_type": "execute_result",
          "data": {
            "text/plain": [
              "'Raw_Excel_Files/DE.xlsx'"
            ],
            "application/vnd.google.colaboratory.intrinsic+json": {
              "type": "string"
            }
          },
          "metadata": {},
          "execution_count": 47
        }
      ],
      "source": [
        "# file that we want to copy : DE.xlsx\n",
        "src='/content/DE.xlsx'\n",
        "\n",
        "# copy the file in the folder we want\n",
        "shutil.copy(src, dest)"
      ]
    },
    {
      "cell_type": "code",
      "source": [
        "# file that we want to copy : DE.xlsx\n",
        "src='/content/UK_old.xlsx'\n",
        "\n",
        "# copy the file in the folder we want\n",
        "shutil.copy(src, dest)"
      ],
      "metadata": {
        "colab": {
          "base_uri": "https://localhost:8080/",
          "height": 35
        },
        "id": "tesMSSSqL8RV",
        "outputId": "37bb8197-c20e-4ee0-b89e-935750c83bb6"
      },
      "execution_count": null,
      "outputs": [
        {
          "output_type": "execute_result",
          "data": {
            "text/plain": [
              "'Raw_Excel_Files/UK_old.xlsx'"
            ],
            "application/vnd.google.colaboratory.intrinsic+json": {
              "type": "string"
            }
          },
          "metadata": {},
          "execution_count": 48
        }
      ]
    },
    {
      "cell_type": "code",
      "execution_count": null,
      "metadata": {
        "id": "-WJNe2zk-aAS",
        "outputId": "6db3f38c-5d08-4279-a340-bbfdb1e447de",
        "colab": {
          "base_uri": "https://localhost:8080/"
        }
      },
      "outputs": [
        {
          "output_type": "execute_result",
          "data": {
            "text/plain": [
              "['UK.xlsx', 'FR.xlsx', 'DE.xlsx', 'UK_old.xlsx']"
            ]
          },
          "metadata": {},
          "execution_count": 49
        }
      ],
      "source": [
        "# and now look at the containing of Raw_Excel_Files'\n",
        "\n",
        "os.listdir('Raw_Excel_Files')"
      ]
    },
    {
      "cell_type": "markdown",
      "metadata": {
        "id": "30Bfuo5yKlhn"
      },
      "source": [
        "## Copy multiple files at once"
      ]
    },
    {
      "cell_type": "code",
      "execution_count": null,
      "metadata": {
        "id": "LiRv6xydD8wf",
        "outputId": "7ee55366-1302-44a0-950f-535325f6b173",
        "colab": {
          "base_uri": "https://localhost:8080/"
        }
      },
      "outputs": [
        {
          "output_type": "execute_result",
          "data": {
            "text/plain": [
              "['/content/gdrive/MyDrive/Raw_Excel_Files/UK.xlsx',\n",
              " '/content/gdrive/MyDrive/Raw_Excel_Files/FR.xlsx',\n",
              " '/content/gdrive/MyDrive/Raw_Excel_Files/DE.xlsx',\n",
              " '/content/gdrive/MyDrive/Raw_Excel_Files/UK_old.xlsx']"
            ]
          },
          "metadata": {},
          "execution_count": 50
        }
      ],
      "source": [
        "# find all absolute paths to our xlsx files in 'Raw_Excel_Files' with glob\n",
        "\n",
        "path = 'Raw_Excel_Files'\n",
        "\n",
        "# create a list filespaths that ..\n",
        "# ... will contain the paths to all files with extension .xlsx\n",
        "filespaths = glob.glob(os.path.abspath(path) + \"/*.xlsx\")\n",
        "filespaths"
      ]
    },
    {
      "cell_type": "code",
      "execution_count": null,
      "metadata": {
        "id": "uLyk4wtMurZM",
        "outputId": "96b7d0cb-4fa8-4ab8-9c2a-148404e79701",
        "colab": {
          "base_uri": "https://localhost:8080/",
          "height": 35
        }
      },
      "outputs": [
        {
          "output_type": "execute_result",
          "data": {
            "text/plain": [
              "'/content/gdrive/MyDrive'"
            ],
            "application/vnd.google.colaboratory.intrinsic+json": {
              "type": "string"
            }
          },
          "metadata": {},
          "execution_count": 51
        }
      ],
      "source": [
        "cwd"
      ]
    },
    {
      "cell_type": "code",
      "execution_count": null,
      "metadata": {
        "id": "bdsQE7Fh_dfR",
        "outputId": "1e4e6249-cd68-4a6e-d7fb-683bb8194371",
        "colab": {
          "base_uri": "https://localhost:8080/"
        }
      },
      "outputs": [
        {
          "output_type": "stream",
          "name": "stdout",
          "text": [
            "['/content/gdrive/MyDrive/Raw_Excel_Files/UK.xlsx', '/content/gdrive/MyDrive/Raw_Excel_Files/FR.xlsx', '/content/gdrive/MyDrive/Raw_Excel_Files/DE.xlsx', '/content/gdrive/MyDrive/Raw_Excel_Files/UK_old.xlsx']\n",
            "/content/gdrive/MyDrive\n",
            "/content/gdrive/MyDrive/Raw_Excel_Files/UK.xlsx\n",
            "/content/gdrive/MyDrive/Raw_Excel_Files/FR.xlsx\n",
            "/content/gdrive/MyDrive/Raw_Excel_Files/DE.xlsx\n",
            "/content/gdrive/MyDrive/Raw_Excel_Files/UK_old.xlsx\n"
          ]
        }
      ],
      "source": [
        "# copy the multiple files in the folder we want\n",
        "\n",
        "dest = cwd # we want to copy our file in cwd MyDrive\n",
        "\n",
        "# we want to copy all excel files in Raw_Excel_Files in dest\n",
        "print(filespaths)\n",
        "print(dest)\n",
        "\n",
        "for file in filespaths:\n",
        "    print(file)\n",
        "    shutil.copy(file, dest)"
      ]
    },
    {
      "cell_type": "code",
      "execution_count": null,
      "metadata": {
        "id": "qCs2wZZFE9RZ",
        "outputId": "b4665bda-5048-49a1-986b-32bd57569249",
        "colab": {
          "base_uri": "https://localhost:8080/"
        }
      },
      "outputs": [
        {
          "output_type": "execute_result",
          "data": {
            "text/plain": [
              "['Colab Notebooks',\n",
              " 'Raw_Excel_Files',\n",
              " 'New_Folder',\n",
              " 'UK.xlsx',\n",
              " 'FR.xlsx',\n",
              " 'DE.xlsx',\n",
              " 'UK_old.xlsx']"
            ]
          },
          "metadata": {},
          "execution_count": 53
        }
      ],
      "source": [
        "# check the cwd containing again to notify the presense of excel files\n",
        "os.listdir('.')\n"
      ]
    },
    {
      "cell_type": "markdown",
      "metadata": {
        "id": "ot-XcKgS0vli"
      },
      "source": [
        "# 7.&nbsp;Move File"
      ]
    },
    {
      "cell_type": "code",
      "execution_count": null,
      "metadata": {
        "id": "MC1Fq8YA_dfT",
        "outputId": "9fd456d1-e732-4885-c6ed-2467cb972372",
        "colab": {
          "base_uri": "https://localhost:8080/"
        }
      },
      "outputs": [
        {
          "output_type": "stream",
          "name": "stdout",
          "text": [
            "/content/gdrive/MyDrive/Old_Files\n"
          ]
        },
        {
          "output_type": "execute_result",
          "data": {
            "text/plain": [
              "['Colab Notebooks',\n",
              " 'Raw_Excel_Files',\n",
              " 'New_Folder',\n",
              " 'UK.xlsx',\n",
              " 'FR.xlsx',\n",
              " 'DE.xlsx',\n",
              " 'UK_old.xlsx',\n",
              " 'Old_Files']"
            ]
          },
          "metadata": {},
          "execution_count": 54
        }
      ],
      "source": [
        "# create a folder << Old_Files >> where we would like to move files \n",
        "\n",
        "# First: write the path to folder\n",
        "folder_1 = cwd + '/' + 'Old_Files'\n",
        "print(folder_1)\n",
        "\n",
        "# Second: create the folder at the indicated path\n",
        "os.makedirs(folder_1)\n",
        "\n",
        "# check cwd\n",
        "os.listdir('.')"
      ]
    },
    {
      "cell_type": "code",
      "execution_count": null,
      "metadata": {
        "id": "aRJI5bND0ySA",
        "outputId": "3bf164fe-2eba-4e6d-f9b7-3d22541a2b99",
        "colab": {
          "base_uri": "https://localhost:8080/",
          "height": 35
        }
      },
      "outputs": [
        {
          "output_type": "execute_result",
          "data": {
            "text/plain": [
              "'/content/gdrive/MyDrive/Old_Files/UK_old.xlsx'"
            ],
            "application/vnd.google.colaboratory.intrinsic+json": {
              "type": "string"
            }
          },
          "metadata": {},
          "execution_count": 55
        }
      ],
      "source": [
        "# folder_to_move (it would be like cut/paste\n",
        "\n",
        "file_to_move = '/content/UK_old.xlsx' # from directory content\n",
        "\n",
        "\n",
        "shutil.move(file_to_move, # file/folder to cut\n",
        "           folder_1) # folder where to move = '/content/gdrive/MyDrive/Old_Files/UK_old.xlsx'         "
      ]
    },
    {
      "cell_type": "code",
      "execution_count": null,
      "metadata": {
        "id": "ttTigdwturZO",
        "outputId": "0aca1843-1ac8-47ca-aca7-84ac8ac803e5",
        "colab": {
          "base_uri": "https://localhost:8080/"
        }
      },
      "outputs": [
        {
          "output_type": "stream",
          "name": "stdout",
          "text": [
            "MyDrive:  ['Colab Notebooks', 'Raw_Excel_Files', 'New_Folder', 'UK.xlsx', 'FR.xlsx', 'DE.xlsx', 'UK_old.xlsx', 'Old_Files']\n",
            "\n",
            "Old_Files:  ['UK_old.xlsx']\n"
          ]
        }
      ],
      "source": [
        "# check directory content\n",
        "print('MyDrive: ', os.listdir('.'))  # now UK_old.xlsx has disapeared for content\n",
        "\n",
        "print('')\n",
        "# check directory Module_2/Old_Files\n",
        "print('Old_Files: ', os.listdir('Old_Files'))  # now UK_old.xlsx has disapeared for content"
      ]
    },
    {
      "cell_type": "markdown",
      "metadata": {
        "id": "mXx48d0W2427"
      },
      "source": [
        "# 5.&nbsp;Delete Files"
      ]
    },
    {
      "cell_type": "code",
      "execution_count": null,
      "metadata": {
        "id": "RYdN0l___dfU",
        "outputId": "7ed3958f-51e4-4973-f01f-c1825721f17d",
        "colab": {
          "base_uri": "https://localhost:8080/",
          "height": 35
        }
      },
      "outputs": [
        {
          "output_type": "execute_result",
          "data": {
            "text/plain": [
              "'/content/gdrive/MyDrive'"
            ],
            "application/vnd.google.colaboratory.intrinsic+json": {
              "type": "string"
            }
          },
          "metadata": {},
          "execution_count": 57
        }
      ],
      "source": [
        "# reminder of cwd\n",
        "cwd"
      ]
    },
    {
      "cell_type": "code",
      "execution_count": null,
      "metadata": {
        "id": "etZpw10PN-tG",
        "outputId": "f3b15413-336a-41f5-82af-0d28de1cc61d",
        "colab": {
          "base_uri": "https://localhost:8080/"
        }
      },
      "outputs": [
        {
          "output_type": "execute_result",
          "data": {
            "text/plain": [
              "['UK_old.xlsx']"
            ]
          },
          "metadata": {},
          "execution_count": 58
        }
      ],
      "source": [
        "# check Old_Files containing\n",
        "\n",
        "os.listdir('Old_Files')"
      ]
    },
    {
      "cell_type": "code",
      "source": [],
      "metadata": {
        "id": "vo8PTHEjix9n"
      },
      "execution_count": null,
      "outputs": []
    },
    {
      "cell_type": "markdown",
      "metadata": {
        "id": "6GbgsaVwPd8U"
      },
      "source": [
        "## Delete file"
      ]
    },
    {
      "cell_type": "code",
      "execution_count": null,
      "metadata": {
        "id": "rOYRvWSr2a0q",
        "outputId": "f3627146-c9bb-4958-bb75-792dc416e049",
        "colab": {
          "base_uri": "https://localhost:8080/"
        }
      },
      "outputs": [
        {
          "output_type": "execute_result",
          "data": {
            "text/plain": [
              "[]"
            ]
          },
          "metadata": {},
          "execution_count": 59
        }
      ],
      "source": [
        "# delete a file UK_old.xlsx from Old_Files with os.unlink\n",
        "\n",
        "os.unlink('Old_Files/UK_old.xlsx') # relative path as UK_old in the working directory\n",
        "\n",
        "# check again Old_Files containing\n",
        "os.listdir('Old_Files')"
      ]
    },
    {
      "cell_type": "code",
      "execution_count": null,
      "metadata": {
        "id": "wm39NbJfOmXB",
        "outputId": "af8dfe5d-7b2f-4d71-a806-f8100e8db0b2",
        "colab": {
          "base_uri": "https://localhost:8080/"
        }
      },
      "outputs": [
        {
          "output_type": "execute_result",
          "data": {
            "text/plain": [
              "['Colab Notebooks',\n",
              " 'Raw_Excel_Files',\n",
              " 'New_Folder',\n",
              " 'UK.xlsx',\n",
              " 'FR.xlsx',\n",
              " 'DE.xlsx',\n",
              " 'UK_old.xlsx',\n",
              " 'Old_Files']"
            ]
          },
          "metadata": {},
          "execution_count": 60
        }
      ],
      "source": [
        "# check cwd\n",
        "os.listdir('.')"
      ]
    },
    {
      "cell_type": "markdown",
      "metadata": {
        "id": "x-R9sj0KPijH"
      },
      "source": [
        "## Delete folder"
      ]
    },
    {
      "cell_type": "markdown",
      "metadata": {
        "id": "Xjcn3nbyOy8t"
      },
      "source": [
        "There is a diference when deleting EMPTY and NOT empty folders:\n",
        "\n",
        "\n",
        "\n",
        "1.   For ***EMPTY** use .rmdir function *from package os*\n",
        "2.   For ***NOT EMPTY** use .rmtree function *from package shutil*"
      ]
    },
    {
      "cell_type": "markdown",
      "metadata": {
        "id": "LhodrGvWPoQg"
      },
      "source": [
        "**EMPTY folder**"
      ]
    },
    {
      "cell_type": "code",
      "execution_count": null,
      "metadata": {
        "id": "DxLnN3ya3KWN"
      },
      "outputs": [],
      "source": [
        "# delete empty folder 'Old_Files' from cwd with os.rmdir\n",
        "\n",
        "folder_to_remove= 'Old_Files'\n",
        "os.rmdir(folder_to_remove)"
      ]
    },
    {
      "cell_type": "markdown",
      "metadata": {
        "id": "xMzy2OziPth0"
      },
      "source": [
        "*** NOT EMPTY folder**"
      ]
    },
    {
      "cell_type": "code",
      "execution_count": null,
      "metadata": {
        "id": "HJXGMKc8QKsS",
        "outputId": "4943b490-1c25-4804-f462-3dbe9b10e3d7",
        "colab": {
          "base_uri": "https://localhost:8080/"
        }
      },
      "outputs": [
        {
          "output_type": "stream",
          "name": "stdout",
          "text": [
            "['Inner_folder']\n"
          ]
        }
      ],
      "source": [
        "# list files inside a specific folder (get children)\n",
        "\n",
        "print (os.listdir('New_Folder'))"
      ]
    },
    {
      "cell_type": "code",
      "execution_count": null,
      "metadata": {
        "id": "uVBmXk4gQXGC",
        "outputId": "e4f57e18-4c12-4965-b7f3-1ef25766f2da",
        "colab": {
          "base_uri": "https://localhost:8080/"
        }
      },
      "outputs": [
        {
          "output_type": "stream",
          "name": "stdout",
          "text": [
            "New_Folder\n"
          ]
        }
      ],
      "source": [
        "# save path to New_FOlder\n",
        "inner_folder = 'New_Folder/Inner_folder'\n",
        "\n",
        "# prit parent of Inner_Folder\n",
        "print(Path(inner_folder).parents[0])"
      ]
    },
    {
      "cell_type": "code",
      "execution_count": null,
      "metadata": {
        "id": "eV1B39qb3iCB",
        "outputId": "2c1c6c73-45a2-4967-fb7a-b7787e6a8f9b",
        "colab": {
          "base_uri": "https://localhost:8080/"
        }
      },
      "outputs": [
        {
          "output_type": "execute_result",
          "data": {
            "text/plain": [
              "['Colab Notebooks',\n",
              " 'Raw_Excel_Files',\n",
              " 'UK.xlsx',\n",
              " 'FR.xlsx',\n",
              " 'DE.xlsx',\n",
              " 'UK_old.xlsx']"
            ]
          },
          "metadata": {},
          "execution_count": 64
        }
      ],
      "source": [
        "# delete NOT empty folder\n",
        "\n",
        "# New_Folder contains another file 'Inner_folder'\n",
        "\n",
        "shutil.rmtree('New_Folder') \n",
        "\n",
        "# check again cwd containing to certify that folder has disapeared\n",
        "\n",
        "os.listdir('.')"
      ]
    },
    {
      "cell_type": "markdown",
      "metadata": {
        "id": "0fgLzMm584mg"
      },
      "source": [
        "# 6.&nbsp;Work with Excel Files\n"
      ]
    },
    {
      "cell_type": "code",
      "execution_count": null,
      "metadata": {
        "id": "Eml73ZwN9Z-V"
      },
      "outputs": [],
      "source": [
        "# Create a folder 'Processed_Files' in the cwd where we'll store all processed files \n",
        "\n",
        "des = cwd + '/' + 'Processed_Files'\n",
        "os.makedirs(des)"
      ]
    },
    {
      "cell_type": "markdown",
      "metadata": {
        "id": "7EImbUAb-oBT"
      },
      "source": [
        "\n",
        "\n",
        "1.  First read each excel files and put them into pandas dataframe\n",
        "2.  Consolidate all excel files into a single excel with separate sheet by country\n",
        "3.  Consolidate all excels into a single excel sheet\n",
        "\n"
      ]
    },
    {
      "cell_type": "markdown",
      "metadata": {
        "id": "Z1bvAVLN_dfX"
      },
      "source": [
        "## Read excels"
      ]
    },
    {
      "cell_type": "code",
      "execution_count": null,
      "metadata": {
        "id": "5Vlm5_yr89UT"
      },
      "outputs": [],
      "source": [
        "# if the excel file has too many rows, when visualising the data, not all columns are displayed\n",
        "# to overcome this we use .set_option method\n",
        "\n",
        "# set visible all columns\n",
        "pd.set_option('display.max_columns', None)"
      ]
    },
    {
      "cell_type": "code",
      "execution_count": null,
      "metadata": {
        "id": "7qNp7_9l9ORl",
        "colab": {
          "base_uri": "https://localhost:8080/",
          "height": 496
        },
        "outputId": "4bc5fb5a-ad1e-45ba-b1aa-cccc4843783c"
      },
      "outputs": [
        {
          "output_type": "stream",
          "name": "stdout",
          "text": [
            "Dataframe Shape:  (673, 14)\n",
            "Index(['Date', 'Name', 'Mannschaft', 'Rohe Präsenz (min)', 'Pause (Minuten)',\n",
            "       'Nettopräsenz (Min.)', 'Behandlung (min)', 'DMT', 'Productiviy',\n",
            "       'Processed tickets', 'Closed Tickets', 'FTE (processed)',\n",
            "       'FTE (presence)', 'FTE weighted'],\n",
            "      dtype='object')\n"
          ]
        },
        {
          "output_type": "execute_result",
          "data": {
            "text/plain": [
              "        Date        Name Mannschaft  Rohe Präsenz (min)  Pause (Minuten)  \\\n",
              "0 2022-04-12  Employee_1     TEAM_1                 102                0   \n",
              "1 2022-04-13  Employee_1     TEAM_1                 299                0   \n",
              "2 2022-04-19  Employee_1     TEAM_1                 478                0   \n",
              "3 2022-04-20  Employee_1     TEAM_1                 427                0   \n",
              "4 2022-04-21  Employee_1     TEAM_1                 482                0   \n",
              "\n",
              "   Nettopräsenz (Min.)  Behandlung (min)       DMT  Productiviy  \\\n",
              "0                  102                 4  00:02:08          0.6   \n",
              "1                  299               168  00:42:00          0.4   \n",
              "2                  478               275  00:16:12          2.0   \n",
              "3                  427               142  00:12:56          1.4   \n",
              "4                  482               129  00:16:12          1.0   \n",
              "\n",
              "   Processed tickets  Closed Tickets  FTE (processed)  FTE (presence)  \\\n",
              "0                  2               1             0.00            0.25   \n",
              "1                  4               2             0.50            0.75   \n",
              "2                 17              16             0.75            1.00   \n",
              "3                 11              10             0.50            1.00   \n",
              "4                  8               8             0.50            1.00   \n",
              "\n",
              "   FTE weighted  \n",
              "0          0.00  \n",
              "1          0.50  \n",
              "2          0.75  \n",
              "3          0.50  \n",
              "4          0.50  "
            ],
            "text/html": [
              "\n",
              "  <div id=\"df-beee85bc-ebe9-43a4-a1b3-64316361274e\">\n",
              "    <div class=\"colab-df-container\">\n",
              "      <div>\n",
              "<style scoped>\n",
              "    .dataframe tbody tr th:only-of-type {\n",
              "        vertical-align: middle;\n",
              "    }\n",
              "\n",
              "    .dataframe tbody tr th {\n",
              "        vertical-align: top;\n",
              "    }\n",
              "\n",
              "    .dataframe thead th {\n",
              "        text-align: right;\n",
              "    }\n",
              "</style>\n",
              "<table border=\"1\" class=\"dataframe\">\n",
              "  <thead>\n",
              "    <tr style=\"text-align: right;\">\n",
              "      <th></th>\n",
              "      <th>Date</th>\n",
              "      <th>Name</th>\n",
              "      <th>Mannschaft</th>\n",
              "      <th>Rohe Präsenz (min)</th>\n",
              "      <th>Pause (Minuten)</th>\n",
              "      <th>Nettopräsenz (Min.)</th>\n",
              "      <th>Behandlung (min)</th>\n",
              "      <th>DMT</th>\n",
              "      <th>Productiviy</th>\n",
              "      <th>Processed tickets</th>\n",
              "      <th>Closed Tickets</th>\n",
              "      <th>FTE (processed)</th>\n",
              "      <th>FTE (presence)</th>\n",
              "      <th>FTE weighted</th>\n",
              "    </tr>\n",
              "  </thead>\n",
              "  <tbody>\n",
              "    <tr>\n",
              "      <th>0</th>\n",
              "      <td>2022-04-12</td>\n",
              "      <td>Employee_1</td>\n",
              "      <td>TEAM_1</td>\n",
              "      <td>102</td>\n",
              "      <td>0</td>\n",
              "      <td>102</td>\n",
              "      <td>4</td>\n",
              "      <td>00:02:08</td>\n",
              "      <td>0.6</td>\n",
              "      <td>2</td>\n",
              "      <td>1</td>\n",
              "      <td>0.00</td>\n",
              "      <td>0.25</td>\n",
              "      <td>0.00</td>\n",
              "    </tr>\n",
              "    <tr>\n",
              "      <th>1</th>\n",
              "      <td>2022-04-13</td>\n",
              "      <td>Employee_1</td>\n",
              "      <td>TEAM_1</td>\n",
              "      <td>299</td>\n",
              "      <td>0</td>\n",
              "      <td>299</td>\n",
              "      <td>168</td>\n",
              "      <td>00:42:00</td>\n",
              "      <td>0.4</td>\n",
              "      <td>4</td>\n",
              "      <td>2</td>\n",
              "      <td>0.50</td>\n",
              "      <td>0.75</td>\n",
              "      <td>0.50</td>\n",
              "    </tr>\n",
              "    <tr>\n",
              "      <th>2</th>\n",
              "      <td>2022-04-19</td>\n",
              "      <td>Employee_1</td>\n",
              "      <td>TEAM_1</td>\n",
              "      <td>478</td>\n",
              "      <td>0</td>\n",
              "      <td>478</td>\n",
              "      <td>275</td>\n",
              "      <td>00:16:12</td>\n",
              "      <td>2.0</td>\n",
              "      <td>17</td>\n",
              "      <td>16</td>\n",
              "      <td>0.75</td>\n",
              "      <td>1.00</td>\n",
              "      <td>0.75</td>\n",
              "    </tr>\n",
              "    <tr>\n",
              "      <th>3</th>\n",
              "      <td>2022-04-20</td>\n",
              "      <td>Employee_1</td>\n",
              "      <td>TEAM_1</td>\n",
              "      <td>427</td>\n",
              "      <td>0</td>\n",
              "      <td>427</td>\n",
              "      <td>142</td>\n",
              "      <td>00:12:56</td>\n",
              "      <td>1.4</td>\n",
              "      <td>11</td>\n",
              "      <td>10</td>\n",
              "      <td>0.50</td>\n",
              "      <td>1.00</td>\n",
              "      <td>0.50</td>\n",
              "    </tr>\n",
              "    <tr>\n",
              "      <th>4</th>\n",
              "      <td>2022-04-21</td>\n",
              "      <td>Employee_1</td>\n",
              "      <td>TEAM_1</td>\n",
              "      <td>482</td>\n",
              "      <td>0</td>\n",
              "      <td>482</td>\n",
              "      <td>129</td>\n",
              "      <td>00:16:12</td>\n",
              "      <td>1.0</td>\n",
              "      <td>8</td>\n",
              "      <td>8</td>\n",
              "      <td>0.50</td>\n",
              "      <td>1.00</td>\n",
              "      <td>0.50</td>\n",
              "    </tr>\n",
              "  </tbody>\n",
              "</table>\n",
              "</div>\n",
              "      <button class=\"colab-df-convert\" onclick=\"convertToInteractive('df-beee85bc-ebe9-43a4-a1b3-64316361274e')\"\n",
              "              title=\"Convert this dataframe to an interactive table.\"\n",
              "              style=\"display:none;\">\n",
              "        \n",
              "  <svg xmlns=\"http://www.w3.org/2000/svg\" height=\"24px\"viewBox=\"0 0 24 24\"\n",
              "       width=\"24px\">\n",
              "    <path d=\"M0 0h24v24H0V0z\" fill=\"none\"/>\n",
              "    <path d=\"M18.56 5.44l.94 2.06.94-2.06 2.06-.94-2.06-.94-.94-2.06-.94 2.06-2.06.94zm-11 1L8.5 8.5l.94-2.06 2.06-.94-2.06-.94L8.5 2.5l-.94 2.06-2.06.94zm10 10l.94 2.06.94-2.06 2.06-.94-2.06-.94-.94-2.06-.94 2.06-2.06.94z\"/><path d=\"M17.41 7.96l-1.37-1.37c-.4-.4-.92-.59-1.43-.59-.52 0-1.04.2-1.43.59L10.3 9.45l-7.72 7.72c-.78.78-.78 2.05 0 2.83L4 21.41c.39.39.9.59 1.41.59.51 0 1.02-.2 1.41-.59l7.78-7.78 2.81-2.81c.8-.78.8-2.07 0-2.86zM5.41 20L4 18.59l7.72-7.72 1.47 1.35L5.41 20z\"/>\n",
              "  </svg>\n",
              "      </button>\n",
              "      \n",
              "  <style>\n",
              "    .colab-df-container {\n",
              "      display:flex;\n",
              "      flex-wrap:wrap;\n",
              "      gap: 12px;\n",
              "    }\n",
              "\n",
              "    .colab-df-convert {\n",
              "      background-color: #E8F0FE;\n",
              "      border: none;\n",
              "      border-radius: 50%;\n",
              "      cursor: pointer;\n",
              "      display: none;\n",
              "      fill: #1967D2;\n",
              "      height: 32px;\n",
              "      padding: 0 0 0 0;\n",
              "      width: 32px;\n",
              "    }\n",
              "\n",
              "    .colab-df-convert:hover {\n",
              "      background-color: #E2EBFA;\n",
              "      box-shadow: 0px 1px 2px rgba(60, 64, 67, 0.3), 0px 1px 3px 1px rgba(60, 64, 67, 0.15);\n",
              "      fill: #174EA6;\n",
              "    }\n",
              "\n",
              "    [theme=dark] .colab-df-convert {\n",
              "      background-color: #3B4455;\n",
              "      fill: #D2E3FC;\n",
              "    }\n",
              "\n",
              "    [theme=dark] .colab-df-convert:hover {\n",
              "      background-color: #434B5C;\n",
              "      box-shadow: 0px 1px 3px 1px rgba(0, 0, 0, 0.15);\n",
              "      filter: drop-shadow(0px 1px 2px rgba(0, 0, 0, 0.3));\n",
              "      fill: #FFFFFF;\n",
              "    }\n",
              "  </style>\n",
              "\n",
              "      <script>\n",
              "        const buttonEl =\n",
              "          document.querySelector('#df-beee85bc-ebe9-43a4-a1b3-64316361274e button.colab-df-convert');\n",
              "        buttonEl.style.display =\n",
              "          google.colab.kernel.accessAllowed ? 'block' : 'none';\n",
              "\n",
              "        async function convertToInteractive(key) {\n",
              "          const element = document.querySelector('#df-beee85bc-ebe9-43a4-a1b3-64316361274e');\n",
              "          const dataTable =\n",
              "            await google.colab.kernel.invokeFunction('convertToInteractive',\n",
              "                                                     [key], {});\n",
              "          if (!dataTable) return;\n",
              "\n",
              "          const docLinkHtml = 'Like what you see? Visit the ' +\n",
              "            '<a target=\"_blank\" href=https://colab.research.google.com/notebooks/data_table.ipynb>data table notebook</a>'\n",
              "            + ' to learn more about interactive tables.';\n",
              "          element.innerHTML = '';\n",
              "          dataTable['output_type'] = 'display_data';\n",
              "          await google.colab.output.renderOutput(dataTable, element);\n",
              "          const docLink = document.createElement('div');\n",
              "          docLink.innerHTML = docLinkHtml;\n",
              "          element.appendChild(docLink);\n",
              "        }\n",
              "      </script>\n",
              "    </div>\n",
              "  </div>\n",
              "  "
            ]
          },
          "metadata": {},
          "execution_count": 67
        }
      ],
      "source": [
        "# DE.xlsx file from Raw_Excel_Files folder\n",
        "\n",
        "# store the nme of the file in filename variable\n",
        "filename = 'Raw_Excel_Files/DE.xlsx'\n",
        "# read the excel file with .read_excel method\n",
        "de = pd.read_excel(filename, # the file we want to read\n",
        "                   index_col=None, # do not add column index\n",
        "                   header=0) # the first row to be used as headers (column names)\n",
        "\n",
        "# check dataframe shape\n",
        "print('Dataframe Shape: ', de.shape)\n",
        "print(de.columns)\n",
        "\n",
        "de.head()"
      ]
    },
    {
      "cell_type": "code",
      "execution_count": null,
      "metadata": {
        "id": "q-ZJeXh4_KBz",
        "colab": {
          "base_uri": "https://localhost:8080/",
          "height": 409
        },
        "outputId": "15de0e38-4d49-487d-b3bf-34abb94d6f21"
      },
      "outputs": [
        {
          "output_type": "stream",
          "name": "stdout",
          "text": [
            "Dataframe Shape:  (673, 15)\n"
          ]
        },
        {
          "output_type": "execute_result",
          "data": {
            "text/plain": [
              "        Date        Name Mannschaft  Rohe Präsenz (min)  Pause (Minuten)  \\\n",
              "0 2022-04-12  Employee_1     TEAM_1                 102                0   \n",
              "1 2022-04-13  Employee_1     TEAM_1                 299                0   \n",
              "2 2022-04-19  Employee_1     TEAM_1                 478                0   \n",
              "3 2022-04-20  Employee_1     TEAM_1                 427                0   \n",
              "4 2022-04-21  Employee_1     TEAM_1                 482                0   \n",
              "\n",
              "   Nettopräsenz (Min.)  Behandlung (min)       DMT  Productiviy  \\\n",
              "0                  102                 4  00:02:08          0.6   \n",
              "1                  299               168  00:42:00          0.4   \n",
              "2                  478               275  00:16:12          2.0   \n",
              "3                  427               142  00:12:56          1.4   \n",
              "4                  482               129  00:16:12          1.0   \n",
              "\n",
              "   Processed tickets  Closed Tickets  FTE (processed)  FTE (presence)  \\\n",
              "0                  2               1             0.00            0.25   \n",
              "1                  4               2             0.50            0.75   \n",
              "2                 17              16             0.75            1.00   \n",
              "3                 11              10             0.50            1.00   \n",
              "4                  8               8             0.50            1.00   \n",
              "\n",
              "   FTE weighted Country  \n",
              "0          0.00      DE  \n",
              "1          0.50      DE  \n",
              "2          0.75      DE  \n",
              "3          0.50      DE  \n",
              "4          0.50      DE  "
            ],
            "text/html": [
              "\n",
              "  <div id=\"df-6ac916e6-2df4-4220-81cd-a6901fb5d513\">\n",
              "    <div class=\"colab-df-container\">\n",
              "      <div>\n",
              "<style scoped>\n",
              "    .dataframe tbody tr th:only-of-type {\n",
              "        vertical-align: middle;\n",
              "    }\n",
              "\n",
              "    .dataframe tbody tr th {\n",
              "        vertical-align: top;\n",
              "    }\n",
              "\n",
              "    .dataframe thead th {\n",
              "        text-align: right;\n",
              "    }\n",
              "</style>\n",
              "<table border=\"1\" class=\"dataframe\">\n",
              "  <thead>\n",
              "    <tr style=\"text-align: right;\">\n",
              "      <th></th>\n",
              "      <th>Date</th>\n",
              "      <th>Name</th>\n",
              "      <th>Mannschaft</th>\n",
              "      <th>Rohe Präsenz (min)</th>\n",
              "      <th>Pause (Minuten)</th>\n",
              "      <th>Nettopräsenz (Min.)</th>\n",
              "      <th>Behandlung (min)</th>\n",
              "      <th>DMT</th>\n",
              "      <th>Productiviy</th>\n",
              "      <th>Processed tickets</th>\n",
              "      <th>Closed Tickets</th>\n",
              "      <th>FTE (processed)</th>\n",
              "      <th>FTE (presence)</th>\n",
              "      <th>FTE weighted</th>\n",
              "      <th>Country</th>\n",
              "    </tr>\n",
              "  </thead>\n",
              "  <tbody>\n",
              "    <tr>\n",
              "      <th>0</th>\n",
              "      <td>2022-04-12</td>\n",
              "      <td>Employee_1</td>\n",
              "      <td>TEAM_1</td>\n",
              "      <td>102</td>\n",
              "      <td>0</td>\n",
              "      <td>102</td>\n",
              "      <td>4</td>\n",
              "      <td>00:02:08</td>\n",
              "      <td>0.6</td>\n",
              "      <td>2</td>\n",
              "      <td>1</td>\n",
              "      <td>0.00</td>\n",
              "      <td>0.25</td>\n",
              "      <td>0.00</td>\n",
              "      <td>DE</td>\n",
              "    </tr>\n",
              "    <tr>\n",
              "      <th>1</th>\n",
              "      <td>2022-04-13</td>\n",
              "      <td>Employee_1</td>\n",
              "      <td>TEAM_1</td>\n",
              "      <td>299</td>\n",
              "      <td>0</td>\n",
              "      <td>299</td>\n",
              "      <td>168</td>\n",
              "      <td>00:42:00</td>\n",
              "      <td>0.4</td>\n",
              "      <td>4</td>\n",
              "      <td>2</td>\n",
              "      <td>0.50</td>\n",
              "      <td>0.75</td>\n",
              "      <td>0.50</td>\n",
              "      <td>DE</td>\n",
              "    </tr>\n",
              "    <tr>\n",
              "      <th>2</th>\n",
              "      <td>2022-04-19</td>\n",
              "      <td>Employee_1</td>\n",
              "      <td>TEAM_1</td>\n",
              "      <td>478</td>\n",
              "      <td>0</td>\n",
              "      <td>478</td>\n",
              "      <td>275</td>\n",
              "      <td>00:16:12</td>\n",
              "      <td>2.0</td>\n",
              "      <td>17</td>\n",
              "      <td>16</td>\n",
              "      <td>0.75</td>\n",
              "      <td>1.00</td>\n",
              "      <td>0.75</td>\n",
              "      <td>DE</td>\n",
              "    </tr>\n",
              "    <tr>\n",
              "      <th>3</th>\n",
              "      <td>2022-04-20</td>\n",
              "      <td>Employee_1</td>\n",
              "      <td>TEAM_1</td>\n",
              "      <td>427</td>\n",
              "      <td>0</td>\n",
              "      <td>427</td>\n",
              "      <td>142</td>\n",
              "      <td>00:12:56</td>\n",
              "      <td>1.4</td>\n",
              "      <td>11</td>\n",
              "      <td>10</td>\n",
              "      <td>0.50</td>\n",
              "      <td>1.00</td>\n",
              "      <td>0.50</td>\n",
              "      <td>DE</td>\n",
              "    </tr>\n",
              "    <tr>\n",
              "      <th>4</th>\n",
              "      <td>2022-04-21</td>\n",
              "      <td>Employee_1</td>\n",
              "      <td>TEAM_1</td>\n",
              "      <td>482</td>\n",
              "      <td>0</td>\n",
              "      <td>482</td>\n",
              "      <td>129</td>\n",
              "      <td>00:16:12</td>\n",
              "      <td>1.0</td>\n",
              "      <td>8</td>\n",
              "      <td>8</td>\n",
              "      <td>0.50</td>\n",
              "      <td>1.00</td>\n",
              "      <td>0.50</td>\n",
              "      <td>DE</td>\n",
              "    </tr>\n",
              "  </tbody>\n",
              "</table>\n",
              "</div>\n",
              "      <button class=\"colab-df-convert\" onclick=\"convertToInteractive('df-6ac916e6-2df4-4220-81cd-a6901fb5d513')\"\n",
              "              title=\"Convert this dataframe to an interactive table.\"\n",
              "              style=\"display:none;\">\n",
              "        \n",
              "  <svg xmlns=\"http://www.w3.org/2000/svg\" height=\"24px\"viewBox=\"0 0 24 24\"\n",
              "       width=\"24px\">\n",
              "    <path d=\"M0 0h24v24H0V0z\" fill=\"none\"/>\n",
              "    <path d=\"M18.56 5.44l.94 2.06.94-2.06 2.06-.94-2.06-.94-.94-2.06-.94 2.06-2.06.94zm-11 1L8.5 8.5l.94-2.06 2.06-.94-2.06-.94L8.5 2.5l-.94 2.06-2.06.94zm10 10l.94 2.06.94-2.06 2.06-.94-2.06-.94-.94-2.06-.94 2.06-2.06.94z\"/><path d=\"M17.41 7.96l-1.37-1.37c-.4-.4-.92-.59-1.43-.59-.52 0-1.04.2-1.43.59L10.3 9.45l-7.72 7.72c-.78.78-.78 2.05 0 2.83L4 21.41c.39.39.9.59 1.41.59.51 0 1.02-.2 1.41-.59l7.78-7.78 2.81-2.81c.8-.78.8-2.07 0-2.86zM5.41 20L4 18.59l7.72-7.72 1.47 1.35L5.41 20z\"/>\n",
              "  </svg>\n",
              "      </button>\n",
              "      \n",
              "  <style>\n",
              "    .colab-df-container {\n",
              "      display:flex;\n",
              "      flex-wrap:wrap;\n",
              "      gap: 12px;\n",
              "    }\n",
              "\n",
              "    .colab-df-convert {\n",
              "      background-color: #E8F0FE;\n",
              "      border: none;\n",
              "      border-radius: 50%;\n",
              "      cursor: pointer;\n",
              "      display: none;\n",
              "      fill: #1967D2;\n",
              "      height: 32px;\n",
              "      padding: 0 0 0 0;\n",
              "      width: 32px;\n",
              "    }\n",
              "\n",
              "    .colab-df-convert:hover {\n",
              "      background-color: #E2EBFA;\n",
              "      box-shadow: 0px 1px 2px rgba(60, 64, 67, 0.3), 0px 1px 3px 1px rgba(60, 64, 67, 0.15);\n",
              "      fill: #174EA6;\n",
              "    }\n",
              "\n",
              "    [theme=dark] .colab-df-convert {\n",
              "      background-color: #3B4455;\n",
              "      fill: #D2E3FC;\n",
              "    }\n",
              "\n",
              "    [theme=dark] .colab-df-convert:hover {\n",
              "      background-color: #434B5C;\n",
              "      box-shadow: 0px 1px 3px 1px rgba(0, 0, 0, 0.15);\n",
              "      filter: drop-shadow(0px 1px 2px rgba(0, 0, 0, 0.3));\n",
              "      fill: #FFFFFF;\n",
              "    }\n",
              "  </style>\n",
              "\n",
              "      <script>\n",
              "        const buttonEl =\n",
              "          document.querySelector('#df-6ac916e6-2df4-4220-81cd-a6901fb5d513 button.colab-df-convert');\n",
              "        buttonEl.style.display =\n",
              "          google.colab.kernel.accessAllowed ? 'block' : 'none';\n",
              "\n",
              "        async function convertToInteractive(key) {\n",
              "          const element = document.querySelector('#df-6ac916e6-2df4-4220-81cd-a6901fb5d513');\n",
              "          const dataTable =\n",
              "            await google.colab.kernel.invokeFunction('convertToInteractive',\n",
              "                                                     [key], {});\n",
              "          if (!dataTable) return;\n",
              "\n",
              "          const docLinkHtml = 'Like what you see? Visit the ' +\n",
              "            '<a target=\"_blank\" href=https://colab.research.google.com/notebooks/data_table.ipynb>data table notebook</a>'\n",
              "            + ' to learn more about interactive tables.';\n",
              "          element.innerHTML = '';\n",
              "          dataTable['output_type'] = 'display_data';\n",
              "          await google.colab.output.renderOutput(dataTable, element);\n",
              "          const docLink = document.createElement('div');\n",
              "          docLink.innerHTML = docLinkHtml;\n",
              "          element.appendChild(docLink);\n",
              "        }\n",
              "      </script>\n",
              "    </div>\n",
              "  </div>\n",
              "  "
            ]
          },
          "metadata": {},
          "execution_count": 68
        }
      ],
      "source": [
        "# add a column 'Country' to diferentiate the data in the consilidated dataframe\n",
        "de['Country']= 'DE'\n",
        "\n",
        "# check dataframe shape after adding the new column\n",
        "print('Dataframe Shape: ', de.shape)\n",
        "\n",
        "# visualize first rows\n",
        "de.head()"
      ]
    },
    {
      "cell_type": "code",
      "execution_count": null,
      "metadata": {
        "id": "EJdbhRHx-gDK",
        "colab": {
          "base_uri": "https://localhost:8080/"
        },
        "outputId": "de70673f-7098-43cc-87a8-9d4cebc8013c"
      },
      "outputs": [
        {
          "output_type": "stream",
          "name": "stdout",
          "text": [
            "nb of columns:  15\n",
            "nb of rows:  673\n"
          ]
        },
        {
          "output_type": "execute_result",
          "data": {
            "text/plain": [
              "Index(['Date', 'Name', 'Mannschaft', 'Rohe Präsenz (min)', 'Pause (Minuten)',\n",
              "       'Nettopräsenz (Min.)', 'Behandlung (min)', 'DMT', 'Productiviy',\n",
              "       'Processed tickets', 'Closed Tickets', 'FTE (processed)',\n",
              "       'FTE (presence)', 'FTE weighted', 'Country'],\n",
              "      dtype='object')"
            ]
          },
          "metadata": {},
          "execution_count": 69
        }
      ],
      "source": [
        "print('nb of columns: ', len(de.columns))\n",
        "print('nb of rows: ', len(de))\n",
        "de.columns"
      ]
    },
    {
      "cell_type": "code",
      "execution_count": null,
      "metadata": {
        "id": "8epCZNIl_Put",
        "colab": {
          "base_uri": "https://localhost:8080/",
          "height": 531
        },
        "outputId": "cb059850-a02d-42c0-9c1d-5c134711b305"
      },
      "outputs": [
        {
          "output_type": "stream",
          "name": "stdout",
          "text": [
            "Dataframe Shape:  (267, 15)\n",
            "nb of columns:  15\n",
            "nb of rows:  267\n",
            "column names:  Index(['Date', 'Nom/Prénom', 'EQUIPE', 'Présence brute (min)', 'Pause (min)',\n",
            "       'Présente nette (min)', 'Traitement (min)', 'DMT',\n",
            "       'Productivité horaire', 'Tickets traités', 'Tickets clos',\n",
            "       'FTE (traitement)', 'FTE (présence)', 'FTE pondéré', 'Country'],\n",
            "      dtype='object')\n"
          ]
        },
        {
          "output_type": "execute_result",
          "data": {
            "text/plain": [
              "        Date  Nom/Prénom  EQUIPE  Présence brute (min)  Pause (min)  \\\n",
              "0 2022-04-12  Employee_1  TEAM_1                   102            0   \n",
              "1 2022-04-19  Employee_1  TEAM_1                   478            0   \n",
              "2 2022-04-20  Employee_1  TEAM_1                   427            0   \n",
              "3 2022-04-21  Employee_1  TEAM_1                   482            0   \n",
              "4 2022-04-22  Employee_1  TEAM_1                   476            0   \n",
              "\n",
              "   Présente nette (min)  Traitement (min)       DMT  Productivité horaire  \\\n",
              "0                   102                 4  0.001481                   0.6   \n",
              "1                   478               275  0.011250                   2.0   \n",
              "2                   427               142  0.008981                   1.4   \n",
              "3                   482               129  0.011250                   1.0   \n",
              "4                   476               117  0.013634                   0.8   \n",
              "\n",
              "   Tickets traités  Tickets clos  FTE (traitement)  FTE (présence)  \\\n",
              "0                2             1              0.00            0.25   \n",
              "1               17            16              0.75            1.00   \n",
              "2               11            10              0.50            1.00   \n",
              "3                8             8              0.50            1.00   \n",
              "4                6             6              0.25            1.00   \n",
              "\n",
              "   FTE pondéré Country  \n",
              "0         0.00      FR  \n",
              "1         0.75      FR  \n",
              "2         0.50      FR  \n",
              "3         0.50      FR  \n",
              "4         0.25      FR  "
            ],
            "text/html": [
              "\n",
              "  <div id=\"df-854b9480-1725-4591-ac8a-95ccc8e822e6\">\n",
              "    <div class=\"colab-df-container\">\n",
              "      <div>\n",
              "<style scoped>\n",
              "    .dataframe tbody tr th:only-of-type {\n",
              "        vertical-align: middle;\n",
              "    }\n",
              "\n",
              "    .dataframe tbody tr th {\n",
              "        vertical-align: top;\n",
              "    }\n",
              "\n",
              "    .dataframe thead th {\n",
              "        text-align: right;\n",
              "    }\n",
              "</style>\n",
              "<table border=\"1\" class=\"dataframe\">\n",
              "  <thead>\n",
              "    <tr style=\"text-align: right;\">\n",
              "      <th></th>\n",
              "      <th>Date</th>\n",
              "      <th>Nom/Prénom</th>\n",
              "      <th>EQUIPE</th>\n",
              "      <th>Présence brute (min)</th>\n",
              "      <th>Pause (min)</th>\n",
              "      <th>Présente nette (min)</th>\n",
              "      <th>Traitement (min)</th>\n",
              "      <th>DMT</th>\n",
              "      <th>Productivité horaire</th>\n",
              "      <th>Tickets traités</th>\n",
              "      <th>Tickets clos</th>\n",
              "      <th>FTE (traitement)</th>\n",
              "      <th>FTE (présence)</th>\n",
              "      <th>FTE pondéré</th>\n",
              "      <th>Country</th>\n",
              "    </tr>\n",
              "  </thead>\n",
              "  <tbody>\n",
              "    <tr>\n",
              "      <th>0</th>\n",
              "      <td>2022-04-12</td>\n",
              "      <td>Employee_1</td>\n",
              "      <td>TEAM_1</td>\n",
              "      <td>102</td>\n",
              "      <td>0</td>\n",
              "      <td>102</td>\n",
              "      <td>4</td>\n",
              "      <td>0.001481</td>\n",
              "      <td>0.6</td>\n",
              "      <td>2</td>\n",
              "      <td>1</td>\n",
              "      <td>0.00</td>\n",
              "      <td>0.25</td>\n",
              "      <td>0.00</td>\n",
              "      <td>FR</td>\n",
              "    </tr>\n",
              "    <tr>\n",
              "      <th>1</th>\n",
              "      <td>2022-04-19</td>\n",
              "      <td>Employee_1</td>\n",
              "      <td>TEAM_1</td>\n",
              "      <td>478</td>\n",
              "      <td>0</td>\n",
              "      <td>478</td>\n",
              "      <td>275</td>\n",
              "      <td>0.011250</td>\n",
              "      <td>2.0</td>\n",
              "      <td>17</td>\n",
              "      <td>16</td>\n",
              "      <td>0.75</td>\n",
              "      <td>1.00</td>\n",
              "      <td>0.75</td>\n",
              "      <td>FR</td>\n",
              "    </tr>\n",
              "    <tr>\n",
              "      <th>2</th>\n",
              "      <td>2022-04-20</td>\n",
              "      <td>Employee_1</td>\n",
              "      <td>TEAM_1</td>\n",
              "      <td>427</td>\n",
              "      <td>0</td>\n",
              "      <td>427</td>\n",
              "      <td>142</td>\n",
              "      <td>0.008981</td>\n",
              "      <td>1.4</td>\n",
              "      <td>11</td>\n",
              "      <td>10</td>\n",
              "      <td>0.50</td>\n",
              "      <td>1.00</td>\n",
              "      <td>0.50</td>\n",
              "      <td>FR</td>\n",
              "    </tr>\n",
              "    <tr>\n",
              "      <th>3</th>\n",
              "      <td>2022-04-21</td>\n",
              "      <td>Employee_1</td>\n",
              "      <td>TEAM_1</td>\n",
              "      <td>482</td>\n",
              "      <td>0</td>\n",
              "      <td>482</td>\n",
              "      <td>129</td>\n",
              "      <td>0.011250</td>\n",
              "      <td>1.0</td>\n",
              "      <td>8</td>\n",
              "      <td>8</td>\n",
              "      <td>0.50</td>\n",
              "      <td>1.00</td>\n",
              "      <td>0.50</td>\n",
              "      <td>FR</td>\n",
              "    </tr>\n",
              "    <tr>\n",
              "      <th>4</th>\n",
              "      <td>2022-04-22</td>\n",
              "      <td>Employee_1</td>\n",
              "      <td>TEAM_1</td>\n",
              "      <td>476</td>\n",
              "      <td>0</td>\n",
              "      <td>476</td>\n",
              "      <td>117</td>\n",
              "      <td>0.013634</td>\n",
              "      <td>0.8</td>\n",
              "      <td>6</td>\n",
              "      <td>6</td>\n",
              "      <td>0.25</td>\n",
              "      <td>1.00</td>\n",
              "      <td>0.25</td>\n",
              "      <td>FR</td>\n",
              "    </tr>\n",
              "  </tbody>\n",
              "</table>\n",
              "</div>\n",
              "      <button class=\"colab-df-convert\" onclick=\"convertToInteractive('df-854b9480-1725-4591-ac8a-95ccc8e822e6')\"\n",
              "              title=\"Convert this dataframe to an interactive table.\"\n",
              "              style=\"display:none;\">\n",
              "        \n",
              "  <svg xmlns=\"http://www.w3.org/2000/svg\" height=\"24px\"viewBox=\"0 0 24 24\"\n",
              "       width=\"24px\">\n",
              "    <path d=\"M0 0h24v24H0V0z\" fill=\"none\"/>\n",
              "    <path d=\"M18.56 5.44l.94 2.06.94-2.06 2.06-.94-2.06-.94-.94-2.06-.94 2.06-2.06.94zm-11 1L8.5 8.5l.94-2.06 2.06-.94-2.06-.94L8.5 2.5l-.94 2.06-2.06.94zm10 10l.94 2.06.94-2.06 2.06-.94-2.06-.94-.94-2.06-.94 2.06-2.06.94z\"/><path d=\"M17.41 7.96l-1.37-1.37c-.4-.4-.92-.59-1.43-.59-.52 0-1.04.2-1.43.59L10.3 9.45l-7.72 7.72c-.78.78-.78 2.05 0 2.83L4 21.41c.39.39.9.59 1.41.59.51 0 1.02-.2 1.41-.59l7.78-7.78 2.81-2.81c.8-.78.8-2.07 0-2.86zM5.41 20L4 18.59l7.72-7.72 1.47 1.35L5.41 20z\"/>\n",
              "  </svg>\n",
              "      </button>\n",
              "      \n",
              "  <style>\n",
              "    .colab-df-container {\n",
              "      display:flex;\n",
              "      flex-wrap:wrap;\n",
              "      gap: 12px;\n",
              "    }\n",
              "\n",
              "    .colab-df-convert {\n",
              "      background-color: #E8F0FE;\n",
              "      border: none;\n",
              "      border-radius: 50%;\n",
              "      cursor: pointer;\n",
              "      display: none;\n",
              "      fill: #1967D2;\n",
              "      height: 32px;\n",
              "      padding: 0 0 0 0;\n",
              "      width: 32px;\n",
              "    }\n",
              "\n",
              "    .colab-df-convert:hover {\n",
              "      background-color: #E2EBFA;\n",
              "      box-shadow: 0px 1px 2px rgba(60, 64, 67, 0.3), 0px 1px 3px 1px rgba(60, 64, 67, 0.15);\n",
              "      fill: #174EA6;\n",
              "    }\n",
              "\n",
              "    [theme=dark] .colab-df-convert {\n",
              "      background-color: #3B4455;\n",
              "      fill: #D2E3FC;\n",
              "    }\n",
              "\n",
              "    [theme=dark] .colab-df-convert:hover {\n",
              "      background-color: #434B5C;\n",
              "      box-shadow: 0px 1px 3px 1px rgba(0, 0, 0, 0.15);\n",
              "      filter: drop-shadow(0px 1px 2px rgba(0, 0, 0, 0.3));\n",
              "      fill: #FFFFFF;\n",
              "    }\n",
              "  </style>\n",
              "\n",
              "      <script>\n",
              "        const buttonEl =\n",
              "          document.querySelector('#df-854b9480-1725-4591-ac8a-95ccc8e822e6 button.colab-df-convert');\n",
              "        buttonEl.style.display =\n",
              "          google.colab.kernel.accessAllowed ? 'block' : 'none';\n",
              "\n",
              "        async function convertToInteractive(key) {\n",
              "          const element = document.querySelector('#df-854b9480-1725-4591-ac8a-95ccc8e822e6');\n",
              "          const dataTable =\n",
              "            await google.colab.kernel.invokeFunction('convertToInteractive',\n",
              "                                                     [key], {});\n",
              "          if (!dataTable) return;\n",
              "\n",
              "          const docLinkHtml = 'Like what you see? Visit the ' +\n",
              "            '<a target=\"_blank\" href=https://colab.research.google.com/notebooks/data_table.ipynb>data table notebook</a>'\n",
              "            + ' to learn more about interactive tables.';\n",
              "          element.innerHTML = '';\n",
              "          dataTable['output_type'] = 'display_data';\n",
              "          await google.colab.output.renderOutput(dataTable, element);\n",
              "          const docLink = document.createElement('div');\n",
              "          docLink.innerHTML = docLinkHtml;\n",
              "          element.appendChild(docLink);\n",
              "        }\n",
              "      </script>\n",
              "    </div>\n",
              "  </div>\n",
              "  "
            ]
          },
          "metadata": {},
          "execution_count": 70
        }
      ],
      "source": [
        "# FR\n",
        "filename = 'Raw_Excel_Files/FR.xlsx'\n",
        "fr = pd.read_excel(filename, index_col=None, header=0)\n",
        "\n",
        "\n",
        "# add a column 'Country' to diferentiate the data in the consilidated dataframe\n",
        "fr['Country']= 'FR'\n",
        "\n",
        "# check dataframe shape, dimensions after adding the new column\n",
        "print('Dataframe Shape: ', fr.shape)\n",
        "print('nb of columns: ', len(fr.columns))\n",
        "print('nb of rows: ', len(fr))\n",
        "\n",
        "# print column names \n",
        "print('column names: ', fr.columns)\n",
        "\n",
        "# visualize first rows\n",
        "fr.head()"
      ]
    },
    {
      "cell_type": "code",
      "execution_count": null,
      "metadata": {
        "id": "qmpsNlOW_lzx",
        "colab": {
          "base_uri": "https://localhost:8080/",
          "height": 531
        },
        "outputId": "19a048a6-0f62-42ca-e5ac-25b167c1ac68"
      },
      "outputs": [
        {
          "output_type": "stream",
          "name": "stdout",
          "text": [
            "Dataframe Shape:  (269, 15)\n",
            "nb of columns:  15\n",
            "nb of rows:  269\n",
            "column names:  Index(['Date', 'Name', 'Team', 'Presence', 'Pause (min)', 'Presence net (min)',\n",
            "       'Processed (min)', 'DMT', 'Productivity hours', 'Processed tickets',\n",
            "       'Closed tickets', 'FTE (process)', 'FTE (presence)', 'FTE weighted',\n",
            "       'Country'],\n",
            "      dtype='object')\n"
          ]
        },
        {
          "output_type": "execute_result",
          "data": {
            "text/plain": [
              "        Date        Name    Team  Presence  Pause (min)  Presence net (min)  \\\n",
              "0 2022-04-12  Employee_1  TEAM_1     102.0          0.0                 102   \n",
              "1 2022-04-19  Employee_1  TEAM_1     478.0          0.0                 478   \n",
              "2 2022-04-20  Employee_1  TEAM_1       4.0          0.0                 427   \n",
              "3 2022-04-21  Employee_1  TEAM_1     482.0          0.0                 482   \n",
              "4 2022-04-22  Employee_1  TEAM_1     476.0          0.0                 476   \n",
              "\n",
              "   Processed (min)       DMT  Productivity hours  Processed tickets  \\\n",
              "0                4  0.001481                 0.6                  2   \n",
              "1              275  0.011250                 2.0                 17   \n",
              "2              142  0.008981                 1.4                 11   \n",
              "3              129  0.011250                 1.0                  8   \n",
              "4              117  0.013634                 0.8                  6   \n",
              "\n",
              "   Closed tickets  FTE (process)  FTE (presence)  FTE weighted Country  \n",
              "0               1           0.00            0.25          0.00      UK  \n",
              "1              16           0.75            1.00          0.75      UK  \n",
              "2              10           0.50            1.00          0.50      UK  \n",
              "3               8           0.50            1.00          0.50      UK  \n",
              "4               6           0.25            1.00          0.25      UK  "
            ],
            "text/html": [
              "\n",
              "  <div id=\"df-0a7b31a3-6ac7-4186-af6a-fdd63142f00a\">\n",
              "    <div class=\"colab-df-container\">\n",
              "      <div>\n",
              "<style scoped>\n",
              "    .dataframe tbody tr th:only-of-type {\n",
              "        vertical-align: middle;\n",
              "    }\n",
              "\n",
              "    .dataframe tbody tr th {\n",
              "        vertical-align: top;\n",
              "    }\n",
              "\n",
              "    .dataframe thead th {\n",
              "        text-align: right;\n",
              "    }\n",
              "</style>\n",
              "<table border=\"1\" class=\"dataframe\">\n",
              "  <thead>\n",
              "    <tr style=\"text-align: right;\">\n",
              "      <th></th>\n",
              "      <th>Date</th>\n",
              "      <th>Name</th>\n",
              "      <th>Team</th>\n",
              "      <th>Presence</th>\n",
              "      <th>Pause (min)</th>\n",
              "      <th>Presence net (min)</th>\n",
              "      <th>Processed (min)</th>\n",
              "      <th>DMT</th>\n",
              "      <th>Productivity hours</th>\n",
              "      <th>Processed tickets</th>\n",
              "      <th>Closed tickets</th>\n",
              "      <th>FTE (process)</th>\n",
              "      <th>FTE (presence)</th>\n",
              "      <th>FTE weighted</th>\n",
              "      <th>Country</th>\n",
              "    </tr>\n",
              "  </thead>\n",
              "  <tbody>\n",
              "    <tr>\n",
              "      <th>0</th>\n",
              "      <td>2022-04-12</td>\n",
              "      <td>Employee_1</td>\n",
              "      <td>TEAM_1</td>\n",
              "      <td>102.0</td>\n",
              "      <td>0.0</td>\n",
              "      <td>102</td>\n",
              "      <td>4</td>\n",
              "      <td>0.001481</td>\n",
              "      <td>0.6</td>\n",
              "      <td>2</td>\n",
              "      <td>1</td>\n",
              "      <td>0.00</td>\n",
              "      <td>0.25</td>\n",
              "      <td>0.00</td>\n",
              "      <td>UK</td>\n",
              "    </tr>\n",
              "    <tr>\n",
              "      <th>1</th>\n",
              "      <td>2022-04-19</td>\n",
              "      <td>Employee_1</td>\n",
              "      <td>TEAM_1</td>\n",
              "      <td>478.0</td>\n",
              "      <td>0.0</td>\n",
              "      <td>478</td>\n",
              "      <td>275</td>\n",
              "      <td>0.011250</td>\n",
              "      <td>2.0</td>\n",
              "      <td>17</td>\n",
              "      <td>16</td>\n",
              "      <td>0.75</td>\n",
              "      <td>1.00</td>\n",
              "      <td>0.75</td>\n",
              "      <td>UK</td>\n",
              "    </tr>\n",
              "    <tr>\n",
              "      <th>2</th>\n",
              "      <td>2022-04-20</td>\n",
              "      <td>Employee_1</td>\n",
              "      <td>TEAM_1</td>\n",
              "      <td>4.0</td>\n",
              "      <td>0.0</td>\n",
              "      <td>427</td>\n",
              "      <td>142</td>\n",
              "      <td>0.008981</td>\n",
              "      <td>1.4</td>\n",
              "      <td>11</td>\n",
              "      <td>10</td>\n",
              "      <td>0.50</td>\n",
              "      <td>1.00</td>\n",
              "      <td>0.50</td>\n",
              "      <td>UK</td>\n",
              "    </tr>\n",
              "    <tr>\n",
              "      <th>3</th>\n",
              "      <td>2022-04-21</td>\n",
              "      <td>Employee_1</td>\n",
              "      <td>TEAM_1</td>\n",
              "      <td>482.0</td>\n",
              "      <td>0.0</td>\n",
              "      <td>482</td>\n",
              "      <td>129</td>\n",
              "      <td>0.011250</td>\n",
              "      <td>1.0</td>\n",
              "      <td>8</td>\n",
              "      <td>8</td>\n",
              "      <td>0.50</td>\n",
              "      <td>1.00</td>\n",
              "      <td>0.50</td>\n",
              "      <td>UK</td>\n",
              "    </tr>\n",
              "    <tr>\n",
              "      <th>4</th>\n",
              "      <td>2022-04-22</td>\n",
              "      <td>Employee_1</td>\n",
              "      <td>TEAM_1</td>\n",
              "      <td>476.0</td>\n",
              "      <td>0.0</td>\n",
              "      <td>476</td>\n",
              "      <td>117</td>\n",
              "      <td>0.013634</td>\n",
              "      <td>0.8</td>\n",
              "      <td>6</td>\n",
              "      <td>6</td>\n",
              "      <td>0.25</td>\n",
              "      <td>1.00</td>\n",
              "      <td>0.25</td>\n",
              "      <td>UK</td>\n",
              "    </tr>\n",
              "  </tbody>\n",
              "</table>\n",
              "</div>\n",
              "      <button class=\"colab-df-convert\" onclick=\"convertToInteractive('df-0a7b31a3-6ac7-4186-af6a-fdd63142f00a')\"\n",
              "              title=\"Convert this dataframe to an interactive table.\"\n",
              "              style=\"display:none;\">\n",
              "        \n",
              "  <svg xmlns=\"http://www.w3.org/2000/svg\" height=\"24px\"viewBox=\"0 0 24 24\"\n",
              "       width=\"24px\">\n",
              "    <path d=\"M0 0h24v24H0V0z\" fill=\"none\"/>\n",
              "    <path d=\"M18.56 5.44l.94 2.06.94-2.06 2.06-.94-2.06-.94-.94-2.06-.94 2.06-2.06.94zm-11 1L8.5 8.5l.94-2.06 2.06-.94-2.06-.94L8.5 2.5l-.94 2.06-2.06.94zm10 10l.94 2.06.94-2.06 2.06-.94-2.06-.94-.94-2.06-.94 2.06-2.06.94z\"/><path d=\"M17.41 7.96l-1.37-1.37c-.4-.4-.92-.59-1.43-.59-.52 0-1.04.2-1.43.59L10.3 9.45l-7.72 7.72c-.78.78-.78 2.05 0 2.83L4 21.41c.39.39.9.59 1.41.59.51 0 1.02-.2 1.41-.59l7.78-7.78 2.81-2.81c.8-.78.8-2.07 0-2.86zM5.41 20L4 18.59l7.72-7.72 1.47 1.35L5.41 20z\"/>\n",
              "  </svg>\n",
              "      </button>\n",
              "      \n",
              "  <style>\n",
              "    .colab-df-container {\n",
              "      display:flex;\n",
              "      flex-wrap:wrap;\n",
              "      gap: 12px;\n",
              "    }\n",
              "\n",
              "    .colab-df-convert {\n",
              "      background-color: #E8F0FE;\n",
              "      border: none;\n",
              "      border-radius: 50%;\n",
              "      cursor: pointer;\n",
              "      display: none;\n",
              "      fill: #1967D2;\n",
              "      height: 32px;\n",
              "      padding: 0 0 0 0;\n",
              "      width: 32px;\n",
              "    }\n",
              "\n",
              "    .colab-df-convert:hover {\n",
              "      background-color: #E2EBFA;\n",
              "      box-shadow: 0px 1px 2px rgba(60, 64, 67, 0.3), 0px 1px 3px 1px rgba(60, 64, 67, 0.15);\n",
              "      fill: #174EA6;\n",
              "    }\n",
              "\n",
              "    [theme=dark] .colab-df-convert {\n",
              "      background-color: #3B4455;\n",
              "      fill: #D2E3FC;\n",
              "    }\n",
              "\n",
              "    [theme=dark] .colab-df-convert:hover {\n",
              "      background-color: #434B5C;\n",
              "      box-shadow: 0px 1px 3px 1px rgba(0, 0, 0, 0.15);\n",
              "      filter: drop-shadow(0px 1px 2px rgba(0, 0, 0, 0.3));\n",
              "      fill: #FFFFFF;\n",
              "    }\n",
              "  </style>\n",
              "\n",
              "      <script>\n",
              "        const buttonEl =\n",
              "          document.querySelector('#df-0a7b31a3-6ac7-4186-af6a-fdd63142f00a button.colab-df-convert');\n",
              "        buttonEl.style.display =\n",
              "          google.colab.kernel.accessAllowed ? 'block' : 'none';\n",
              "\n",
              "        async function convertToInteractive(key) {\n",
              "          const element = document.querySelector('#df-0a7b31a3-6ac7-4186-af6a-fdd63142f00a');\n",
              "          const dataTable =\n",
              "            await google.colab.kernel.invokeFunction('convertToInteractive',\n",
              "                                                     [key], {});\n",
              "          if (!dataTable) return;\n",
              "\n",
              "          const docLinkHtml = 'Like what you see? Visit the ' +\n",
              "            '<a target=\"_blank\" href=https://colab.research.google.com/notebooks/data_table.ipynb>data table notebook</a>'\n",
              "            + ' to learn more about interactive tables.';\n",
              "          element.innerHTML = '';\n",
              "          dataTable['output_type'] = 'display_data';\n",
              "          await google.colab.output.renderOutput(dataTable, element);\n",
              "          const docLink = document.createElement('div');\n",
              "          docLink.innerHTML = docLinkHtml;\n",
              "          element.appendChild(docLink);\n",
              "        }\n",
              "      </script>\n",
              "    </div>\n",
              "  </div>\n",
              "  "
            ]
          },
          "metadata": {},
          "execution_count": 71
        }
      ],
      "source": [
        "# UK\n",
        "filename = 'Raw_Excel_Files/UK.xlsx'\n",
        "uk = pd.read_excel(filename, index_col=None, header=0)\n",
        "\n",
        "\n",
        "# add a column 'Country' to diferentiate the data in the consilidated dataframe\n",
        "uk['Country']= 'UK'\n",
        "\n",
        "# check dataframe shape, dimensions after adding the new column\n",
        "print('Dataframe Shape: ', uk.shape)\n",
        "print('nb of columns: ', len(uk.columns))\n",
        "print('nb of rows: ', len(uk))\n",
        "\n",
        "# print column names \n",
        "print('column names: ', uk.columns)\n",
        "\n",
        "# visualize first rows\n",
        "uk.head()"
      ]
    },
    {
      "cell_type": "code",
      "execution_count": null,
      "metadata": {
        "id": "4Ux4Edm3urZV"
      },
      "outputs": [],
      "source": [
        "# save uk df as an excel in the Processed_Files folder\n",
        "\n",
        "uk.to_excel(\"Processed_Files/uk_df.xlsx\",\n",
        "             sheet_name='UK') "
      ]
    },
    {
      "cell_type": "code",
      "source": [
        "# and now in Processed_Files folder you'll have the new excel file \"uk_df.xlsx\" that you just created \n",
        "os.listdir('Processed_Files')"
      ],
      "metadata": {
        "colab": {
          "base_uri": "https://localhost:8080/"
        },
        "id": "ELjUGJ9cOSH4",
        "outputId": "cb119867-575f-499f-ff4b-2d9d4ef611c1"
      },
      "execution_count": null,
      "outputs": [
        {
          "output_type": "execute_result",
          "data": {
            "text/plain": [
              "['uk_df.xlsx']"
            ]
          },
          "metadata": {},
          "execution_count": 73
        }
      ]
    },
    {
      "cell_type": "markdown",
      "metadata": {
        "id": "oVUypWR__dfa"
      },
      "source": [
        "## Single excel file with separate sheet by country"
      ]
    },
    {
      "cell_type": "markdown",
      "metadata": {
        "id": "1PfPXAglA_5-"
      },
      "source": [
        "Create an excel file where country would be on a separate sheet"
      ]
    },
    {
      "cell_type": "code",
      "execution_count": null,
      "metadata": {
        "id": "m9lLicSB_rER"
      },
      "outputs": [],
      "source": [
        "# create excel writer in the Processed_Files folder with the name 'Consolidation_by_sheet'\n",
        "writer = pd.ExcelWriter('Processed_Files/Consolidated_by_sheet.xlsx')\n",
        "# write dataframe to excel sheet named 'marks'\n",
        "uk.to_excel(writer, 'UK')\n",
        "fr.to_excel(writer, 'FR')\n",
        "de.to_excel(writer, 'DE')\n",
        "\n",
        "# - > !!!! save and close the excel file (important)\n",
        "writer.save()\n",
        "writer.close()"
      ]
    },
    {
      "cell_type": "code",
      "source": [
        "# and now in Processed_Files folder you'll have the new excel file \"Consolidated_by_sheet.xlsx\" that you just created \n",
        "os.listdir('Processed_Files')"
      ],
      "metadata": {
        "colab": {
          "base_uri": "https://localhost:8080/"
        },
        "id": "MoPSu6oXO_WE",
        "outputId": "bab0c77f-0d8e-43bd-e53d-23574abf4452"
      },
      "execution_count": null,
      "outputs": [
        {
          "output_type": "execute_result",
          "data": {
            "text/plain": [
              "['uk_df.xlsx', 'Consolidated_by_sheet.xlsx']"
            ]
          },
          "metadata": {},
          "execution_count": 75
        }
      ]
    },
    {
      "cell_type": "markdown",
      "metadata": {
        "id": "RyLObXdTBH1N"
      },
      "source": [
        "## Consolidate all excels into a single excel sheet"
      ]
    },
    {
      "cell_type": "code",
      "execution_count": null,
      "metadata": {
        "id": "qWGHukDy_dfb",
        "colab": {
          "base_uri": "https://localhost:8080/",
          "height": 409
        },
        "outputId": "b55faf92-e683-42f3-cdde-776fe964a207"
      },
      "outputs": [
        {
          "output_type": "stream",
          "name": "stdout",
          "text": [
            "(1209, 34)\n"
          ]
        },
        {
          "output_type": "execute_result",
          "data": {
            "text/plain": [
              "        Date        Name Mannschaft  Rohe Präsenz (min)  Pause (Minuten)  \\\n",
              "0 2022-04-12  Employee_1     TEAM_1               102.0              0.0   \n",
              "1 2022-04-13  Employee_1     TEAM_1               299.0              0.0   \n",
              "2 2022-04-19  Employee_1     TEAM_1               478.0              0.0   \n",
              "3 2022-04-20  Employee_1     TEAM_1               427.0              0.0   \n",
              "4 2022-04-21  Employee_1     TEAM_1               482.0              0.0   \n",
              "\n",
              "   Nettopräsenz (Min.)  Behandlung (min)       DMT  Productiviy  \\\n",
              "0                102.0               4.0  00:02:08          0.6   \n",
              "1                299.0             168.0  00:42:00          0.4   \n",
              "2                478.0             275.0  00:16:12          2.0   \n",
              "3                427.0             142.0  00:12:56          1.4   \n",
              "4                482.0             129.0  00:16:12          1.0   \n",
              "\n",
              "   Processed tickets  Closed Tickets  FTE (processed)  FTE (presence)  \\\n",
              "0                2.0             1.0             0.00            0.25   \n",
              "1                4.0             2.0             0.50            0.75   \n",
              "2               17.0            16.0             0.75            1.00   \n",
              "3               11.0            10.0             0.50            1.00   \n",
              "4                8.0             8.0             0.50            1.00   \n",
              "\n",
              "   FTE weighted Country Nom/Prénom EQUIPE  Présence brute (min)  Pause (min)  \\\n",
              "0          0.00      DE        NaN    NaN                   NaN          NaN   \n",
              "1          0.50      DE        NaN    NaN                   NaN          NaN   \n",
              "2          0.75      DE        NaN    NaN                   NaN          NaN   \n",
              "3          0.50      DE        NaN    NaN                   NaN          NaN   \n",
              "4          0.50      DE        NaN    NaN                   NaN          NaN   \n",
              "\n",
              "   Présente nette (min)  Traitement (min)  Productivité horaire  \\\n",
              "0                   NaN               NaN                   NaN   \n",
              "1                   NaN               NaN                   NaN   \n",
              "2                   NaN               NaN                   NaN   \n",
              "3                   NaN               NaN                   NaN   \n",
              "4                   NaN               NaN                   NaN   \n",
              "\n",
              "   Tickets traités  Tickets clos  FTE (traitement)  FTE (présence)  \\\n",
              "0              NaN           NaN               NaN             NaN   \n",
              "1              NaN           NaN               NaN             NaN   \n",
              "2              NaN           NaN               NaN             NaN   \n",
              "3              NaN           NaN               NaN             NaN   \n",
              "4              NaN           NaN               NaN             NaN   \n",
              "\n",
              "   FTE pondéré Team  Presence  Presence net (min)  Processed (min)  \\\n",
              "0          NaN  NaN       NaN                 NaN              NaN   \n",
              "1          NaN  NaN       NaN                 NaN              NaN   \n",
              "2          NaN  NaN       NaN                 NaN              NaN   \n",
              "3          NaN  NaN       NaN                 NaN              NaN   \n",
              "4          NaN  NaN       NaN                 NaN              NaN   \n",
              "\n",
              "   Productivity hours  Closed tickets  FTE (process)  \n",
              "0                 NaN             NaN            NaN  \n",
              "1                 NaN             NaN            NaN  \n",
              "2                 NaN             NaN            NaN  \n",
              "3                 NaN             NaN            NaN  \n",
              "4                 NaN             NaN            NaN  "
            ],
            "text/html": [
              "\n",
              "  <div id=\"df-4a74a654-da64-437d-9d9b-afaeb318f469\">\n",
              "    <div class=\"colab-df-container\">\n",
              "      <div>\n",
              "<style scoped>\n",
              "    .dataframe tbody tr th:only-of-type {\n",
              "        vertical-align: middle;\n",
              "    }\n",
              "\n",
              "    .dataframe tbody tr th {\n",
              "        vertical-align: top;\n",
              "    }\n",
              "\n",
              "    .dataframe thead th {\n",
              "        text-align: right;\n",
              "    }\n",
              "</style>\n",
              "<table border=\"1\" class=\"dataframe\">\n",
              "  <thead>\n",
              "    <tr style=\"text-align: right;\">\n",
              "      <th></th>\n",
              "      <th>Date</th>\n",
              "      <th>Name</th>\n",
              "      <th>Mannschaft</th>\n",
              "      <th>Rohe Präsenz (min)</th>\n",
              "      <th>Pause (Minuten)</th>\n",
              "      <th>Nettopräsenz (Min.)</th>\n",
              "      <th>Behandlung (min)</th>\n",
              "      <th>DMT</th>\n",
              "      <th>Productiviy</th>\n",
              "      <th>Processed tickets</th>\n",
              "      <th>Closed Tickets</th>\n",
              "      <th>FTE (processed)</th>\n",
              "      <th>FTE (presence)</th>\n",
              "      <th>FTE weighted</th>\n",
              "      <th>Country</th>\n",
              "      <th>Nom/Prénom</th>\n",
              "      <th>EQUIPE</th>\n",
              "      <th>Présence brute (min)</th>\n",
              "      <th>Pause (min)</th>\n",
              "      <th>Présente nette (min)</th>\n",
              "      <th>Traitement (min)</th>\n",
              "      <th>Productivité horaire</th>\n",
              "      <th>Tickets traités</th>\n",
              "      <th>Tickets clos</th>\n",
              "      <th>FTE (traitement)</th>\n",
              "      <th>FTE (présence)</th>\n",
              "      <th>FTE pondéré</th>\n",
              "      <th>Team</th>\n",
              "      <th>Presence</th>\n",
              "      <th>Presence net (min)</th>\n",
              "      <th>Processed (min)</th>\n",
              "      <th>Productivity hours</th>\n",
              "      <th>Closed tickets</th>\n",
              "      <th>FTE (process)</th>\n",
              "    </tr>\n",
              "  </thead>\n",
              "  <tbody>\n",
              "    <tr>\n",
              "      <th>0</th>\n",
              "      <td>2022-04-12</td>\n",
              "      <td>Employee_1</td>\n",
              "      <td>TEAM_1</td>\n",
              "      <td>102.0</td>\n",
              "      <td>0.0</td>\n",
              "      <td>102.0</td>\n",
              "      <td>4.0</td>\n",
              "      <td>00:02:08</td>\n",
              "      <td>0.6</td>\n",
              "      <td>2.0</td>\n",
              "      <td>1.0</td>\n",
              "      <td>0.00</td>\n",
              "      <td>0.25</td>\n",
              "      <td>0.00</td>\n",
              "      <td>DE</td>\n",
              "      <td>NaN</td>\n",
              "      <td>NaN</td>\n",
              "      <td>NaN</td>\n",
              "      <td>NaN</td>\n",
              "      <td>NaN</td>\n",
              "      <td>NaN</td>\n",
              "      <td>NaN</td>\n",
              "      <td>NaN</td>\n",
              "      <td>NaN</td>\n",
              "      <td>NaN</td>\n",
              "      <td>NaN</td>\n",
              "      <td>NaN</td>\n",
              "      <td>NaN</td>\n",
              "      <td>NaN</td>\n",
              "      <td>NaN</td>\n",
              "      <td>NaN</td>\n",
              "      <td>NaN</td>\n",
              "      <td>NaN</td>\n",
              "      <td>NaN</td>\n",
              "    </tr>\n",
              "    <tr>\n",
              "      <th>1</th>\n",
              "      <td>2022-04-13</td>\n",
              "      <td>Employee_1</td>\n",
              "      <td>TEAM_1</td>\n",
              "      <td>299.0</td>\n",
              "      <td>0.0</td>\n",
              "      <td>299.0</td>\n",
              "      <td>168.0</td>\n",
              "      <td>00:42:00</td>\n",
              "      <td>0.4</td>\n",
              "      <td>4.0</td>\n",
              "      <td>2.0</td>\n",
              "      <td>0.50</td>\n",
              "      <td>0.75</td>\n",
              "      <td>0.50</td>\n",
              "      <td>DE</td>\n",
              "      <td>NaN</td>\n",
              "      <td>NaN</td>\n",
              "      <td>NaN</td>\n",
              "      <td>NaN</td>\n",
              "      <td>NaN</td>\n",
              "      <td>NaN</td>\n",
              "      <td>NaN</td>\n",
              "      <td>NaN</td>\n",
              "      <td>NaN</td>\n",
              "      <td>NaN</td>\n",
              "      <td>NaN</td>\n",
              "      <td>NaN</td>\n",
              "      <td>NaN</td>\n",
              "      <td>NaN</td>\n",
              "      <td>NaN</td>\n",
              "      <td>NaN</td>\n",
              "      <td>NaN</td>\n",
              "      <td>NaN</td>\n",
              "      <td>NaN</td>\n",
              "    </tr>\n",
              "    <tr>\n",
              "      <th>2</th>\n",
              "      <td>2022-04-19</td>\n",
              "      <td>Employee_1</td>\n",
              "      <td>TEAM_1</td>\n",
              "      <td>478.0</td>\n",
              "      <td>0.0</td>\n",
              "      <td>478.0</td>\n",
              "      <td>275.0</td>\n",
              "      <td>00:16:12</td>\n",
              "      <td>2.0</td>\n",
              "      <td>17.0</td>\n",
              "      <td>16.0</td>\n",
              "      <td>0.75</td>\n",
              "      <td>1.00</td>\n",
              "      <td>0.75</td>\n",
              "      <td>DE</td>\n",
              "      <td>NaN</td>\n",
              "      <td>NaN</td>\n",
              "      <td>NaN</td>\n",
              "      <td>NaN</td>\n",
              "      <td>NaN</td>\n",
              "      <td>NaN</td>\n",
              "      <td>NaN</td>\n",
              "      <td>NaN</td>\n",
              "      <td>NaN</td>\n",
              "      <td>NaN</td>\n",
              "      <td>NaN</td>\n",
              "      <td>NaN</td>\n",
              "      <td>NaN</td>\n",
              "      <td>NaN</td>\n",
              "      <td>NaN</td>\n",
              "      <td>NaN</td>\n",
              "      <td>NaN</td>\n",
              "      <td>NaN</td>\n",
              "      <td>NaN</td>\n",
              "    </tr>\n",
              "    <tr>\n",
              "      <th>3</th>\n",
              "      <td>2022-04-20</td>\n",
              "      <td>Employee_1</td>\n",
              "      <td>TEAM_1</td>\n",
              "      <td>427.0</td>\n",
              "      <td>0.0</td>\n",
              "      <td>427.0</td>\n",
              "      <td>142.0</td>\n",
              "      <td>00:12:56</td>\n",
              "      <td>1.4</td>\n",
              "      <td>11.0</td>\n",
              "      <td>10.0</td>\n",
              "      <td>0.50</td>\n",
              "      <td>1.00</td>\n",
              "      <td>0.50</td>\n",
              "      <td>DE</td>\n",
              "      <td>NaN</td>\n",
              "      <td>NaN</td>\n",
              "      <td>NaN</td>\n",
              "      <td>NaN</td>\n",
              "      <td>NaN</td>\n",
              "      <td>NaN</td>\n",
              "      <td>NaN</td>\n",
              "      <td>NaN</td>\n",
              "      <td>NaN</td>\n",
              "      <td>NaN</td>\n",
              "      <td>NaN</td>\n",
              "      <td>NaN</td>\n",
              "      <td>NaN</td>\n",
              "      <td>NaN</td>\n",
              "      <td>NaN</td>\n",
              "      <td>NaN</td>\n",
              "      <td>NaN</td>\n",
              "      <td>NaN</td>\n",
              "      <td>NaN</td>\n",
              "    </tr>\n",
              "    <tr>\n",
              "      <th>4</th>\n",
              "      <td>2022-04-21</td>\n",
              "      <td>Employee_1</td>\n",
              "      <td>TEAM_1</td>\n",
              "      <td>482.0</td>\n",
              "      <td>0.0</td>\n",
              "      <td>482.0</td>\n",
              "      <td>129.0</td>\n",
              "      <td>00:16:12</td>\n",
              "      <td>1.0</td>\n",
              "      <td>8.0</td>\n",
              "      <td>8.0</td>\n",
              "      <td>0.50</td>\n",
              "      <td>1.00</td>\n",
              "      <td>0.50</td>\n",
              "      <td>DE</td>\n",
              "      <td>NaN</td>\n",
              "      <td>NaN</td>\n",
              "      <td>NaN</td>\n",
              "      <td>NaN</td>\n",
              "      <td>NaN</td>\n",
              "      <td>NaN</td>\n",
              "      <td>NaN</td>\n",
              "      <td>NaN</td>\n",
              "      <td>NaN</td>\n",
              "      <td>NaN</td>\n",
              "      <td>NaN</td>\n",
              "      <td>NaN</td>\n",
              "      <td>NaN</td>\n",
              "      <td>NaN</td>\n",
              "      <td>NaN</td>\n",
              "      <td>NaN</td>\n",
              "      <td>NaN</td>\n",
              "      <td>NaN</td>\n",
              "      <td>NaN</td>\n",
              "    </tr>\n",
              "  </tbody>\n",
              "</table>\n",
              "</div>\n",
              "      <button class=\"colab-df-convert\" onclick=\"convertToInteractive('df-4a74a654-da64-437d-9d9b-afaeb318f469')\"\n",
              "              title=\"Convert this dataframe to an interactive table.\"\n",
              "              style=\"display:none;\">\n",
              "        \n",
              "  <svg xmlns=\"http://www.w3.org/2000/svg\" height=\"24px\"viewBox=\"0 0 24 24\"\n",
              "       width=\"24px\">\n",
              "    <path d=\"M0 0h24v24H0V0z\" fill=\"none\"/>\n",
              "    <path d=\"M18.56 5.44l.94 2.06.94-2.06 2.06-.94-2.06-.94-.94-2.06-.94 2.06-2.06.94zm-11 1L8.5 8.5l.94-2.06 2.06-.94-2.06-.94L8.5 2.5l-.94 2.06-2.06.94zm10 10l.94 2.06.94-2.06 2.06-.94-2.06-.94-.94-2.06-.94 2.06-2.06.94z\"/><path d=\"M17.41 7.96l-1.37-1.37c-.4-.4-.92-.59-1.43-.59-.52 0-1.04.2-1.43.59L10.3 9.45l-7.72 7.72c-.78.78-.78 2.05 0 2.83L4 21.41c.39.39.9.59 1.41.59.51 0 1.02-.2 1.41-.59l7.78-7.78 2.81-2.81c.8-.78.8-2.07 0-2.86zM5.41 20L4 18.59l7.72-7.72 1.47 1.35L5.41 20z\"/>\n",
              "  </svg>\n",
              "      </button>\n",
              "      \n",
              "  <style>\n",
              "    .colab-df-container {\n",
              "      display:flex;\n",
              "      flex-wrap:wrap;\n",
              "      gap: 12px;\n",
              "    }\n",
              "\n",
              "    .colab-df-convert {\n",
              "      background-color: #E8F0FE;\n",
              "      border: none;\n",
              "      border-radius: 50%;\n",
              "      cursor: pointer;\n",
              "      display: none;\n",
              "      fill: #1967D2;\n",
              "      height: 32px;\n",
              "      padding: 0 0 0 0;\n",
              "      width: 32px;\n",
              "    }\n",
              "\n",
              "    .colab-df-convert:hover {\n",
              "      background-color: #E2EBFA;\n",
              "      box-shadow: 0px 1px 2px rgba(60, 64, 67, 0.3), 0px 1px 3px 1px rgba(60, 64, 67, 0.15);\n",
              "      fill: #174EA6;\n",
              "    }\n",
              "\n",
              "    [theme=dark] .colab-df-convert {\n",
              "      background-color: #3B4455;\n",
              "      fill: #D2E3FC;\n",
              "    }\n",
              "\n",
              "    [theme=dark] .colab-df-convert:hover {\n",
              "      background-color: #434B5C;\n",
              "      box-shadow: 0px 1px 3px 1px rgba(0, 0, 0, 0.15);\n",
              "      filter: drop-shadow(0px 1px 2px rgba(0, 0, 0, 0.3));\n",
              "      fill: #FFFFFF;\n",
              "    }\n",
              "  </style>\n",
              "\n",
              "      <script>\n",
              "        const buttonEl =\n",
              "          document.querySelector('#df-4a74a654-da64-437d-9d9b-afaeb318f469 button.colab-df-convert');\n",
              "        buttonEl.style.display =\n",
              "          google.colab.kernel.accessAllowed ? 'block' : 'none';\n",
              "\n",
              "        async function convertToInteractive(key) {\n",
              "          const element = document.querySelector('#df-4a74a654-da64-437d-9d9b-afaeb318f469');\n",
              "          const dataTable =\n",
              "            await google.colab.kernel.invokeFunction('convertToInteractive',\n",
              "                                                     [key], {});\n",
              "          if (!dataTable) return;\n",
              "\n",
              "          const docLinkHtml = 'Like what you see? Visit the ' +\n",
              "            '<a target=\"_blank\" href=https://colab.research.google.com/notebooks/data_table.ipynb>data table notebook</a>'\n",
              "            + ' to learn more about interactive tables.';\n",
              "          element.innerHTML = '';\n",
              "          dataTable['output_type'] = 'display_data';\n",
              "          await google.colab.output.renderOutput(dataTable, element);\n",
              "          const docLink = document.createElement('div');\n",
              "          docLink.innerHTML = docLinkHtml;\n",
              "          element.appendChild(docLink);\n",
              "        }\n",
              "      </script>\n",
              "    </div>\n",
              "  </div>\n",
              "  "
            ]
          },
          "metadata": {},
          "execution_count": 76
        }
      ],
      "source": [
        "frames = [de, fr, uk]\n",
        "\n",
        "df_concat = pd.concat(frames)\n",
        "\n",
        "print(df_concat.shape)\n",
        "\n",
        "# display first rows\n",
        "df_concat.head()"
      ]
    },
    {
      "cell_type": "code",
      "execution_count": null,
      "metadata": {
        "id": "uCKOn1kI_dfb",
        "colab": {
          "base_uri": "https://localhost:8080/",
          "height": 392
        },
        "outputId": "0d6669ab-f1b3-4099-fd21-aff517a21093"
      },
      "outputs": [
        {
          "output_type": "execute_result",
          "data": {
            "text/plain": [
              "          Date         Name Mannschaft  Rohe Präsenz (min)  Pause (Minuten)  \\\n",
              "264 2022-04-14  Employee_24        NaN                 NaN              NaN   \n",
              "265 2022-04-24  Employee_24        NaN                 NaN              NaN   \n",
              "266 2022-04-29  Employee_24        NaN                 NaN              NaN   \n",
              "267 2022-04-24  Employee_25        NaN                 NaN              NaN   \n",
              "268 2022-04-29  Employee_26        NaN                 NaN              NaN   \n",
              "\n",
              "     Nettopräsenz (Min.)  Behandlung (min)       DMT  Productiviy  \\\n",
              "264                  NaN               NaN       NaN          NaN   \n",
              "265                  NaN               NaN  0.008461          NaN   \n",
              "266                  NaN               NaN  0.003194          NaN   \n",
              "267                  NaN               NaN  0.008461          NaN   \n",
              "268                  NaN               NaN  0.003194          NaN   \n",
              "\n",
              "     Processed tickets  Closed Tickets  FTE (processed)  FTE (presence)  \\\n",
              "264                0.0             NaN              NaN             0.5   \n",
              "265                3.0             NaN              NaN             0.5   \n",
              "266               14.0             NaN              NaN             1.0   \n",
              "267                3.0             NaN              NaN             0.5   \n",
              "268               14.0             NaN              NaN             1.0   \n",
              "\n",
              "     FTE weighted Country Nom/Prénom EQUIPE  Présence brute (min)  \\\n",
              "264          0.00      UK        NaN    NaN                   NaN   \n",
              "265          0.00      UK        NaN    NaN                   NaN   \n",
              "266          0.25      UK        NaN    NaN                   NaN   \n",
              "267          0.00      UK        NaN    NaN                   NaN   \n",
              "268          0.25      UK        NaN    NaN                   NaN   \n",
              "\n",
              "     Pause (min)  Présente nette (min)  Traitement (min)  \\\n",
              "264          0.0                   NaN               NaN   \n",
              "265          0.0                   NaN               NaN   \n",
              "266          0.0                   NaN               NaN   \n",
              "267          0.0                   NaN               NaN   \n",
              "268          0.0                   NaN               NaN   \n",
              "\n",
              "     Productivité horaire  Tickets traités  Tickets clos  FTE (traitement)  \\\n",
              "264                   NaN              NaN           NaN               NaN   \n",
              "265                   NaN              NaN           NaN               NaN   \n",
              "266                   NaN              NaN           NaN               NaN   \n",
              "267                   NaN              NaN           NaN               NaN   \n",
              "268                   NaN              NaN           NaN               NaN   \n",
              "\n",
              "     FTE (présence)  FTE pondéré    Team  Presence  Presence net (min)  \\\n",
              "264             NaN          NaN  TEAM_4    123.00               123.0   \n",
              "265             NaN          NaN  TEAM_4    184.00               184.0   \n",
              "266             NaN          NaN  TEAM_4    441.00               441.0   \n",
              "267             NaN          NaN  TEAM_5      1.60               184.0   \n",
              "268             NaN          NaN  TEAM_5      3.41               441.0   \n",
              "\n",
              "     Processed (min)  Productivity hours  Closed tickets  FTE (process)  \n",
              "264              0.0                 0.0             0.0           0.00  \n",
              "265             36.0                 1.3             3.0           0.00  \n",
              "266             64.0                 1.5            11.0           0.25  \n",
              "267             36.0                 1.3             3.0           0.00  \n",
              "268             64.0                 1.5            11.0           0.25  "
            ],
            "text/html": [
              "\n",
              "  <div id=\"df-dc1a0678-cee1-4575-a783-1b932ac1be58\">\n",
              "    <div class=\"colab-df-container\">\n",
              "      <div>\n",
              "<style scoped>\n",
              "    .dataframe tbody tr th:only-of-type {\n",
              "        vertical-align: middle;\n",
              "    }\n",
              "\n",
              "    .dataframe tbody tr th {\n",
              "        vertical-align: top;\n",
              "    }\n",
              "\n",
              "    .dataframe thead th {\n",
              "        text-align: right;\n",
              "    }\n",
              "</style>\n",
              "<table border=\"1\" class=\"dataframe\">\n",
              "  <thead>\n",
              "    <tr style=\"text-align: right;\">\n",
              "      <th></th>\n",
              "      <th>Date</th>\n",
              "      <th>Name</th>\n",
              "      <th>Mannschaft</th>\n",
              "      <th>Rohe Präsenz (min)</th>\n",
              "      <th>Pause (Minuten)</th>\n",
              "      <th>Nettopräsenz (Min.)</th>\n",
              "      <th>Behandlung (min)</th>\n",
              "      <th>DMT</th>\n",
              "      <th>Productiviy</th>\n",
              "      <th>Processed tickets</th>\n",
              "      <th>Closed Tickets</th>\n",
              "      <th>FTE (processed)</th>\n",
              "      <th>FTE (presence)</th>\n",
              "      <th>FTE weighted</th>\n",
              "      <th>Country</th>\n",
              "      <th>Nom/Prénom</th>\n",
              "      <th>EQUIPE</th>\n",
              "      <th>Présence brute (min)</th>\n",
              "      <th>Pause (min)</th>\n",
              "      <th>Présente nette (min)</th>\n",
              "      <th>Traitement (min)</th>\n",
              "      <th>Productivité horaire</th>\n",
              "      <th>Tickets traités</th>\n",
              "      <th>Tickets clos</th>\n",
              "      <th>FTE (traitement)</th>\n",
              "      <th>FTE (présence)</th>\n",
              "      <th>FTE pondéré</th>\n",
              "      <th>Team</th>\n",
              "      <th>Presence</th>\n",
              "      <th>Presence net (min)</th>\n",
              "      <th>Processed (min)</th>\n",
              "      <th>Productivity hours</th>\n",
              "      <th>Closed tickets</th>\n",
              "      <th>FTE (process)</th>\n",
              "    </tr>\n",
              "  </thead>\n",
              "  <tbody>\n",
              "    <tr>\n",
              "      <th>264</th>\n",
              "      <td>2022-04-14</td>\n",
              "      <td>Employee_24</td>\n",
              "      <td>NaN</td>\n",
              "      <td>NaN</td>\n",
              "      <td>NaN</td>\n",
              "      <td>NaN</td>\n",
              "      <td>NaN</td>\n",
              "      <td>NaN</td>\n",
              "      <td>NaN</td>\n",
              "      <td>0.0</td>\n",
              "      <td>NaN</td>\n",
              "      <td>NaN</td>\n",
              "      <td>0.5</td>\n",
              "      <td>0.00</td>\n",
              "      <td>UK</td>\n",
              "      <td>NaN</td>\n",
              "      <td>NaN</td>\n",
              "      <td>NaN</td>\n",
              "      <td>0.0</td>\n",
              "      <td>NaN</td>\n",
              "      <td>NaN</td>\n",
              "      <td>NaN</td>\n",
              "      <td>NaN</td>\n",
              "      <td>NaN</td>\n",
              "      <td>NaN</td>\n",
              "      <td>NaN</td>\n",
              "      <td>NaN</td>\n",
              "      <td>TEAM_4</td>\n",
              "      <td>123.00</td>\n",
              "      <td>123.0</td>\n",
              "      <td>0.0</td>\n",
              "      <td>0.0</td>\n",
              "      <td>0.0</td>\n",
              "      <td>0.00</td>\n",
              "    </tr>\n",
              "    <tr>\n",
              "      <th>265</th>\n",
              "      <td>2022-04-24</td>\n",
              "      <td>Employee_24</td>\n",
              "      <td>NaN</td>\n",
              "      <td>NaN</td>\n",
              "      <td>NaN</td>\n",
              "      <td>NaN</td>\n",
              "      <td>NaN</td>\n",
              "      <td>0.008461</td>\n",
              "      <td>NaN</td>\n",
              "      <td>3.0</td>\n",
              "      <td>NaN</td>\n",
              "      <td>NaN</td>\n",
              "      <td>0.5</td>\n",
              "      <td>0.00</td>\n",
              "      <td>UK</td>\n",
              "      <td>NaN</td>\n",
              "      <td>NaN</td>\n",
              "      <td>NaN</td>\n",
              "      <td>0.0</td>\n",
              "      <td>NaN</td>\n",
              "      <td>NaN</td>\n",
              "      <td>NaN</td>\n",
              "      <td>NaN</td>\n",
              "      <td>NaN</td>\n",
              "      <td>NaN</td>\n",
              "      <td>NaN</td>\n",
              "      <td>NaN</td>\n",
              "      <td>TEAM_4</td>\n",
              "      <td>184.00</td>\n",
              "      <td>184.0</td>\n",
              "      <td>36.0</td>\n",
              "      <td>1.3</td>\n",
              "      <td>3.0</td>\n",
              "      <td>0.00</td>\n",
              "    </tr>\n",
              "    <tr>\n",
              "      <th>266</th>\n",
              "      <td>2022-04-29</td>\n",
              "      <td>Employee_24</td>\n",
              "      <td>NaN</td>\n",
              "      <td>NaN</td>\n",
              "      <td>NaN</td>\n",
              "      <td>NaN</td>\n",
              "      <td>NaN</td>\n",
              "      <td>0.003194</td>\n",
              "      <td>NaN</td>\n",
              "      <td>14.0</td>\n",
              "      <td>NaN</td>\n",
              "      <td>NaN</td>\n",
              "      <td>1.0</td>\n",
              "      <td>0.25</td>\n",
              "      <td>UK</td>\n",
              "      <td>NaN</td>\n",
              "      <td>NaN</td>\n",
              "      <td>NaN</td>\n",
              "      <td>0.0</td>\n",
              "      <td>NaN</td>\n",
              "      <td>NaN</td>\n",
              "      <td>NaN</td>\n",
              "      <td>NaN</td>\n",
              "      <td>NaN</td>\n",
              "      <td>NaN</td>\n",
              "      <td>NaN</td>\n",
              "      <td>NaN</td>\n",
              "      <td>TEAM_4</td>\n",
              "      <td>441.00</td>\n",
              "      <td>441.0</td>\n",
              "      <td>64.0</td>\n",
              "      <td>1.5</td>\n",
              "      <td>11.0</td>\n",
              "      <td>0.25</td>\n",
              "    </tr>\n",
              "    <tr>\n",
              "      <th>267</th>\n",
              "      <td>2022-04-24</td>\n",
              "      <td>Employee_25</td>\n",
              "      <td>NaN</td>\n",
              "      <td>NaN</td>\n",
              "      <td>NaN</td>\n",
              "      <td>NaN</td>\n",
              "      <td>NaN</td>\n",
              "      <td>0.008461</td>\n",
              "      <td>NaN</td>\n",
              "      <td>3.0</td>\n",
              "      <td>NaN</td>\n",
              "      <td>NaN</td>\n",
              "      <td>0.5</td>\n",
              "      <td>0.00</td>\n",
              "      <td>UK</td>\n",
              "      <td>NaN</td>\n",
              "      <td>NaN</td>\n",
              "      <td>NaN</td>\n",
              "      <td>0.0</td>\n",
              "      <td>NaN</td>\n",
              "      <td>NaN</td>\n",
              "      <td>NaN</td>\n",
              "      <td>NaN</td>\n",
              "      <td>NaN</td>\n",
              "      <td>NaN</td>\n",
              "      <td>NaN</td>\n",
              "      <td>NaN</td>\n",
              "      <td>TEAM_5</td>\n",
              "      <td>1.60</td>\n",
              "      <td>184.0</td>\n",
              "      <td>36.0</td>\n",
              "      <td>1.3</td>\n",
              "      <td>3.0</td>\n",
              "      <td>0.00</td>\n",
              "    </tr>\n",
              "    <tr>\n",
              "      <th>268</th>\n",
              "      <td>2022-04-29</td>\n",
              "      <td>Employee_26</td>\n",
              "      <td>NaN</td>\n",
              "      <td>NaN</td>\n",
              "      <td>NaN</td>\n",
              "      <td>NaN</td>\n",
              "      <td>NaN</td>\n",
              "      <td>0.003194</td>\n",
              "      <td>NaN</td>\n",
              "      <td>14.0</td>\n",
              "      <td>NaN</td>\n",
              "      <td>NaN</td>\n",
              "      <td>1.0</td>\n",
              "      <td>0.25</td>\n",
              "      <td>UK</td>\n",
              "      <td>NaN</td>\n",
              "      <td>NaN</td>\n",
              "      <td>NaN</td>\n",
              "      <td>0.0</td>\n",
              "      <td>NaN</td>\n",
              "      <td>NaN</td>\n",
              "      <td>NaN</td>\n",
              "      <td>NaN</td>\n",
              "      <td>NaN</td>\n",
              "      <td>NaN</td>\n",
              "      <td>NaN</td>\n",
              "      <td>NaN</td>\n",
              "      <td>TEAM_5</td>\n",
              "      <td>3.41</td>\n",
              "      <td>441.0</td>\n",
              "      <td>64.0</td>\n",
              "      <td>1.5</td>\n",
              "      <td>11.0</td>\n",
              "      <td>0.25</td>\n",
              "    </tr>\n",
              "  </tbody>\n",
              "</table>\n",
              "</div>\n",
              "      <button class=\"colab-df-convert\" onclick=\"convertToInteractive('df-dc1a0678-cee1-4575-a783-1b932ac1be58')\"\n",
              "              title=\"Convert this dataframe to an interactive table.\"\n",
              "              style=\"display:none;\">\n",
              "        \n",
              "  <svg xmlns=\"http://www.w3.org/2000/svg\" height=\"24px\"viewBox=\"0 0 24 24\"\n",
              "       width=\"24px\">\n",
              "    <path d=\"M0 0h24v24H0V0z\" fill=\"none\"/>\n",
              "    <path d=\"M18.56 5.44l.94 2.06.94-2.06 2.06-.94-2.06-.94-.94-2.06-.94 2.06-2.06.94zm-11 1L8.5 8.5l.94-2.06 2.06-.94-2.06-.94L8.5 2.5l-.94 2.06-2.06.94zm10 10l.94 2.06.94-2.06 2.06-.94-2.06-.94-.94-2.06-.94 2.06-2.06.94z\"/><path d=\"M17.41 7.96l-1.37-1.37c-.4-.4-.92-.59-1.43-.59-.52 0-1.04.2-1.43.59L10.3 9.45l-7.72 7.72c-.78.78-.78 2.05 0 2.83L4 21.41c.39.39.9.59 1.41.59.51 0 1.02-.2 1.41-.59l7.78-7.78 2.81-2.81c.8-.78.8-2.07 0-2.86zM5.41 20L4 18.59l7.72-7.72 1.47 1.35L5.41 20z\"/>\n",
              "  </svg>\n",
              "      </button>\n",
              "      \n",
              "  <style>\n",
              "    .colab-df-container {\n",
              "      display:flex;\n",
              "      flex-wrap:wrap;\n",
              "      gap: 12px;\n",
              "    }\n",
              "\n",
              "    .colab-df-convert {\n",
              "      background-color: #E8F0FE;\n",
              "      border: none;\n",
              "      border-radius: 50%;\n",
              "      cursor: pointer;\n",
              "      display: none;\n",
              "      fill: #1967D2;\n",
              "      height: 32px;\n",
              "      padding: 0 0 0 0;\n",
              "      width: 32px;\n",
              "    }\n",
              "\n",
              "    .colab-df-convert:hover {\n",
              "      background-color: #E2EBFA;\n",
              "      box-shadow: 0px 1px 2px rgba(60, 64, 67, 0.3), 0px 1px 3px 1px rgba(60, 64, 67, 0.15);\n",
              "      fill: #174EA6;\n",
              "    }\n",
              "\n",
              "    [theme=dark] .colab-df-convert {\n",
              "      background-color: #3B4455;\n",
              "      fill: #D2E3FC;\n",
              "    }\n",
              "\n",
              "    [theme=dark] .colab-df-convert:hover {\n",
              "      background-color: #434B5C;\n",
              "      box-shadow: 0px 1px 3px 1px rgba(0, 0, 0, 0.15);\n",
              "      filter: drop-shadow(0px 1px 2px rgba(0, 0, 0, 0.3));\n",
              "      fill: #FFFFFF;\n",
              "    }\n",
              "  </style>\n",
              "\n",
              "      <script>\n",
              "        const buttonEl =\n",
              "          document.querySelector('#df-dc1a0678-cee1-4575-a783-1b932ac1be58 button.colab-df-convert');\n",
              "        buttonEl.style.display =\n",
              "          google.colab.kernel.accessAllowed ? 'block' : 'none';\n",
              "\n",
              "        async function convertToInteractive(key) {\n",
              "          const element = document.querySelector('#df-dc1a0678-cee1-4575-a783-1b932ac1be58');\n",
              "          const dataTable =\n",
              "            await google.colab.kernel.invokeFunction('convertToInteractive',\n",
              "                                                     [key], {});\n",
              "          if (!dataTable) return;\n",
              "\n",
              "          const docLinkHtml = 'Like what you see? Visit the ' +\n",
              "            '<a target=\"_blank\" href=https://colab.research.google.com/notebooks/data_table.ipynb>data table notebook</a>'\n",
              "            + ' to learn more about interactive tables.';\n",
              "          element.innerHTML = '';\n",
              "          dataTable['output_type'] = 'display_data';\n",
              "          await google.colab.output.renderOutput(dataTable, element);\n",
              "          const docLink = document.createElement('div');\n",
              "          docLink.innerHTML = docLinkHtml;\n",
              "          element.appendChild(docLink);\n",
              "        }\n",
              "      </script>\n",
              "    </div>\n",
              "  </div>\n",
              "  "
            ]
          },
          "metadata": {},
          "execution_count": 77
        }
      ],
      "source": [
        "# diplay last rows\n",
        "df_concat.tail()"
      ]
    },
    {
      "cell_type": "code",
      "execution_count": null,
      "metadata": {
        "id": "t_eBZayU_dfc",
        "colab": {
          "base_uri": "https://localhost:8080/"
        },
        "outputId": "57920208-195c-415c-b8dc-4d988c873877"
      },
      "outputs": [
        {
          "output_type": "stream",
          "name": "stdout",
          "text": [
            "Column nb of DE:  15 Index(['Date', 'Name', 'Mannschaft', 'Rohe Präsenz (min)', 'Pause (Minuten)',\n",
            "       'Nettopräsenz (Min.)', 'Behandlung (min)', 'DMT', 'Productiviy',\n",
            "       'Processed tickets', 'Closed Tickets', 'FTE (processed)',\n",
            "       'FTE (presence)', 'FTE weighted', 'Country'],\n",
            "      dtype='object')\n",
            "Column nb of FR:  15 Index(['Date', 'Nom/Prénom', 'EQUIPE', 'Présence brute (min)', 'Pause (min)',\n",
            "       'Présente nette (min)', 'Traitement (min)', 'DMT',\n",
            "       'Productivité horaire', 'Tickets traités', 'Tickets clos',\n",
            "       'FTE (traitement)', 'FTE (présence)', 'FTE pondéré', 'Country'],\n",
            "      dtype='object')\n",
            "Column nb of UK:  15 Index(['Date', 'Name', 'Team', 'Presence', 'Pause (min)', 'Presence net (min)',\n",
            "       'Processed (min)', 'DMT', 'Productivity hours', 'Processed tickets',\n",
            "       'Closed tickets', 'FTE (process)', 'FTE (presence)', 'FTE weighted',\n",
            "       'Country'],\n",
            "      dtype='object')\n"
          ]
        }
      ],
      "source": [
        "# to consolidate multiple dataframes, there are 3 rules:\n",
        "# they have to have the same nb of columns (here all 3 df have 15 columns)\n",
        "# to concatenate by column names, all df have to have the same column names\n",
        "# the dfs must have same column order\n",
        "\n",
        "print(\"Column nb of DE: \", len(de.columns), de.columns)\n",
        "print(\"Column nb of FR: \", len(fr.columns), fr.columns)\n",
        "print(\"Column nb of UK: \", len(uk.columns), uk.columns)"
      ]
    },
    {
      "cell_type": "code",
      "execution_count": null,
      "metadata": {
        "id": "ncF6rqze_dfc",
        "colab": {
          "base_uri": "https://localhost:8080/"
        },
        "outputId": "85f02562-d9cb-4563-ab28-b89ca9aa5544"
      },
      "outputs": [
        {
          "output_type": "stream",
          "name": "stdout",
          "text": [
            "Column nb of DE:  15 Index(['Date', 'Name', 'Team', 'Presence', 'Pause (min)', 'Presence net (min)',\n",
            "       'Processed (min)', 'DMT', 'Productivity hours', 'Processed tickets',\n",
            "       'Closed tickets', 'FTE (process)', 'FTE (presence)', 'FTE weighted',\n",
            "       'Country'],\n",
            "      dtype='object')\n",
            "Column nb of FR:  15 Index(['Date', 'Name', 'Team', 'Presence', 'Pause (min)', 'Presence net (min)',\n",
            "       'Processed (min)', 'DMT', 'Productivity hours', 'Processed tickets',\n",
            "       'Closed tickets', 'FTE (process)', 'FTE (presence)', 'FTE weighted',\n",
            "       'Country'],\n",
            "      dtype='object')\n",
            "Column nb of UK:  15 Index(['Date', 'Name', 'Team', 'Presence', 'Pause (min)', 'Presence net (min)',\n",
            "       'Processed (min)', 'DMT', 'Productivity hours', 'Processed tickets',\n",
            "       'Closed tickets', 'FTE (process)', 'FTE (presence)', 'FTE weighted',\n",
            "       'Country'],\n",
            "      dtype='object')\n"
          ]
        }
      ],
      "source": [
        "# rename the dfs columns o they would be identical\n",
        "# we will use english column names for all dfs\n",
        "\n",
        "columns = uk.columns\n",
        "\n",
        "fr.columns = columns\n",
        "de.columns = columns\n",
        "\n",
        "print(\"Column nb of DE: \", len(de.columns), de.columns)\n",
        "print(\"Column nb of FR: \", len(fr.columns), fr.columns)\n",
        "print(\"Column nb of UK: \", len(uk.columns), uk.columns)"
      ]
    },
    {
      "cell_type": "code",
      "execution_count": null,
      "metadata": {
        "id": "sLHprNJd_dfd",
        "colab": {
          "base_uri": "https://localhost:8080/",
          "height": 409
        },
        "outputId": "e79d0483-a4f7-476a-b874-6929bb1ffb05"
      },
      "outputs": [
        {
          "output_type": "stream",
          "name": "stdout",
          "text": [
            "(1209, 15)\n"
          ]
        },
        {
          "output_type": "execute_result",
          "data": {
            "text/plain": [
              "        Date        Name    Team  Presence  Pause (min)  Presence net (min)  \\\n",
              "0 2022-04-12  Employee_1  TEAM_1     102.0          0.0                 102   \n",
              "1 2022-04-13  Employee_1  TEAM_1     299.0          0.0                 299   \n",
              "2 2022-04-19  Employee_1  TEAM_1     478.0          0.0                 478   \n",
              "3 2022-04-20  Employee_1  TEAM_1     427.0          0.0                 427   \n",
              "4 2022-04-21  Employee_1  TEAM_1     482.0          0.0                 482   \n",
              "\n",
              "   Processed (min)       DMT  Productivity hours  Processed tickets  \\\n",
              "0                4  00:02:08                 0.6                  2   \n",
              "1              168  00:42:00                 0.4                  4   \n",
              "2              275  00:16:12                 2.0                 17   \n",
              "3              142  00:12:56                 1.4                 11   \n",
              "4              129  00:16:12                 1.0                  8   \n",
              "\n",
              "   Closed tickets  FTE (process)  FTE (presence)  FTE weighted Country  \n",
              "0               1           0.00            0.25          0.00      DE  \n",
              "1               2           0.50            0.75          0.50      DE  \n",
              "2              16           0.75            1.00          0.75      DE  \n",
              "3              10           0.50            1.00          0.50      DE  \n",
              "4               8           0.50            1.00          0.50      DE  "
            ],
            "text/html": [
              "\n",
              "  <div id=\"df-ea8b3623-5b75-453a-86b5-1a2ac9b9852b\">\n",
              "    <div class=\"colab-df-container\">\n",
              "      <div>\n",
              "<style scoped>\n",
              "    .dataframe tbody tr th:only-of-type {\n",
              "        vertical-align: middle;\n",
              "    }\n",
              "\n",
              "    .dataframe tbody tr th {\n",
              "        vertical-align: top;\n",
              "    }\n",
              "\n",
              "    .dataframe thead th {\n",
              "        text-align: right;\n",
              "    }\n",
              "</style>\n",
              "<table border=\"1\" class=\"dataframe\">\n",
              "  <thead>\n",
              "    <tr style=\"text-align: right;\">\n",
              "      <th></th>\n",
              "      <th>Date</th>\n",
              "      <th>Name</th>\n",
              "      <th>Team</th>\n",
              "      <th>Presence</th>\n",
              "      <th>Pause (min)</th>\n",
              "      <th>Presence net (min)</th>\n",
              "      <th>Processed (min)</th>\n",
              "      <th>DMT</th>\n",
              "      <th>Productivity hours</th>\n",
              "      <th>Processed tickets</th>\n",
              "      <th>Closed tickets</th>\n",
              "      <th>FTE (process)</th>\n",
              "      <th>FTE (presence)</th>\n",
              "      <th>FTE weighted</th>\n",
              "      <th>Country</th>\n",
              "    </tr>\n",
              "  </thead>\n",
              "  <tbody>\n",
              "    <tr>\n",
              "      <th>0</th>\n",
              "      <td>2022-04-12</td>\n",
              "      <td>Employee_1</td>\n",
              "      <td>TEAM_1</td>\n",
              "      <td>102.0</td>\n",
              "      <td>0.0</td>\n",
              "      <td>102</td>\n",
              "      <td>4</td>\n",
              "      <td>00:02:08</td>\n",
              "      <td>0.6</td>\n",
              "      <td>2</td>\n",
              "      <td>1</td>\n",
              "      <td>0.00</td>\n",
              "      <td>0.25</td>\n",
              "      <td>0.00</td>\n",
              "      <td>DE</td>\n",
              "    </tr>\n",
              "    <tr>\n",
              "      <th>1</th>\n",
              "      <td>2022-04-13</td>\n",
              "      <td>Employee_1</td>\n",
              "      <td>TEAM_1</td>\n",
              "      <td>299.0</td>\n",
              "      <td>0.0</td>\n",
              "      <td>299</td>\n",
              "      <td>168</td>\n",
              "      <td>00:42:00</td>\n",
              "      <td>0.4</td>\n",
              "      <td>4</td>\n",
              "      <td>2</td>\n",
              "      <td>0.50</td>\n",
              "      <td>0.75</td>\n",
              "      <td>0.50</td>\n",
              "      <td>DE</td>\n",
              "    </tr>\n",
              "    <tr>\n",
              "      <th>2</th>\n",
              "      <td>2022-04-19</td>\n",
              "      <td>Employee_1</td>\n",
              "      <td>TEAM_1</td>\n",
              "      <td>478.0</td>\n",
              "      <td>0.0</td>\n",
              "      <td>478</td>\n",
              "      <td>275</td>\n",
              "      <td>00:16:12</td>\n",
              "      <td>2.0</td>\n",
              "      <td>17</td>\n",
              "      <td>16</td>\n",
              "      <td>0.75</td>\n",
              "      <td>1.00</td>\n",
              "      <td>0.75</td>\n",
              "      <td>DE</td>\n",
              "    </tr>\n",
              "    <tr>\n",
              "      <th>3</th>\n",
              "      <td>2022-04-20</td>\n",
              "      <td>Employee_1</td>\n",
              "      <td>TEAM_1</td>\n",
              "      <td>427.0</td>\n",
              "      <td>0.0</td>\n",
              "      <td>427</td>\n",
              "      <td>142</td>\n",
              "      <td>00:12:56</td>\n",
              "      <td>1.4</td>\n",
              "      <td>11</td>\n",
              "      <td>10</td>\n",
              "      <td>0.50</td>\n",
              "      <td>1.00</td>\n",
              "      <td>0.50</td>\n",
              "      <td>DE</td>\n",
              "    </tr>\n",
              "    <tr>\n",
              "      <th>4</th>\n",
              "      <td>2022-04-21</td>\n",
              "      <td>Employee_1</td>\n",
              "      <td>TEAM_1</td>\n",
              "      <td>482.0</td>\n",
              "      <td>0.0</td>\n",
              "      <td>482</td>\n",
              "      <td>129</td>\n",
              "      <td>00:16:12</td>\n",
              "      <td>1.0</td>\n",
              "      <td>8</td>\n",
              "      <td>8</td>\n",
              "      <td>0.50</td>\n",
              "      <td>1.00</td>\n",
              "      <td>0.50</td>\n",
              "      <td>DE</td>\n",
              "    </tr>\n",
              "  </tbody>\n",
              "</table>\n",
              "</div>\n",
              "      <button class=\"colab-df-convert\" onclick=\"convertToInteractive('df-ea8b3623-5b75-453a-86b5-1a2ac9b9852b')\"\n",
              "              title=\"Convert this dataframe to an interactive table.\"\n",
              "              style=\"display:none;\">\n",
              "        \n",
              "  <svg xmlns=\"http://www.w3.org/2000/svg\" height=\"24px\"viewBox=\"0 0 24 24\"\n",
              "       width=\"24px\">\n",
              "    <path d=\"M0 0h24v24H0V0z\" fill=\"none\"/>\n",
              "    <path d=\"M18.56 5.44l.94 2.06.94-2.06 2.06-.94-2.06-.94-.94-2.06-.94 2.06-2.06.94zm-11 1L8.5 8.5l.94-2.06 2.06-.94-2.06-.94L8.5 2.5l-.94 2.06-2.06.94zm10 10l.94 2.06.94-2.06 2.06-.94-2.06-.94-.94-2.06-.94 2.06-2.06.94z\"/><path d=\"M17.41 7.96l-1.37-1.37c-.4-.4-.92-.59-1.43-.59-.52 0-1.04.2-1.43.59L10.3 9.45l-7.72 7.72c-.78.78-.78 2.05 0 2.83L4 21.41c.39.39.9.59 1.41.59.51 0 1.02-.2 1.41-.59l7.78-7.78 2.81-2.81c.8-.78.8-2.07 0-2.86zM5.41 20L4 18.59l7.72-7.72 1.47 1.35L5.41 20z\"/>\n",
              "  </svg>\n",
              "      </button>\n",
              "      \n",
              "  <style>\n",
              "    .colab-df-container {\n",
              "      display:flex;\n",
              "      flex-wrap:wrap;\n",
              "      gap: 12px;\n",
              "    }\n",
              "\n",
              "    .colab-df-convert {\n",
              "      background-color: #E8F0FE;\n",
              "      border: none;\n",
              "      border-radius: 50%;\n",
              "      cursor: pointer;\n",
              "      display: none;\n",
              "      fill: #1967D2;\n",
              "      height: 32px;\n",
              "      padding: 0 0 0 0;\n",
              "      width: 32px;\n",
              "    }\n",
              "\n",
              "    .colab-df-convert:hover {\n",
              "      background-color: #E2EBFA;\n",
              "      box-shadow: 0px 1px 2px rgba(60, 64, 67, 0.3), 0px 1px 3px 1px rgba(60, 64, 67, 0.15);\n",
              "      fill: #174EA6;\n",
              "    }\n",
              "\n",
              "    [theme=dark] .colab-df-convert {\n",
              "      background-color: #3B4455;\n",
              "      fill: #D2E3FC;\n",
              "    }\n",
              "\n",
              "    [theme=dark] .colab-df-convert:hover {\n",
              "      background-color: #434B5C;\n",
              "      box-shadow: 0px 1px 3px 1px rgba(0, 0, 0, 0.15);\n",
              "      filter: drop-shadow(0px 1px 2px rgba(0, 0, 0, 0.3));\n",
              "      fill: #FFFFFF;\n",
              "    }\n",
              "  </style>\n",
              "\n",
              "      <script>\n",
              "        const buttonEl =\n",
              "          document.querySelector('#df-ea8b3623-5b75-453a-86b5-1a2ac9b9852b button.colab-df-convert');\n",
              "        buttonEl.style.display =\n",
              "          google.colab.kernel.accessAllowed ? 'block' : 'none';\n",
              "\n",
              "        async function convertToInteractive(key) {\n",
              "          const element = document.querySelector('#df-ea8b3623-5b75-453a-86b5-1a2ac9b9852b');\n",
              "          const dataTable =\n",
              "            await google.colab.kernel.invokeFunction('convertToInteractive',\n",
              "                                                     [key], {});\n",
              "          if (!dataTable) return;\n",
              "\n",
              "          const docLinkHtml = 'Like what you see? Visit the ' +\n",
              "            '<a target=\"_blank\" href=https://colab.research.google.com/notebooks/data_table.ipynb>data table notebook</a>'\n",
              "            + ' to learn more about interactive tables.';\n",
              "          element.innerHTML = '';\n",
              "          dataTable['output_type'] = 'display_data';\n",
              "          await google.colab.output.renderOutput(dataTable, element);\n",
              "          const docLink = document.createElement('div');\n",
              "          docLink.innerHTML = docLinkHtml;\n",
              "          element.appendChild(docLink);\n",
              "        }\n",
              "      </script>\n",
              "    </div>\n",
              "  </div>\n",
              "  "
            ]
          },
          "metadata": {},
          "execution_count": 80
        }
      ],
      "source": [
        "# this time the concatenation of dfs is correct\n",
        "\n",
        "df_concat = pd.concat(frames)\n",
        "\n",
        "print(df_concat.shape)\n",
        "df_concat.head()"
      ]
    },
    {
      "cell_type": "code",
      "execution_count": null,
      "metadata": {
        "id": "AY7QuVbE_dfd",
        "colab": {
          "base_uri": "https://localhost:8080/",
          "height": 392
        },
        "outputId": "119b7529-04f1-40a7-861b-39e8de94db0a"
      },
      "outputs": [
        {
          "output_type": "execute_result",
          "data": {
            "text/plain": [
              "          Date         Name    Team  Presence  Pause (min)  \\\n",
              "264 2022-04-14  Employee_24  TEAM_4    123.00          0.0   \n",
              "265 2022-04-24  Employee_24  TEAM_4    184.00          0.0   \n",
              "266 2022-04-29  Employee_24  TEAM_4    441.00          0.0   \n",
              "267 2022-04-24  Employee_25  TEAM_5      1.60          0.0   \n",
              "268 2022-04-29  Employee_26  TEAM_5      3.41          0.0   \n",
              "\n",
              "     Presence net (min)  Processed (min)       DMT  Productivity hours  \\\n",
              "264                 123                0       NaN                 0.0   \n",
              "265                 184               36  0.008461                 1.3   \n",
              "266                 441               64  0.003194                 1.5   \n",
              "267                 184               36  0.008461                 1.3   \n",
              "268                 441               64  0.003194                 1.5   \n",
              "\n",
              "     Processed tickets  Closed tickets  FTE (process)  FTE (presence)  \\\n",
              "264                  0               0           0.00             0.5   \n",
              "265                  3               3           0.00             0.5   \n",
              "266                 14              11           0.25             1.0   \n",
              "267                  3               3           0.00             0.5   \n",
              "268                 14              11           0.25             1.0   \n",
              "\n",
              "     FTE weighted Country  \n",
              "264          0.00      UK  \n",
              "265          0.00      UK  \n",
              "266          0.25      UK  \n",
              "267          0.00      UK  \n",
              "268          0.25      UK  "
            ],
            "text/html": [
              "\n",
              "  <div id=\"df-96448f32-bd51-4b1a-8581-e5665054c26d\">\n",
              "    <div class=\"colab-df-container\">\n",
              "      <div>\n",
              "<style scoped>\n",
              "    .dataframe tbody tr th:only-of-type {\n",
              "        vertical-align: middle;\n",
              "    }\n",
              "\n",
              "    .dataframe tbody tr th {\n",
              "        vertical-align: top;\n",
              "    }\n",
              "\n",
              "    .dataframe thead th {\n",
              "        text-align: right;\n",
              "    }\n",
              "</style>\n",
              "<table border=\"1\" class=\"dataframe\">\n",
              "  <thead>\n",
              "    <tr style=\"text-align: right;\">\n",
              "      <th></th>\n",
              "      <th>Date</th>\n",
              "      <th>Name</th>\n",
              "      <th>Team</th>\n",
              "      <th>Presence</th>\n",
              "      <th>Pause (min)</th>\n",
              "      <th>Presence net (min)</th>\n",
              "      <th>Processed (min)</th>\n",
              "      <th>DMT</th>\n",
              "      <th>Productivity hours</th>\n",
              "      <th>Processed tickets</th>\n",
              "      <th>Closed tickets</th>\n",
              "      <th>FTE (process)</th>\n",
              "      <th>FTE (presence)</th>\n",
              "      <th>FTE weighted</th>\n",
              "      <th>Country</th>\n",
              "    </tr>\n",
              "  </thead>\n",
              "  <tbody>\n",
              "    <tr>\n",
              "      <th>264</th>\n",
              "      <td>2022-04-14</td>\n",
              "      <td>Employee_24</td>\n",
              "      <td>TEAM_4</td>\n",
              "      <td>123.00</td>\n",
              "      <td>0.0</td>\n",
              "      <td>123</td>\n",
              "      <td>0</td>\n",
              "      <td>NaN</td>\n",
              "      <td>0.0</td>\n",
              "      <td>0</td>\n",
              "      <td>0</td>\n",
              "      <td>0.00</td>\n",
              "      <td>0.5</td>\n",
              "      <td>0.00</td>\n",
              "      <td>UK</td>\n",
              "    </tr>\n",
              "    <tr>\n",
              "      <th>265</th>\n",
              "      <td>2022-04-24</td>\n",
              "      <td>Employee_24</td>\n",
              "      <td>TEAM_4</td>\n",
              "      <td>184.00</td>\n",
              "      <td>0.0</td>\n",
              "      <td>184</td>\n",
              "      <td>36</td>\n",
              "      <td>0.008461</td>\n",
              "      <td>1.3</td>\n",
              "      <td>3</td>\n",
              "      <td>3</td>\n",
              "      <td>0.00</td>\n",
              "      <td>0.5</td>\n",
              "      <td>0.00</td>\n",
              "      <td>UK</td>\n",
              "    </tr>\n",
              "    <tr>\n",
              "      <th>266</th>\n",
              "      <td>2022-04-29</td>\n",
              "      <td>Employee_24</td>\n",
              "      <td>TEAM_4</td>\n",
              "      <td>441.00</td>\n",
              "      <td>0.0</td>\n",
              "      <td>441</td>\n",
              "      <td>64</td>\n",
              "      <td>0.003194</td>\n",
              "      <td>1.5</td>\n",
              "      <td>14</td>\n",
              "      <td>11</td>\n",
              "      <td>0.25</td>\n",
              "      <td>1.0</td>\n",
              "      <td>0.25</td>\n",
              "      <td>UK</td>\n",
              "    </tr>\n",
              "    <tr>\n",
              "      <th>267</th>\n",
              "      <td>2022-04-24</td>\n",
              "      <td>Employee_25</td>\n",
              "      <td>TEAM_5</td>\n",
              "      <td>1.60</td>\n",
              "      <td>0.0</td>\n",
              "      <td>184</td>\n",
              "      <td>36</td>\n",
              "      <td>0.008461</td>\n",
              "      <td>1.3</td>\n",
              "      <td>3</td>\n",
              "      <td>3</td>\n",
              "      <td>0.00</td>\n",
              "      <td>0.5</td>\n",
              "      <td>0.00</td>\n",
              "      <td>UK</td>\n",
              "    </tr>\n",
              "    <tr>\n",
              "      <th>268</th>\n",
              "      <td>2022-04-29</td>\n",
              "      <td>Employee_26</td>\n",
              "      <td>TEAM_5</td>\n",
              "      <td>3.41</td>\n",
              "      <td>0.0</td>\n",
              "      <td>441</td>\n",
              "      <td>64</td>\n",
              "      <td>0.003194</td>\n",
              "      <td>1.5</td>\n",
              "      <td>14</td>\n",
              "      <td>11</td>\n",
              "      <td>0.25</td>\n",
              "      <td>1.0</td>\n",
              "      <td>0.25</td>\n",
              "      <td>UK</td>\n",
              "    </tr>\n",
              "  </tbody>\n",
              "</table>\n",
              "</div>\n",
              "      <button class=\"colab-df-convert\" onclick=\"convertToInteractive('df-96448f32-bd51-4b1a-8581-e5665054c26d')\"\n",
              "              title=\"Convert this dataframe to an interactive table.\"\n",
              "              style=\"display:none;\">\n",
              "        \n",
              "  <svg xmlns=\"http://www.w3.org/2000/svg\" height=\"24px\"viewBox=\"0 0 24 24\"\n",
              "       width=\"24px\">\n",
              "    <path d=\"M0 0h24v24H0V0z\" fill=\"none\"/>\n",
              "    <path d=\"M18.56 5.44l.94 2.06.94-2.06 2.06-.94-2.06-.94-.94-2.06-.94 2.06-2.06.94zm-11 1L8.5 8.5l.94-2.06 2.06-.94-2.06-.94L8.5 2.5l-.94 2.06-2.06.94zm10 10l.94 2.06.94-2.06 2.06-.94-2.06-.94-.94-2.06-.94 2.06-2.06.94z\"/><path d=\"M17.41 7.96l-1.37-1.37c-.4-.4-.92-.59-1.43-.59-.52 0-1.04.2-1.43.59L10.3 9.45l-7.72 7.72c-.78.78-.78 2.05 0 2.83L4 21.41c.39.39.9.59 1.41.59.51 0 1.02-.2 1.41-.59l7.78-7.78 2.81-2.81c.8-.78.8-2.07 0-2.86zM5.41 20L4 18.59l7.72-7.72 1.47 1.35L5.41 20z\"/>\n",
              "  </svg>\n",
              "      </button>\n",
              "      \n",
              "  <style>\n",
              "    .colab-df-container {\n",
              "      display:flex;\n",
              "      flex-wrap:wrap;\n",
              "      gap: 12px;\n",
              "    }\n",
              "\n",
              "    .colab-df-convert {\n",
              "      background-color: #E8F0FE;\n",
              "      border: none;\n",
              "      border-radius: 50%;\n",
              "      cursor: pointer;\n",
              "      display: none;\n",
              "      fill: #1967D2;\n",
              "      height: 32px;\n",
              "      padding: 0 0 0 0;\n",
              "      width: 32px;\n",
              "    }\n",
              "\n",
              "    .colab-df-convert:hover {\n",
              "      background-color: #E2EBFA;\n",
              "      box-shadow: 0px 1px 2px rgba(60, 64, 67, 0.3), 0px 1px 3px 1px rgba(60, 64, 67, 0.15);\n",
              "      fill: #174EA6;\n",
              "    }\n",
              "\n",
              "    [theme=dark] .colab-df-convert {\n",
              "      background-color: #3B4455;\n",
              "      fill: #D2E3FC;\n",
              "    }\n",
              "\n",
              "    [theme=dark] .colab-df-convert:hover {\n",
              "      background-color: #434B5C;\n",
              "      box-shadow: 0px 1px 3px 1px rgba(0, 0, 0, 0.15);\n",
              "      filter: drop-shadow(0px 1px 2px rgba(0, 0, 0, 0.3));\n",
              "      fill: #FFFFFF;\n",
              "    }\n",
              "  </style>\n",
              "\n",
              "      <script>\n",
              "        const buttonEl =\n",
              "          document.querySelector('#df-96448f32-bd51-4b1a-8581-e5665054c26d button.colab-df-convert');\n",
              "        buttonEl.style.display =\n",
              "          google.colab.kernel.accessAllowed ? 'block' : 'none';\n",
              "\n",
              "        async function convertToInteractive(key) {\n",
              "          const element = document.querySelector('#df-96448f32-bd51-4b1a-8581-e5665054c26d');\n",
              "          const dataTable =\n",
              "            await google.colab.kernel.invokeFunction('convertToInteractive',\n",
              "                                                     [key], {});\n",
              "          if (!dataTable) return;\n",
              "\n",
              "          const docLinkHtml = 'Like what you see? Visit the ' +\n",
              "            '<a target=\"_blank\" href=https://colab.research.google.com/notebooks/data_table.ipynb>data table notebook</a>'\n",
              "            + ' to learn more about interactive tables.';\n",
              "          element.innerHTML = '';\n",
              "          dataTable['output_type'] = 'display_data';\n",
              "          await google.colab.output.renderOutput(dataTable, element);\n",
              "          const docLink = document.createElement('div');\n",
              "          docLink.innerHTML = docLinkHtml;\n",
              "          element.appendChild(docLink);\n",
              "        }\n",
              "      </script>\n",
              "    </div>\n",
              "  </div>\n",
              "  "
            ]
          },
          "metadata": {},
          "execution_count": 81
        }
      ],
      "source": [
        "# last rows\n",
        "df_concat.tail()"
      ]
    },
    {
      "cell_type": "code",
      "execution_count": null,
      "metadata": {
        "id": "_lWwQnt7_dfd"
      },
      "outputs": [],
      "source": [
        "# create excel writer in the Processed_Files with the name 'Consolidation'\n",
        "writer = pd.ExcelWriter('Processed_Files/Consolidation.xlsx')\n",
        "\n",
        "# write dataframe to excel sheet named 'marks'\n",
        "df_concat.to_excel(writer, 'Consolidation')\n",
        "\n",
        "# save the excel file\n",
        "writer.save()\n",
        "writer.close()"
      ]
    },
    {
      "cell_type": "code",
      "source": [
        "# and now in Processed_Files folder you'll have the new excel file \"Consolidation.xlsx\" that you just created \n",
        "os.listdir('Processed_Files')"
      ],
      "metadata": {
        "colab": {
          "base_uri": "https://localhost:8080/"
        },
        "id": "DPI15it8OxQZ",
        "outputId": "da7558de-bb7a-4556-9d95-422d1233edc0"
      },
      "execution_count": null,
      "outputs": [
        {
          "output_type": "execute_result",
          "data": {
            "text/plain": [
              "['uk_df.xlsx', 'Consolidated_by_sheet.xlsx', 'Consolidation.xlsx']"
            ]
          },
          "metadata": {},
          "execution_count": 83
        }
      ]
    },
    {
      "cell_type": "markdown",
      "source": [
        "# 7.&nbsp;Reorganize Module_2 files"
      ],
      "metadata": {
        "id": "2fPr5VEBQq_2"
      }
    },
    {
      "cell_type": "markdown",
      "source": [
        "Reorganize your file in Drive...\n",
        "Create a new folder Module_2\n",
        "In this folder you want to add the notebook of the Module_2: \n",
        "\n",
        "*   File_Manipulation_Module_2.ipynb\n",
        "*   Raw_Excel_Files folder with thier respectife files\n",
        "*   Processed_Files folder with thier respectife files\n",
        "\n"
      ],
      "metadata": {
        "id": "ry4QXVI1RHx9"
      }
    },
    {
      "cell_type": "code",
      "source": [
        "# First: \n",
        "# write the path to the \"Raw_Files\" sub_directory\n",
        "folder = cwd + '/' + 'Module_2' # == > /content/gdrive/MyDrive/Module_2\n",
        "print(folder)\n",
        "\n",
        "# create the folder at the indicated path\n",
        "os.makedirs(folder) # create an empty folder called << Module_2 >>"
      ],
      "metadata": {
        "colab": {
          "base_uri": "https://localhost:8080/"
        },
        "id": "4HvQn5JhQgrb",
        "outputId": "7e0fd2a6-94ad-4f89-bcb0-4e555dbefd62"
      },
      "execution_count": null,
      "outputs": [
        {
          "output_type": "stream",
          "name": "stdout",
          "text": [
            "/content/gdrive/MyDrive/Module_2\n"
          ]
        }
      ]
    },
    {
      "cell_type": "code",
      "source": [
        "os.listdir('.')"
      ],
      "metadata": {
        "colab": {
          "base_uri": "https://localhost:8080/"
        },
        "id": "Ri_8sh32R_Yv",
        "outputId": "1bb307e7-fcdb-421d-c949-832e8dbbe301"
      },
      "execution_count": null,
      "outputs": [
        {
          "output_type": "execute_result",
          "data": {
            "text/plain": [
              "['Colab Notebooks', 'Raw_Files', 'New_Folder', 'Raw_Excel_Files', 'Module_2']"
            ]
          },
          "metadata": {},
          "execution_count": 59
        }
      ]
    },
    {
      "cell_type": "markdown",
      "source": [
        "Files_Manipulation_Module_2.ipynb"
      ],
      "metadata": {
        "id": "ODVpn4znSkXY"
      }
    },
    {
      "cell_type": "code",
      "source": [
        "# Files_Manipulation_Module_2.ipynb notebook is in Colab Notebooks folder\n",
        "\n",
        "os.listdir('Colab Notebooks')"
      ],
      "metadata": {
        "colab": {
          "base_uri": "https://localhost:8080/"
        },
        "id": "BDO4Z9J0SvbW",
        "outputId": "da93aef6-d165-4d6d-a217-1edcf5b4b9d3"
      },
      "execution_count": null,
      "outputs": [
        {
          "output_type": "execute_result",
          "data": {
            "text/plain": [
              "['Copy of Python_Basics_Module_1_back_up.ipynb',\n",
              " 'Python_Basics_Module_1_back_up.ipynb',\n",
              " 'Copy of Python_Basics_Module_3_back_up.ipynb',\n",
              " 'Files_Manipulation_Module_2_Practice 1.ipynb',\n",
              " 'Copy of Files_Manipulation_Module_2_Practice_1 (1).ipynb',\n",
              " 'Copy of Files_Manipulation_Module_2_Practice_1.ipynb',\n",
              " 'Files_Manipulation_Module_2_Practice_2.ipynb']"
            ]
          },
          "metadata": {},
          "execution_count": 60
        }
      ]
    },
    {
      "cell_type": "code",
      "source": [
        "# destination WHERE we want to copy \n",
        "dest = 'Module_2'\n",
        "\n",
        "# source file : WHAT we want to copy from Colab Notebooks grab File_Manipulation notebook\n",
        "# don't forget to add the extension .ipynb\n",
        "src=  'Colab Notebooks/Files_Manipulation_Module_2.ipynb' \n",
        "\n",
        "#  copy the file from the source <<src>> in the folder we want << dest >>\n",
        "shutil.copy(src, # what file we want to copy, more specifically its path\n",
        "            dest) # path to the folder we want to paste the copied file\n",
        "\n",
        "# check if the notebook was copied in Module_2 folder\n",
        "os.listdir('Module_2')"
      ],
      "metadata": {
        "colab": {
          "base_uri": "https://localhost:8080/",
          "height": 380
        },
        "id": "_grdfCLARHP2",
        "outputId": "8a88a59c-a36e-4152-a5d9-e12fdb3c65cd"
      },
      "execution_count": null,
      "outputs": [
        {
          "output_type": "error",
          "ename": "FileNotFoundError",
          "evalue": "ignored",
          "traceback": [
            "\u001b[0;31m---------------------------------------------------------------------------\u001b[0m",
            "\u001b[0;31mFileNotFoundError\u001b[0m                         Traceback (most recent call last)",
            "\u001b[0;32m<ipython-input-61-57caf758cbfa>\u001b[0m in \u001b[0;36m<module>\u001b[0;34m\u001b[0m\n\u001b[1;32m      7\u001b[0m \u001b[0;34m\u001b[0m\u001b[0m\n\u001b[1;32m      8\u001b[0m \u001b[0;31m#  copy the file from the source <<src>> in the folder we want << dest >>\u001b[0m\u001b[0;34m\u001b[0m\u001b[0;34m\u001b[0m\u001b[0m\n\u001b[0;32m----> 9\u001b[0;31m shutil.copy(src, # what file we want to copy, more specifically its path\n\u001b[0m\u001b[1;32m     10\u001b[0m             dest) # path to the folder we want to paste the copied file\n\u001b[1;32m     11\u001b[0m \u001b[0;34m\u001b[0m\u001b[0m\n",
            "\u001b[0;32m/usr/lib/python3.9/shutil.py\u001b[0m in \u001b[0;36mcopy\u001b[0;34m(src, dst, follow_symlinks)\u001b[0m\n\u001b[1;32m    425\u001b[0m     \u001b[0;32mif\u001b[0m \u001b[0mos\u001b[0m\u001b[0;34m.\u001b[0m\u001b[0mpath\u001b[0m\u001b[0;34m.\u001b[0m\u001b[0misdir\u001b[0m\u001b[0;34m(\u001b[0m\u001b[0mdst\u001b[0m\u001b[0;34m)\u001b[0m\u001b[0;34m:\u001b[0m\u001b[0;34m\u001b[0m\u001b[0;34m\u001b[0m\u001b[0m\n\u001b[1;32m    426\u001b[0m         \u001b[0mdst\u001b[0m \u001b[0;34m=\u001b[0m \u001b[0mos\u001b[0m\u001b[0;34m.\u001b[0m\u001b[0mpath\u001b[0m\u001b[0;34m.\u001b[0m\u001b[0mjoin\u001b[0m\u001b[0;34m(\u001b[0m\u001b[0mdst\u001b[0m\u001b[0;34m,\u001b[0m \u001b[0mos\u001b[0m\u001b[0;34m.\u001b[0m\u001b[0mpath\u001b[0m\u001b[0;34m.\u001b[0m\u001b[0mbasename\u001b[0m\u001b[0;34m(\u001b[0m\u001b[0msrc\u001b[0m\u001b[0;34m)\u001b[0m\u001b[0;34m)\u001b[0m\u001b[0;34m\u001b[0m\u001b[0;34m\u001b[0m\u001b[0m\n\u001b[0;32m--> 427\u001b[0;31m     \u001b[0mcopyfile\u001b[0m\u001b[0;34m(\u001b[0m\u001b[0msrc\u001b[0m\u001b[0;34m,\u001b[0m \u001b[0mdst\u001b[0m\u001b[0;34m,\u001b[0m \u001b[0mfollow_symlinks\u001b[0m\u001b[0;34m=\u001b[0m\u001b[0mfollow_symlinks\u001b[0m\u001b[0;34m)\u001b[0m\u001b[0;34m\u001b[0m\u001b[0;34m\u001b[0m\u001b[0m\n\u001b[0m\u001b[1;32m    428\u001b[0m     \u001b[0mcopymode\u001b[0m\u001b[0;34m(\u001b[0m\u001b[0msrc\u001b[0m\u001b[0;34m,\u001b[0m \u001b[0mdst\u001b[0m\u001b[0;34m,\u001b[0m \u001b[0mfollow_symlinks\u001b[0m\u001b[0;34m=\u001b[0m\u001b[0mfollow_symlinks\u001b[0m\u001b[0;34m)\u001b[0m\u001b[0;34m\u001b[0m\u001b[0;34m\u001b[0m\u001b[0m\n\u001b[1;32m    429\u001b[0m     \u001b[0;32mreturn\u001b[0m \u001b[0mdst\u001b[0m\u001b[0;34m\u001b[0m\u001b[0;34m\u001b[0m\u001b[0m\n",
            "\u001b[0;32m/usr/lib/python3.9/shutil.py\u001b[0m in \u001b[0;36mcopyfile\u001b[0;34m(src, dst, follow_symlinks)\u001b[0m\n\u001b[1;32m    262\u001b[0m         \u001b[0mos\u001b[0m\u001b[0;34m.\u001b[0m\u001b[0msymlink\u001b[0m\u001b[0;34m(\u001b[0m\u001b[0mos\u001b[0m\u001b[0;34m.\u001b[0m\u001b[0mreadlink\u001b[0m\u001b[0;34m(\u001b[0m\u001b[0msrc\u001b[0m\u001b[0;34m)\u001b[0m\u001b[0;34m,\u001b[0m \u001b[0mdst\u001b[0m\u001b[0;34m)\u001b[0m\u001b[0;34m\u001b[0m\u001b[0;34m\u001b[0m\u001b[0m\n\u001b[1;32m    263\u001b[0m     \u001b[0;32melse\u001b[0m\u001b[0;34m:\u001b[0m\u001b[0;34m\u001b[0m\u001b[0;34m\u001b[0m\u001b[0m\n\u001b[0;32m--> 264\u001b[0;31m         \u001b[0;32mwith\u001b[0m \u001b[0mopen\u001b[0m\u001b[0;34m(\u001b[0m\u001b[0msrc\u001b[0m\u001b[0;34m,\u001b[0m \u001b[0;34m'rb'\u001b[0m\u001b[0;34m)\u001b[0m \u001b[0;32mas\u001b[0m \u001b[0mfsrc\u001b[0m\u001b[0;34m:\u001b[0m\u001b[0;34m\u001b[0m\u001b[0;34m\u001b[0m\u001b[0m\n\u001b[0m\u001b[1;32m    265\u001b[0m             \u001b[0;32mtry\u001b[0m\u001b[0;34m:\u001b[0m\u001b[0;34m\u001b[0m\u001b[0;34m\u001b[0m\u001b[0m\n\u001b[1;32m    266\u001b[0m                 \u001b[0;32mwith\u001b[0m \u001b[0mopen\u001b[0m\u001b[0;34m(\u001b[0m\u001b[0mdst\u001b[0m\u001b[0;34m,\u001b[0m \u001b[0;34m'wb'\u001b[0m\u001b[0;34m)\u001b[0m \u001b[0;32mas\u001b[0m \u001b[0mfdst\u001b[0m\u001b[0;34m:\u001b[0m\u001b[0;34m\u001b[0m\u001b[0;34m\u001b[0m\u001b[0m\n",
            "\u001b[0;31mFileNotFoundError\u001b[0m: [Errno 2] No such file or directory: 'Colab Notebooks/Files_Manipulation_Module_2.ipynb'"
          ]
        }
      ]
    },
    {
      "cell_type": "markdown",
      "source": [
        "Processed Files Folder"
      ],
      "metadata": {
        "id": "X6lCI8w6UHFj"
      }
    },
    {
      "cell_type": "code",
      "source": [
        "os.listdir('Module_2')"
      ],
      "metadata": {
        "colab": {
          "base_uri": "https://localhost:8080/"
        },
        "id": "PWC0y_HPUV0V",
        "outputId": "961094ad-09c8-4534-b9ac-a18b93276a7d"
      },
      "execution_count": null,
      "outputs": [
        {
          "output_type": "execute_result",
          "data": {
            "text/plain": [
              "[]"
            ]
          },
          "metadata": {},
          "execution_count": 62
        }
      ]
    },
    {
      "cell_type": "code",
      "source": [
        "# create first a folder Processed Files\n",
        "\n",
        "# write the path to the \"Raw_Files\" sub_directory\n",
        "folder = 'Module_2/Processed_Files' # == > /content/gdrive/MyDrive/Module_2/Processed_Files\n",
        "print(folder)\n",
        "\n",
        "# create the folder at the indicated path\n",
        "os.makedirs(folder) # create an empty folder called << Module_2 >>\n",
        "\n",
        "os.listdir('Module_2')"
      ],
      "metadata": {
        "colab": {
          "base_uri": "https://localhost:8080/"
        },
        "id": "UfbO3OMCW2zp",
        "outputId": "2f660aa2-cd33-4950-9d70-70abb1bcacbd"
      },
      "execution_count": null,
      "outputs": [
        {
          "output_type": "stream",
          "name": "stdout",
          "text": [
            "Module_2/Processed_Files\n"
          ]
        },
        {
          "output_type": "execute_result",
          "data": {
            "text/plain": [
              "['Files_Manipulation_Module_2.ipynb', 'Processed_Files']"
            ]
          },
          "metadata": {},
          "execution_count": 100
        }
      ]
    },
    {
      "cell_type": "code",
      "source": [
        "os.listdir('Module_2')"
      ],
      "metadata": {
        "colab": {
          "base_uri": "https://localhost:8080/"
        },
        "id": "odsfRjprXQly",
        "outputId": "f4863545-e2f8-4129-ccc5-d0a297ac1af0"
      },
      "execution_count": null,
      "outputs": [
        {
          "output_type": "execute_result",
          "data": {
            "text/plain": [
              "['Files_Manipulation_Module_2.ipynb', 'Processed_Files']"
            ]
          },
          "metadata": {},
          "execution_count": 101
        }
      ]
    },
    {
      "cell_type": "code",
      "source": [
        "# dest and source\n",
        "src=  'Processed_Files' # from MyDrive\n",
        "dest = 'Module_2/Processed_Files'\n",
        "\n",
        "# copy the the excel files in 'Processed_Files'\n",
        "shutil.copytree(src, # what file we want to copy, more specifically its path\n",
        "                dest, # path to the folder we want to paste the copied file\n",
        "                dirs_exist_ok=True)  # add dirs_exist_ok=True or remove if you get an error\n",
        "\n",
        "# check if the notebook was copied in Module_2 folder\n",
        "os.listdir('Module_2/Processed_Files')"
      ],
      "metadata": {
        "colab": {
          "base_uri": "https://localhost:8080/"
        },
        "id": "KXAGY_w5ULXe",
        "outputId": "b28550aa-1070-4828-a7ce-1ae42b331b3c"
      },
      "execution_count": null,
      "outputs": [
        {
          "output_type": "execute_result",
          "data": {
            "text/plain": [
              "['uk_df.xlsx', 'Consolidated_by_sheet.xlsx', 'Consolidation.xlsx']"
            ]
          },
          "metadata": {},
          "execution_count": 102
        }
      ]
    },
    {
      "cell_type": "markdown",
      "source": [
        "Raw_Excel_Files"
      ],
      "metadata": {
        "id": "QQV1--rOUL6w"
      }
    },
    {
      "cell_type": "code",
      "source": [
        "# create first a folder Row Files\n",
        "\n",
        "# write the path to the \"Raw_Files\" sub_directory\n",
        "folder = 'Module_2/Raw_Excel_Files' # == > /content/gdrive/MyDrive/Module_2/Raw_Excel_Files\n",
        "print(folder)\n",
        "\n",
        "# create the folder at the indicated path\n",
        "os.makedirs(folder) # create an empty folder called << Module_2 >>\n",
        "\n",
        "os.listdir('Module_2')"
      ],
      "metadata": {
        "colab": {
          "base_uri": "https://localhost:8080/"
        },
        "id": "Yh4-g28HUN7a",
        "outputId": "95e6015b-9d03-4e9a-f92f-a779609b0cf4"
      },
      "execution_count": null,
      "outputs": [
        {
          "output_type": "stream",
          "name": "stdout",
          "text": [
            "Module_2/Raw_Excel_Files\n"
          ]
        },
        {
          "output_type": "execute_result",
          "data": {
            "text/plain": [
              "['Files_Manipulation_Module_2.ipynb', 'Processed_Files', 'Raw_Excel_Files']"
            ]
          },
          "metadata": {},
          "execution_count": 103
        }
      ]
    },
    {
      "cell_type": "code",
      "source": [
        "# dest and source\n",
        "src=  'Raw_Excel_Files' # from MyDrive\n",
        "dest = 'Module_2/Raw_Excel_Files'\n",
        "\n",
        "# copy the the excel files in 'Processed_Files'\n",
        "shutil.copytree( src, dest,  dirs_exist_ok=True)  # add dirs_exist_ok=True or remove if you get an error\n",
        "\n",
        "# check if the notebook was copied in Module_2 folder\n",
        "os.listdir('Module_2/Raw_Excel_Files')"
      ],
      "metadata": {
        "colab": {
          "base_uri": "https://localhost:8080/"
        },
        "id": "124ubcuaYXOe",
        "outputId": "b4758422-b822-4ba6-cca6-f265ee395831"
      },
      "execution_count": null,
      "outputs": [
        {
          "output_type": "execute_result",
          "data": {
            "text/plain": [
              "['UK.xlsx', 'FR.xlsx', 'DE.xlsx', 'UK_old.xlsx']"
            ]
          },
          "metadata": {},
          "execution_count": 104
        }
      ]
    },
    {
      "cell_type": "code",
      "source": [
        "os.listdir('Module_2')"
      ],
      "metadata": {
        "colab": {
          "base_uri": "https://localhost:8080/"
        },
        "id": "KQ8MQOpnalbb",
        "outputId": "54011c27-c22e-4823-a968-7d33f57412d5"
      },
      "execution_count": null,
      "outputs": [
        {
          "output_type": "execute_result",
          "data": {
            "text/plain": [
              "[]"
            ]
          },
          "metadata": {},
          "execution_count": 63
        }
      ]
    },
    {
      "cell_type": "markdown",
      "metadata": {
        "id": "ktm1SmGr_dfe"
      },
      "source": [
        "# 8.&nbsp;Reinitiate original folder"
      ]
    },
    {
      "cell_type": "markdown",
      "metadata": {
        "id": "-p9kawthUCMf"
      },
      "source": [
        "***!!!!!    Execute this section if you are sure you want to remove files/folders !!!!***"
      ]
    },
    {
      "cell_type": "code",
      "source": [
        "os.listdir('/content')"
      ],
      "metadata": {
        "colab": {
          "base_uri": "https://localhost:8080/"
        },
        "id": "zsKtNUYSPeMe",
        "outputId": "af2e0925-fd1f-4d2c-9949-6cb816d1246a"
      },
      "execution_count": null,
      "outputs": [
        {
          "output_type": "execute_result",
          "data": {
            "text/plain": [
              "['.config', 'DE.xlsx', 'UK.xlsx', 'gdrive', 'FR.xlsx', 'sample_data']"
            ]
          },
          "metadata": {},
          "execution_count": 105
        }
      ]
    },
    {
      "cell_type": "code",
      "source": [
        "# remove files from /content\n",
        "\n",
        "os.unlink('/content/UK.xlsx')\n",
        "os.unlink('/content/FR.xlsx')\n",
        "os.unlink('/content/DE.xlsx')"
      ],
      "metadata": {
        "id": "_MIOBUraPdFk"
      },
      "execution_count": null,
      "outputs": []
    },
    {
      "cell_type": "code",
      "execution_count": null,
      "metadata": {
        "id": "klaPBqrQurZZ",
        "colab": {
          "base_uri": "https://localhost:8080/",
          "height": 35
        },
        "outputId": "6908a1a4-7f31-4797-8f5a-0a0112d8ea7c"
      },
      "outputs": [
        {
          "output_type": "execute_result",
          "data": {
            "text/plain": [
              "'/content/gdrive/MyDrive'"
            ],
            "application/vnd.google.colaboratory.intrinsic+json": {
              "type": "string"
            }
          },
          "metadata": {},
          "execution_count": 107
        }
      ],
      "source": [
        "cwd"
      ]
    },
    {
      "cell_type": "code",
      "execution_count": null,
      "metadata": {
        "id": "lcou2vbv_dfe",
        "colab": {
          "base_uri": "https://localhost:8080/"
        },
        "outputId": "8c1a0e9f-f3d8-438c-e7d6-2cc9ff36c6df"
      },
      "outputs": [
        {
          "output_type": "execute_result",
          "data": {
            "text/plain": [
              "['Colab Notebooks',\n",
              " 'Raw_Excel_Files',\n",
              " 'UK.xlsx',\n",
              " 'FR.xlsx',\n",
              " 'DE.xlsx',\n",
              " 'UK_old.xlsx',\n",
              " 'Processed_Files',\n",
              " 'Module_2']"
            ]
          },
          "metadata": {},
          "execution_count": 108
        }
      ],
      "source": [
        "os.listdir('.')"
      ]
    },
    {
      "cell_type": "code",
      "source": [
        "# remove files from cwd\n",
        "\n",
        "os.unlink('UK.xlsx')\n",
        "os.unlink('UK_old.xlsx')\n",
        "os.unlink('FR.xlsx')\n",
        "os.unlink('DE.xlsx')"
      ],
      "metadata": {
        "id": "rRzEag6ePzMr"
      },
      "execution_count": null,
      "outputs": []
    },
    {
      "cell_type": "code",
      "execution_count": null,
      "metadata": {
        "id": "TakbtTKp_dfe",
        "colab": {
          "base_uri": "https://localhost:8080/"
        },
        "outputId": "9056e38e-cc8e-4154-9e28-3e954be3a182"
      },
      "outputs": [
        {
          "output_type": "execute_result",
          "data": {
            "text/plain": [
              "['Colab Notebooks', 'Module_2']"
            ]
          },
          "metadata": {},
          "execution_count": 110
        }
      ],
      "source": [
        "# delete Raw_Excel_Files and 'Processed_Files' to reinitiate the whole folder\n",
        "\n",
        "shutil.rmtree('Processed_Files')\n",
        "shutil.rmtree('Raw_Excel_Files') \n",
        "\n",
        "os.listdir('.')"
      ]
    },
    {
      "cell_type": "code",
      "source": [
        "# remove folder Module_2\n",
        "\n",
        "shutil.rmtree('Module_2') "
      ],
      "metadata": {
        "id": "JNZpxbk3aFXn"
      },
      "execution_count": null,
      "outputs": []
    },
    {
      "cell_type": "code",
      "execution_count": null,
      "metadata": {
        "id": "lsnZqD0xToBn",
        "colab": {
          "base_uri": "https://localhost:8080/"
        },
        "outputId": "3d20509b-2cae-4410-987c-dd457650fad9"
      },
      "outputs": [
        {
          "output_type": "execute_result",
          "data": {
            "text/plain": [
              "['Colab Notebooks']"
            ]
          },
          "metadata": {},
          "execution_count": 112
        }
      ],
      "source": [
        "os.listdir('.')"
      ]
    },
    {
      "cell_type": "code",
      "execution_count": null,
      "metadata": {
        "id": "M8I-m6UGurZa"
      },
      "outputs": [],
      "source": []
    }
  ],
  "metadata": {
    "colab": {
      "provenance": [],
      "toc_visible": true,
      "include_colab_link": true
    },
    "kernelspec": {
      "display_name": "Python 3 (ipykernel)",
      "language": "python",
      "name": "python3"
    },
    "language_info": {
      "codemirror_mode": {
        "name": "ipython",
        "version": 3
      },
      "file_extension": ".py",
      "mimetype": "text/x-python",
      "name": "python",
      "nbconvert_exporter": "python",
      "pygments_lexer": "ipython3",
      "version": "3.9.7"
    },
    "toc-autonumbering": true
  },
  "nbformat": 4,
  "nbformat_minor": 0
}